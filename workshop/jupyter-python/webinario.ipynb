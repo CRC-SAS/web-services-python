{
 "cells": [
  {
   "cell_type": "markdown",
   "metadata": {},
   "source": [
    "# Introducción a uso de API para SISSA\n",
    "\n",
    "## Documentación de acceso programático (API) y ejemplos en lenguaje R\n",
    "\n",
    "#### Daniel Bonhaure (danielbonhaure@gmail.com)\n",
    "#### Santiago Rovere (srovere@gmail.com)\n",
    "#### Guillermo Podestá (gpodesta@rsmas.miami.edu)\n",
    "#### *30 de octubre de 2020*"
   ]
  },
  {
   "cell_type": "markdown",
   "metadata": {
    "colab_type": "text",
    "id": "8TbOz0JJ1DOT"
   },
   "source": [
    "\n",
    "# Introducción\n",
    "\n",
    "El presente documento tiene como propósito proveer algunos ejemplos de uso de la API de SISSA. El público al cual está destinado este documento está conformado por desarrolladores de software, programadores científicos o investigadores interesados en acceder a algunos de los datos del CRC-SAS. En cualquier caso, se asume que el lector tiene conocimientos previos de programación.\n",
    "\n",
    "Este documento contiene solamente ejemplos de algunos de los servicios implementados en la API. Antes de comenzar a leer este documento, se recomienda haber leído previamente alguno de los manuales de referencia con ejemplos en R y Python:\n",
    "\n",
    "* R: https://github.com/CRC-SAS/web-services-R\n",
    "* Python: https://github.com/CRC-SAS/web-services-python\n",
    "\n"
   ]
  },
  {
   "cell_type": "markdown",
   "metadata": {},
   "source": [
    "# Pasos previos\n",
    "\n",
    "En primer lugar, se procederá a la instalación de los paquetes que van a ser necesarios y que no han sido provistos por la instalación estándar de Python. \n"
   ]
  },
  {
   "cell_type": "code",
   "execution_count": null,
   "metadata": {
    "tags": []
   },
   "outputs": [],
   "source": [
    "import sys\n",
    "\n",
    "# Función que permite verificar la existencia de un entorno virtual\n",
    "def is_venv():\n",
    "    return (hasattr(sys, 'real_prefix') or (hasattr(sys, 'base_prefix') and sys.base_prefix != sys.prefix))\n",
    "\n",
    "# Verificar entorno virtual\n",
    "if not is_venv():\n",
    "    print(\"Considere utilizar un entorno virtual. Vea el archivo setup.sh en este mismo repositorio.\")\n",
    "\n",
    "# Instalar modulos necesarios\n",
    "!python -m pip install wheel\n",
    "!python -m pip install setuptools\n",
    "!python -m pip install jupyterlab\n",
    "!python -m pip install netCDF4\n",
    "!python -m pip install python-dateutil\n",
    "!python -m pip install pandas\n",
    "!python -m pip install seaborn\n",
    "!python -m pip install tabulate\n",
    "!python -m pip install requests\n",
    "!python -m pip install statsmodels\n",
    "!python -m pip install https://github.com/matplotlib/basemap/archive/master.zip\n",
    "!python -m pip install ipyleaflet\n",
    "!jupyter labextension install @jupyter-widgets/jupyterlab-manager\n",
    "!jupyter labextension install jupyter-leaflet\n",
    "!jupyter nbextension enable --py --sys-prefix ipyleaflet"
   ]
  },
  {
   "cell_type": "markdown",
   "metadata": {
    "colab_type": "text",
    "id": "AmKISrSC1yy5"
   },
   "source": [
    "Luego definiremos algunas funciones de uso común que nos permitan agilizar la programación. Estas funciones además permitirán que el usuario no tenga que implementar por su cuenta algunas partes del código, por ejemplo la obtención de los datos, la autenticación o la conversión de los datos de salida a un formato que permita una sencilla manipulación subsiguiente de los mismos.\n",
    "\n",
    "Se comenzará por cargar todos los paquetes de Python necesarios para poder ejecutar el código y los ejemplos provistos en adelante.\n"
   ]
  },
  {
   "cell_type": "code",
   "execution_count": 1,
   "metadata": {
    "colab": {},
    "colab_type": "code",
    "id": "K2RtVSTA-RkL"
   },
   "outputs": [],
   "source": [
    "# Carga de paquetes Python necesarios para hacer los requests a la API y graficar resultados\n",
    "import pathlib\n",
    "import dateutil\n",
    "import dateutil.parser\n",
    "import pandas.testing\n",
    "import pandas.plotting\n",
    "import requests\n",
    "import requests.auth\n",
    "import seaborn\n",
    "import datetime\n",
    "import calendar\n",
    "import os\n",
    "import netCDF4\n",
    "import json\n",
    "import math\n",
    "import numpy as np\n",
    "import pandas as pd\n",
    "import matplotlib.cm\n",
    "import matplotlib.pyplot as plt\n",
    "import matplotlib.dates as mdates\n",
    "import matplotlib.patches as mpatches\n",
    "import ipyleaflet\n",
    "import statsmodels.api as sm\n",
    "from mpl_toolkits.basemap import Basemap\n",
    "from IPython.display import HTML"
   ]
  },
  {
   "cell_type": "markdown",
   "metadata": {},
   "source": [
    "Luego, indicaremos al paquete `matplotlib` que los gráficos van a ser generados en un notebook."
   ]
  },
  {
   "cell_type": "code",
   "execution_count": 2,
   "metadata": {},
   "outputs": [],
   "source": [
    "%matplotlib inline  "
   ]
  },
  {
   "cell_type": "markdown",
   "metadata": {},
   "source": [
    "A continuación, definiremos un set de funciones útiles en lenguaje Python que le permitirán al usuario acceder a la API de una forma más sencilla, sin tener que detenerse en detalles como la autenticación o la conversión de datos devueltos."
   ]
  },
  {
   "cell_type": "code",
   "execution_count": 3,
   "metadata": {
    "colab": {},
    "colab_type": "code",
    "id": "dyD_PM9Nn7Lk"
   },
   "outputs": [],
   "source": [
    "# Definición de funciones globales, en lenguaje Python.\n",
    "# Función para acceder a un servicio web definido por una URL utilizando el método GET.\n",
    "# Devuelve la respuesta como un pandas.DataFrame.\n",
    "def consumir_servicio_GET(url, usuario, clave):\n",
    "    respuesta = requests.get(url=url, auth=requests.auth.HTTPBasicAuth(usuario, clave))\n",
    "    return respuesta\n",
    "\n",
    "\n",
    "# Función para acceder a un servicio web definido por una URL utilizando el método POST.\n",
    "# Devuelve la respuesta como un pandas.DataFrame.    \n",
    "def consumir_servicio_POST(url, usuario, clave, data):\n",
    "    respuesta = requests.post(url=url, data=data, auth=requests.auth.HTTPBasicAuth(usuario, clave))\n",
    "    return respuesta\n",
    "\n",
    "\n",
    "# Función para acceder a un servicio web definido por una URL utilizando\n",
    "# un usuario y clave.\n",
    "# Asumiendo que la respuesta es un string JSON, se hace la conversión\n",
    "# de este string a un Data Frame.\n",
    "def consumir_servicio_JSON(url, usuario, clave):\n",
    "    respuesta = consumir_servicio_GET(url, usuario, clave)\n",
    "    return pandas.json_normalize(respuesta.json())\n",
    "\n",
    "\n",
    "# Función para acceder a un servicio web definido por una URL utilizando un usuario y clave.\n",
    "# Se envía un archivo GeoJSON para realizar la consulta en un área determinada.\n",
    "# La respuesta se devuelve con un objeto de tipo raster.\n",
    "def consumir_servicio_espacial(url, usuario, clave, archivo_geojson_zona, raster_var_tag):\n",
    "    # a. Obtener datos y guardarlos en un archivo temporal (en memoria)\n",
    "    zona_geojson = pathlib.Path(archivo_geojson_zona).read_text()\n",
    "    respuesta = consumir_servicio_POST(url, usuario, clave, json.dumps({'zona.geojson': zona_geojson}))\n",
    "\n",
    "    # b. En lugar de abrir y leer un archivo, se leen los bytes recibidos\n",
    "    archivo_nc = netCDF4.Dataset(\"in-mem-file\", mode=\"r\", memory=respuesta.content)\n",
    "\n",
    "    # c. Obtener CRS y fechas del NetCDF\n",
    "    nc_prj4string = archivo_nc.crs\n",
    "    nc_start_date = np.array([dateutil.parser.isoparse(archivo_nc.start_date)])\n",
    "    nc_variable = archivo_nc.variables.get('time')\n",
    "    nc_fechas = netCDF4.num2date(nc_variable[:].flatten(), nc_variable.units) if nc_variable else nc_start_date\n",
    "    nc_rasters = archivo_nc.variables.get(raster_var_tag)[:]  # rasters como variables netcdf\n",
    "\n",
    "    # d. Borrar archivo temporal, liberar memoria\n",
    "    archivo_nc.close()\n",
    "\n",
    "    return nc_fechas, nc_rasters  # los rasters se devuelven como variables netcdf\n",
    "\n",
    "\n",
    "# Funciones para el manejo de péntadas\n",
    "# Determina a qué pentada del año corresponde una fecha (1-72)\n",
    "def fecha_a_pentada_año(fecha: datetime):\n",
    "    dia = fecha.day\n",
    "    mes = fecha.month\n",
    "    pentada_mes = 6 if dia > 25 else ( (dia - 1) // 5 ) + 1\n",
    "    return int(pentada_mes + 6 * (mes - 1))\n",
    "\n",
    "\n",
    "# Determina a qué pentada del mes corresponde una fecha (1-6)\n",
    "def fecha_a_pentada_mes(fecha: datetime):\n",
    "  pentada_año = fecha_a_pentada_año(fecha)\n",
    "  return int(((pentada_año - 1) % 6) + 1)\n",
    "\n",
    "\n",
    "# Devuelve la fecha de inicio de una péntada de un añó determinado\n",
    "def pentada_año_a_fecha_inicio(pentada_año: int, año: int):\n",
    "    pentada_mes = ((pentada_año - 1) % 6) + 1\n",
    "    dia = 1 + 5 * (pentada_mes - 1)\n",
    "    mes = ((pentada_año - 1) // 6) + 1\n",
    "    return datetime.datetime(int(año), int(mes), int(dia))\n",
    "\n",
    "\n",
    "# Obtener la fecha de inicio de péntada de una fecha determinada\n",
    "def fecha_inicio_pentada(fecha: datetime):\n",
    "   pentada_mes = fecha_a_pentada_mes(fecha)\n",
    "   dia_inicio = 1 + 5 * (pentada_mes - 1)\n",
    "   return datetime.datetime(fecha.year, fecha.month, int(dia_inicio))\n",
    "\n",
    "\n",
    "# Obtener la fecha de fin de péntada de una fecha determinada\n",
    "def fecha_fin_pentada(fecha: datetime):\n",
    "    pentada_mes = fecha_a_pentada_mes(fecha)\n",
    "    _, days_in_month = calendar.monthrange(fecha.year, fecha.month)\n",
    "    dia_fin = 5 + 5 * (pentada_mes - 1) if pentada_mes < 6 else days_in_month\n",
    "    return datetime.datetime(fecha.year, fecha.month, int(dia_fin))\n"
   ]
  },
  {
   "cell_type": "markdown",
   "metadata": {
    "colab_type": "text",
    "id": "hV_K3MpIoS0d"
   },
   "source": [
    "Además, a efecto de poder probar los ejemplos de esta documentación, se definen las siguientes variables (los datos de usuario y clave se encuentran ocultos por cuestiones de seguridad y deberán ser solicitados a las instituciones miembros del CRC-SAS):"
   ]
  },
  {
   "cell_type": "code",
   "execution_count": 4,
   "metadata": {
    "colab": {},
    "colab_type": "code",
    "id": "kYkZnhByoZYl"
   },
   "outputs": [],
   "source": [
    "base_url        = 'https://api.crc-sas.org/ws-api'\n",
    "usuario_default = 'generico'\n",
    "clave_default   = 'gen141co'"
   ]
  },
  {
   "cell_type": "markdown",
   "metadata": {},
   "source": [
    "La variable *base.url* representa la dirección URL base (Uniform Resource Locator [8]) común a todos los servicios. Cada servicio está unívocamente identificado por una URL que se construye a partir de la URL base y una ruta (o ubicación) asociada al mismo. Esta construcción se hace mediante la concatenación de la URL base y la ruta. Cada servicio asociado a un conjunto de datos puede ser identificado unívocamente por una ruta. Las diferentes rutas se describen más abajo. A modo de ejemplo, para acceder al servicio de datos sobre estaciones se tomará la URL base provisoria (https://api.crc-sas.org/ws-api) y se la concatenará con la ruta de dicho servicio (/estaciones) resultando en la URL completa para este servicio (https://api.crc-sas.org/ws-api/estaciones). Las variables *usuario.default* y *clave.default* son las credenciales de acceso necesarias para poder realizar la autenticación y obtener los datos buscados.\n",
    "\n",
    "![Estructura de la URL](img/Estructura_URL.PNG)"
   ]
  },
  {
   "cell_type": "markdown",
   "metadata": {
    "colab_type": "text",
    "id": "vfVvQDrVowiP"
   },
   "source": [
    "## Casos de uso\n",
    "\n",
    "A continuación se presentarán algunos problemas comunes y realistas a fin de ilustrar el uso de la API. Debe tenerse en cuenta que la elaboración de gráficos y mapas no forma parte del uso de la API, pero es parte necesaria para darle sentido al ejemplo."
   ]
  },
  {
   "cell_type": "markdown",
   "metadata": {
    "colab_type": "text",
    "id": "mV-FKYYto6BG"
   },
   "source": [
    "### __Problema 1__: Geolocalizar todas las estaciones meteorológicas de Argentina en un mapa. Identificar la estación Pehuajó (ID OMM 87544) y todas las estaciones geográficamente vecinas que se encuentren dentro de un radio de 300 kilómetros.\n",
    "\n",
    "Comenzamos por realizar la búsqueda de estaciones a través de la API. Esta es la porción de código correspondiente a la ejecución del servicio.\n"
   ]
  },
  {
   "cell_type": "code",
   "execution_count": 20,
   "metadata": {
    "colab": {
     "base_uri": "https://localhost:8080/",
     "height": 252
    },
    "colab_type": "code",
    "id": "HeO-PwQoosMY",
    "outputId": "8a9e3b8c-c1f0-4b09-b61d-d93f5665817f",
    "tags": []
   },
   "outputs": [
    {
     "data": {
      "text/html": [
       "<div>\n",
       "<style scoped>\n",
       "    .dataframe tbody tr th:only-of-type {\n",
       "        vertical-align: middle;\n",
       "    }\n",
       "\n",
       "    .dataframe tbody tr th {\n",
       "        vertical-align: top;\n",
       "    }\n",
       "\n",
       "    .dataframe thead th {\n",
       "        text-align: right;\n",
       "    }\n",
       "</style>\n",
       "<table border=\"1\" class=\"dataframe\">\n",
       "  <thead>\n",
       "    <tr style=\"text-align: right;\">\n",
       "      <th>omm_id</th>\n",
       "      <th>nombre</th>\n",
       "      <th>latitud</th>\n",
       "      <th>longitud</th>\n",
       "      <th>elevacion</th>\n",
       "      <th>nivel_adm1</th>\n",
       "      <th>nivel_adm2</th>\n",
       "      <th>tipo</th>\n",
       "    </tr>\n",
       "  </thead>\n",
       "  <tbody>\n",
       "    <tr>\n",
       "      <td>87484</td>\n",
       "      <td>Pergamino INTA</td>\n",
       "      <td>-33.9300</td>\n",
       "      <td>-60.5500</td>\n",
       "      <td>65.0</td>\n",
       "      <td>Buenos Aires</td>\n",
       "      <td>Pergamino</td>\n",
       "      <td>Vecina</td>\n",
       "    </tr>\n",
       "    <tr>\n",
       "      <td>87537</td>\n",
       "      <td>General Villegas INTA</td>\n",
       "      <td>-34.9200</td>\n",
       "      <td>-62.7300</td>\n",
       "      <td>117.0</td>\n",
       "      <td>Buenos Aires</td>\n",
       "      <td>General Villegas</td>\n",
       "      <td>Vecina</td>\n",
       "    </tr>\n",
       "    <tr>\n",
       "      <td>87624</td>\n",
       "      <td>Anguil INTA</td>\n",
       "      <td>-36.5000</td>\n",
       "      <td>-63.9800</td>\n",
       "      <td>165.0</td>\n",
       "      <td>La Pampa</td>\n",
       "      <td>Capital</td>\n",
       "      <td>Vecina</td>\n",
       "    </tr>\n",
       "    <tr>\n",
       "      <td>87468</td>\n",
       "      <td>Venado Tuerto</td>\n",
       "      <td>-33.6823</td>\n",
       "      <td>-61.9614</td>\n",
       "      <td>113.0</td>\n",
       "      <td>Santa Fe</td>\n",
       "      <td>General López</td>\n",
       "      <td>Vecina</td>\n",
       "    </tr>\n",
       "    <tr>\n",
       "      <td>87532</td>\n",
       "      <td>General Pico Aero</td>\n",
       "      <td>-35.6882</td>\n",
       "      <td>-63.7595</td>\n",
       "      <td>145.0</td>\n",
       "      <td>La Pampa</td>\n",
       "      <td>Maracó</td>\n",
       "      <td>Vecina</td>\n",
       "    </tr>\n",
       "    <tr>\n",
       "      <td>87534</td>\n",
       "      <td>Laboulaye Aero</td>\n",
       "      <td>-34.1278</td>\n",
       "      <td>-63.3676</td>\n",
       "      <td>137.0</td>\n",
       "      <td>Córdoba</td>\n",
       "      <td>Presidente Roque Sáenz Peña</td>\n",
       "      <td>Vecina</td>\n",
       "    </tr>\n",
       "    <tr>\n",
       "      <td>87540</td>\n",
       "      <td>Trenque Lauquen</td>\n",
       "      <td>-35.9690</td>\n",
       "      <td>-62.7261</td>\n",
       "      <td>95.0</td>\n",
       "      <td>Buenos Aires</td>\n",
       "      <td>Trenque Lauquen</td>\n",
       "      <td>Vecina</td>\n",
       "    </tr>\n",
       "    <tr>\n",
       "      <td>87544</td>\n",
       "      <td>Pehuajó Aero</td>\n",
       "      <td>-35.8407</td>\n",
       "      <td>-61.8598</td>\n",
       "      <td>87.0</td>\n",
       "      <td>Buenos Aires</td>\n",
       "      <td>Pehuajó</td>\n",
       "      <td>Central</td>\n",
       "    </tr>\n",
       "    <tr>\n",
       "      <td>87548</td>\n",
       "      <td>Junín Aero</td>\n",
       "      <td>-34.5525</td>\n",
       "      <td>-60.9313</td>\n",
       "      <td>81.0</td>\n",
       "      <td>Buenos Aires</td>\n",
       "      <td>Junín</td>\n",
       "      <td>Vecina</td>\n",
       "    </tr>\n",
       "    <tr>\n",
       "      <td>87550</td>\n",
       "      <td>Nueve de Julio</td>\n",
       "      <td>-35.4390</td>\n",
       "      <td>-60.8819</td>\n",
       "      <td>76.0</td>\n",
       "      <td>Buenos Aires</td>\n",
       "      <td>Nueve de Julio</td>\n",
       "      <td>Vecina</td>\n",
       "    </tr>\n",
       "    <tr>\n",
       "      <td>87623</td>\n",
       "      <td>Santa Rosa Aero</td>\n",
       "      <td>-36.5932</td>\n",
       "      <td>-64.2800</td>\n",
       "      <td>191.0</td>\n",
       "      <td>La Pampa</td>\n",
       "      <td>Capital</td>\n",
       "      <td>Vecina</td>\n",
       "    </tr>\n",
       "    <tr>\n",
       "      <td>87637</td>\n",
       "      <td>Coronel Suárez Aero</td>\n",
       "      <td>-37.4533</td>\n",
       "      <td>-61.8907</td>\n",
       "      <td>233.0</td>\n",
       "      <td>Buenos Aires</td>\n",
       "      <td>Coronel Suárez</td>\n",
       "      <td>Vecina</td>\n",
       "    </tr>\n",
       "    <tr>\n",
       "      <td>87641</td>\n",
       "      <td>Azul Aero</td>\n",
       "      <td>-36.8320</td>\n",
       "      <td>-59.8864</td>\n",
       "      <td>147.0</td>\n",
       "      <td>Buenos Aires</td>\n",
       "      <td>Azul</td>\n",
       "      <td>Vecina</td>\n",
       "    </tr>\n",
       "    <tr>\n",
       "      <td>87643</td>\n",
       "      <td>Olavarría Aero</td>\n",
       "      <td>-36.8906</td>\n",
       "      <td>-60.2228</td>\n",
       "      <td>166.0</td>\n",
       "      <td>Buenos Aires</td>\n",
       "      <td>Olavarría</td>\n",
       "      <td>Vecina</td>\n",
       "    </tr>\n",
       "    <tr>\n",
       "      <td>87645</td>\n",
       "      <td>Tandil Aero</td>\n",
       "      <td>-37.2412</td>\n",
       "      <td>-59.2332</td>\n",
       "      <td>175.0</td>\n",
       "      <td>Buenos Aires</td>\n",
       "      <td>Tandil</td>\n",
       "      <td>Vecina</td>\n",
       "    </tr>\n",
       "    <tr>\n",
       "      <td>87649</td>\n",
       "      <td>Benito Juárez Aero</td>\n",
       "      <td>-37.7013</td>\n",
       "      <td>-59.7911</td>\n",
       "      <td>207.0</td>\n",
       "      <td>Buenos Aires</td>\n",
       "      <td>Benito Juárez</td>\n",
       "      <td>Vecina</td>\n",
       "    </tr>\n",
       "    <tr>\n",
       "      <td>87679</td>\n",
       "      <td>Pigüé Aero</td>\n",
       "      <td>-37.6082</td>\n",
       "      <td>-62.3865</td>\n",
       "      <td>304.0</td>\n",
       "      <td>Buenos Aires</td>\n",
       "      <td>Saavedra</td>\n",
       "      <td>Vecina</td>\n",
       "    </tr>\n",
       "    <tr>\n",
       "      <td>87683</td>\n",
       "      <td>Coronel Pringles Aero</td>\n",
       "      <td>-38.0043</td>\n",
       "      <td>-61.3300</td>\n",
       "      <td>247.0</td>\n",
       "      <td>Buenos Aires</td>\n",
       "      <td>Coronel Pringles</td>\n",
       "      <td>Vecina</td>\n",
       "    </tr>\n",
       "    <tr>\n",
       "      <td>87563</td>\n",
       "      <td>Las Flores Aero</td>\n",
       "      <td>-36.0415</td>\n",
       "      <td>-59.1371</td>\n",
       "      <td>38.0</td>\n",
       "      <td>Buenos Aires</td>\n",
       "      <td>Las Flores</td>\n",
       "      <td>Vecina</td>\n",
       "    </tr>\n",
       "    <tr>\n",
       "      <td>87640</td>\n",
       "      <td>Bolívar Aero</td>\n",
       "      <td>-36.1864</td>\n",
       "      <td>-61.0727</td>\n",
       "      <td>94.0</td>\n",
       "      <td>Buenos Aires</td>\n",
       "      <td>Bolívar</td>\n",
       "      <td>Vecina</td>\n",
       "    </tr>\n",
       "    <tr>\n",
       "      <td>87685</td>\n",
       "      <td>Laprida</td>\n",
       "      <td>-37.5700</td>\n",
       "      <td>-60.7700</td>\n",
       "      <td>212.0</td>\n",
       "      <td>Buenos Aires</td>\n",
       "      <td>Laprida</td>\n",
       "      <td>Vecina</td>\n",
       "    </tr>\n",
       "    <tr>\n",
       "      <td>87539</td>\n",
       "      <td>Trenque Lauquen</td>\n",
       "      <td>-35.9692</td>\n",
       "      <td>-62.7262</td>\n",
       "      <td>95.0</td>\n",
       "      <td>Buenos Aires</td>\n",
       "      <td>Trenque Lauquen</td>\n",
       "      <td>Vecina</td>\n",
       "    </tr>\n",
       "    <tr>\n",
       "      <td>87549</td>\n",
       "      <td>9 de Julio</td>\n",
       "      <td>-35.4391</td>\n",
       "      <td>-60.8819</td>\n",
       "      <td>76.0</td>\n",
       "      <td>Buenos Aires</td>\n",
       "      <td>9 de Julio</td>\n",
       "      <td>Vecina</td>\n",
       "    </tr>\n",
       "    <tr>\n",
       "      <td>87558</td>\n",
       "      <td>Mercedes</td>\n",
       "      <td>-34.6608</td>\n",
       "      <td>-59.4369</td>\n",
       "      <td>40.0</td>\n",
       "      <td>Buenos Aires</td>\n",
       "      <td>Mercedes</td>\n",
       "      <td>Vecina</td>\n",
       "    </tr>\n",
       "    <tr>\n",
       "      <td>87680</td>\n",
       "      <td>San German</td>\n",
       "      <td>-38.2829</td>\n",
       "      <td>-62.9442</td>\n",
       "      <td>187.0</td>\n",
       "      <td>Buenos Aires</td>\n",
       "      <td>San German</td>\n",
       "      <td>Vecina</td>\n",
       "    </tr>\n",
       "    <tr>\n",
       "      <td>80000233</td>\n",
       "      <td>Anguil -EEA Anguil</td>\n",
       "      <td>-36.5400</td>\n",
       "      <td>-63.9900</td>\n",
       "      <td>165.0</td>\n",
       "      <td>La Pampa</td>\n",
       "      <td>Anguil</td>\n",
       "      <td>Vecina</td>\n",
       "    </tr>\n",
       "    <tr>\n",
       "      <td>80000235</td>\n",
       "      <td>Gral San Martin - EEA Anguil</td>\n",
       "      <td>-38.0000</td>\n",
       "      <td>-63.5200</td>\n",
       "      <td>177.9</td>\n",
       "      <td>La Pampa</td>\n",
       "      <td>General San Martin</td>\n",
       "      <td>Vecina</td>\n",
       "    </tr>\n",
       "    <tr>\n",
       "      <td>80000236</td>\n",
       "      <td>Alfonso - EEA Pergamino</td>\n",
       "      <td>-33.9122</td>\n",
       "      <td>-60.8380</td>\n",
       "      <td>80.0</td>\n",
       "      <td>Buenos Aires</td>\n",
       "      <td>Mariano Alfonso</td>\n",
       "      <td>Vecina</td>\n",
       "    </tr>\n",
       "    <tr>\n",
       "      <td>80000237</td>\n",
       "      <td>Arrecifes - EEA Pergamino</td>\n",
       "      <td>-34.0499</td>\n",
       "      <td>-60.1361</td>\n",
       "      <td>36.0</td>\n",
       "      <td>Buenos Aires</td>\n",
       "      <td>Arrecifes</td>\n",
       "      <td>Vecina</td>\n",
       "    </tr>\n",
       "    <tr>\n",
       "      <td>80000238</td>\n",
       "      <td>Ferre - EEA Pergamino</td>\n",
       "      <td>-34.1002</td>\n",
       "      <td>-61.1397</td>\n",
       "      <td>103.0</td>\n",
       "      <td>Buenos Aires</td>\n",
       "      <td>Ferr?</td>\n",
       "      <td>Vecina</td>\n",
       "    </tr>\n",
       "    <tr>\n",
       "      <td>80000243</td>\n",
       "      <td>De La Garma - ICyA CIRN</td>\n",
       "      <td>-37.8361</td>\n",
       "      <td>-60.3927</td>\n",
       "      <td>138.0</td>\n",
       "      <td>Buenos Aires</td>\n",
       "      <td>De La Garma</td>\n",
       "      <td>Vecina</td>\n",
       "    </tr>\n",
       "    <tr>\n",
       "      <td>80000244</td>\n",
       "      <td>Coronel Suarez - EEA Bordenave</td>\n",
       "      <td>-37.4439</td>\n",
       "      <td>-61.9248</td>\n",
       "      <td>237.0</td>\n",
       "      <td>Buenos Aires</td>\n",
       "      <td>Coronel Suarez</td>\n",
       "      <td>Vecina</td>\n",
       "    </tr>\n",
       "    <tr>\n",
       "      <td>80000245</td>\n",
       "      <td>Tornquist - EEA Bordenave</td>\n",
       "      <td>-38.1184</td>\n",
       "      <td>-62.2378</td>\n",
       "      <td>280.0</td>\n",
       "      <td>Buenos Aires</td>\n",
       "      <td>Tornquist</td>\n",
       "      <td>Vecina</td>\n",
       "    </tr>\n",
       "    <tr>\n",
       "      <td>80000254</td>\n",
       "      <td>INTA - 9 de Julio (Imetos)</td>\n",
       "      <td>-35.4607</td>\n",
       "      <td>-60.9494</td>\n",
       "      <td>79.0</td>\n",
       "      <td>Buenos Aires</td>\n",
       "      <td>9 de Julio</td>\n",
       "      <td>Vecina</td>\n",
       "    </tr>\n",
       "    <tr>\n",
       "      <td>80000257</td>\n",
       "      <td>INTA - Alpachiri (Imetos)</td>\n",
       "      <td>-37.3700</td>\n",
       "      <td>-63.7700</td>\n",
       "      <td>145.0</td>\n",
       "      <td>La Pampa</td>\n",
       "      <td>Guatrache</td>\n",
       "      <td>Vecina</td>\n",
       "    </tr>\n",
       "    <tr>\n",
       "      <td>80000264</td>\n",
       "      <td>INTA - San Pedro</td>\n",
       "      <td>-33.7746</td>\n",
       "      <td>-59.7519</td>\n",
       "      <td>33.0</td>\n",
       "      <td>Buenos Aires</td>\n",
       "      <td>San Pedro</td>\n",
       "      <td>Vecina</td>\n",
       "    </tr>\n",
       "    <tr>\n",
       "      <td>80000265</td>\n",
       "      <td>INTA - Pergamino</td>\n",
       "      <td>-33.9448</td>\n",
       "      <td>-60.5778</td>\n",
       "      <td>56.0</td>\n",
       "      <td>Buenos Aires</td>\n",
       "      <td>Pergamino</td>\n",
       "      <td>Vecina</td>\n",
       "    </tr>\n",
       "    <tr>\n",
       "      <td>80000367</td>\n",
       "      <td>Trenque Lauquen - EEA Villegas</td>\n",
       "      <td>-35.9727</td>\n",
       "      <td>-62.7655</td>\n",
       "      <td>57.0</td>\n",
       "      <td>Buenos Aires</td>\n",
       "      <td>Trenque Lauquen</td>\n",
       "      <td>Vecina</td>\n",
       "    </tr>\n",
       "    <tr>\n",
       "      <td>80000401</td>\n",
       "      <td>Cnel Pringles - EEA Bordenave</td>\n",
       "      <td>-37.7417</td>\n",
       "      <td>-61.5254</td>\n",
       "      <td>217.0</td>\n",
       "      <td>Buenos Aires</td>\n",
       "      <td>Coronel Suarez</td>\n",
       "      <td>Vecina</td>\n",
       "    </tr>\n",
       "    <tr>\n",
       "      <td>80000413</td>\n",
       "      <td>25 de Mayo - EEA Pergamino</td>\n",
       "      <td>-35.4794</td>\n",
       "      <td>-60.1267</td>\n",
       "      <td>85.0</td>\n",
       "      <td>Buenos Aires</td>\n",
       "      <td>25 de Mayo</td>\n",
       "      <td>Vecina</td>\n",
       "    </tr>\n",
       "    <tr>\n",
       "      <td>80000473</td>\n",
       "      <td>Rauch - EEA Cuenca Salado</td>\n",
       "      <td>-36.7965</td>\n",
       "      <td>-59.1079</td>\n",
       "      <td>103.0</td>\n",
       "      <td>Buenos Aires</td>\n",
       "      <td>Rauch</td>\n",
       "      <td>Vecina</td>\n",
       "    </tr>\n",
       "    <tr>\n",
       "      <td>80000475</td>\n",
       "      <td>Lincoln - EEA Villegas</td>\n",
       "      <td>-34.8419</td>\n",
       "      <td>-61.6010</td>\n",
       "      <td>109.8</td>\n",
       "      <td>Buenos Aires</td>\n",
       "      <td>General Lincoln</td>\n",
       "      <td>Vecina</td>\n",
       "    </tr>\n",
       "    <tr>\n",
       "      <td>80000476</td>\n",
       "      <td>Cañada Seca - EEA Villegas</td>\n",
       "      <td>-34.5500</td>\n",
       "      <td>-62.9047</td>\n",
       "      <td>127.0</td>\n",
       "      <td>Buenos Aires</td>\n",
       "      <td>Cañada Seca</td>\n",
       "      <td>Vecina</td>\n",
       "    </tr>\n",
       "    <tr>\n",
       "      <td>80000518</td>\n",
       "      <td>Bordenave - EEA Bordenave</td>\n",
       "      <td>-37.7500</td>\n",
       "      <td>-63.0833</td>\n",
       "      <td>202.0</td>\n",
       "      <td>Buenos Aires</td>\n",
       "      <td>Bordenave</td>\n",
       "      <td>Vecina</td>\n",
       "    </tr>\n",
       "    <tr>\n",
       "      <td>80000652</td>\n",
       "      <td>EEA Cesareo Naredo</td>\n",
       "      <td>-36.5000</td>\n",
       "      <td>-62.0000</td>\n",
       "      <td>120.0</td>\n",
       "      <td>Buenos Aires</td>\n",
       "      <td>Guamini</td>\n",
       "      <td>Vecina</td>\n",
       "    </tr>\n",
       "    <tr>\n",
       "      <td>9987001</td>\n",
       "      <td>Bordenave INTA</td>\n",
       "      <td>-37.8500</td>\n",
       "      <td>-63.0200</td>\n",
       "      <td>212.0</td>\n",
       "      <td>Buenos Aires</td>\n",
       "      <td>Puán</td>\n",
       "      <td>Vecina</td>\n",
       "    </tr>\n",
       "    <tr>\n",
       "      <td>9987006</td>\n",
       "      <td>General Pico INTA</td>\n",
       "      <td>-35.6700</td>\n",
       "      <td>-63.7500</td>\n",
       "      <td>143.0</td>\n",
       "      <td>La Pampa</td>\n",
       "      <td>Maracó</td>\n",
       "      <td>Vecina</td>\n",
       "    </tr>\n",
       "    <tr>\n",
       "      <td>9987014</td>\n",
       "      <td>Bragado INTA</td>\n",
       "      <td>-35.1100</td>\n",
       "      <td>-60.4900</td>\n",
       "      <td>50.0</td>\n",
       "      <td>Buenos Aires</td>\n",
       "      <td>Bragado</td>\n",
       "      <td>Vecina</td>\n",
       "    </tr>\n",
       "    <tr>\n",
       "      <td>9987015</td>\n",
       "      <td>Canals INTA</td>\n",
       "      <td>-33.5700</td>\n",
       "      <td>-62.8800</td>\n",
       "      <td>125.0</td>\n",
       "      <td>Córdoba</td>\n",
       "      <td>Unión</td>\n",
       "      <td>Vecina</td>\n",
       "    </tr>\n",
       "  </tbody>\n",
       "</table>\n",
       "</div>"
      ],
      "text/plain": [
       "<IPython.core.display.HTML object>"
      ]
     },
     "execution_count": 20,
     "metadata": {},
     "output_type": "execute_result"
    }
   ],
   "source": [
    "# 1. Búsqueda de estaciones de Argentina (AR, para otros países utilizar el código ISO de 2 letras correspondiente)\n",
    "estaciones = consumir_servicio_JSON(url= base_url + \"/estaciones/AR\", \n",
    "                                    usuario=usuario_default, clave=clave_default)\n",
    "\n",
    "\n",
    "# 2. Búsqueda de estaciones vecinas a Pehuajó (omm_id = 87544).\n",
    "#    Se buscan estaciones dentro de un radio de 300km.\n",
    "omm_central_id = 87544\n",
    "maxima_distancia_km = 300\n",
    "url_vecinas = f\"{base_url}/estaciones_vecinas/{omm_central_id}?max_distancia={maxima_distancia_km}\"\n",
    "estaciones_vecinas = consumir_servicio_JSON(url=url_vecinas, \n",
    "                                            usuario=usuario_default, clave=clave_default)\n",
    "\n",
    "# 3. Indico si la estación es Central (Pehuajó), Vecina u Otra\n",
    "estaciones = estaciones.assign(\n",
    "    tipo=lambda df: df.apply(\n",
    "        lambda x: 'Central' if x['omm_id'] == omm_central_id else 'Vecina' if x['omm_id'] in estaciones_vecinas['omm_id'].values else 'Otra', axis=1)\n",
    ")\n",
    "\n",
    "HTML(estaciones.query('tipo != \"Otra\"').to_html(notebook=True, index=False))\n"
   ]
  },
  {
   "cell_type": "markdown",
   "metadata": {},
   "source": [
    "Una vez obtenidos los datos de estaciones de Argentina y vecinas de Pehuajó a través de la API, se elabora el mapa pedido. En el mismo se marca la estación Pehuajó con un color diferente, así como a sus vecinas."
   ]
  },
  {
   "cell_type": "code",
   "execution_count": 6,
   "metadata": {},
   "outputs": [
    {
     "data": {
      "application/vnd.jupyter.widget-view+json": {
       "model_id": "f4ec472f5919465898df83a57d8543fa",
       "version_major": 2,
       "version_minor": 0
      },
      "text/plain": [
       "Map(center=[-38.5, -64], controls=(ZoomControl(options=['position', 'zoom_in_text', 'zoom_in_title', 'zoom_out…"
      ]
     },
     "metadata": {},
     "output_type": "display_data"
    }
   ],
   "source": [
    "# Graficar con leaflet (no se exporta a html pero funciona en el notebook)\n",
    "m = ipyleaflet.Map(basemap=ipyleaflet.basemaps.CartoDB.Positron, center=[-38.5, -64], zoom=4)\n",
    "\n",
    "for e in estaciones.itertuples():\n",
    "    if e.tipo == \"Central\":\n",
    "        central_circle = ipyleaflet.Circle()\n",
    "        central_circle.location = (e.latitud, e.longitud)\n",
    "        central_circle.radius = 300000\n",
    "        central_circle.weight = 2\n",
    "        m.add_layer(central_circle)\n",
    "    circle = ipyleaflet.Circle()\n",
    "    circle.location = (e.latitud, e.longitud)\n",
    "    circle.radius = 30000\n",
    "    circle.stroke = False\n",
    "    circle.fill_color = 'red' if e.tipo == 'Central' else 'orange' if e.tipo == 'Vecina' else 'green'\n",
    "    circle.fill_opacity = 1.0\n",
    "    m.add_layer(circle)\n",
    "\n",
    "m"
   ]
  },
  {
   "cell_type": "code",
   "execution_count": 21,
   "metadata": {},
   "outputs": [
    {
     "data": {
      "image/png": "[encoded data removed]",
      "text/plain": [
       "<Figure size 432x288 with 1 Axes>"
      ]
     },
     "metadata": {},
     "output_type": "display_data"
    }
   ],
   "source": [
    "# Graficar usando matplotlib\n",
    "ar_lon, ar_lat = -38.5, -64\n",
    "m = Basemap(lon_0=ar_lon, lat_0=ar_lat, epsg=4326,\n",
    "            llcrnrlat=-57, urcrnrlat=-20, llcrnrlon=-75, urcrnrlon=-52)\n",
    "m.drawmapboundary(fill_color='#A6CAE0', linewidth=0)\n",
    "m.fillcontinents(color='grey', alpha=0.7, lake_color='grey')\n",
    "m.drawcoastlines(linewidth=0.1, color=\"white\")\n",
    "m.drawcountries(linestyle='--')\n",
    "\n",
    "for e in estaciones.itertuples():\n",
    "    if e.tipo == \"Central\":\n",
    "        m.tissot(e.longitud, e.latitud, np.rad2deg(300/6367.), 256, facecolor='b', alpha=0.5)\n",
    "    m.plot(e.longitud, e.latitud, linestyle='none', marker=\"o\", markersize=7, alpha=0.6,\n",
    "           c='red' if e.tipo == 'Central' else 'orange' if e.tipo == 'Vecina' else 'green',\n",
    "           markeredgecolor=\"black\", markeredgewidth=1)\n",
    "\n",
    "plt.show()"
   ]
  },
  {
   "cell_type": "markdown",
   "metadata": {},
   "source": [
    "### __Problema 2__: Buscar los valores de precipitación acumulada de 3 meses para los meses de *enero* a *marzo* de la estación Pehuajó. Utilizar el período de referencia 1971-2010 para ajustar una distribución no paramétrica a dichos valores.\n",
    "\n",
    "Comenzamos por buscar los valores de precipitación acumulada de *enero* a *marzo* para Pehuajó (87544) dentro del período de referencia solicitado. Para el caso de la precipitación acumulada debemos buscar el estadístico *Suma* (existen otros estadísticos como la media, la mediana, etc) para un ancho de ventana de 3 meses (lo que equivale a 18 péntadas, que es la unidad mínima de movilidad de la ventana). El servicio devolverá el estadístico *Suma* para la variable de precipitaciones (única variable para la cual se calcula). Posteriormente debemos quedarnos solamente con datos de precipitaciones que comiencen en el 1 de enero y finalicen el 31 de marzo."
   ]
  },
  {
   "cell_type": "code",
   "execution_count": 7,
   "metadata": {},
   "outputs": [],
   "source": [
    "omm_id = 87544\n",
    "ancho_ventana = 18\n",
    "fecha_desde = dateutil.parser.parse(\"1971-01-01\").isoformat()\n",
    "fecha_hasta = dateutil.parser.parse(\"2010-12-31\").isoformat()\n",
    "url_estadisticas = f\"{base_url}/estadisticas_moviles/{omm_id}/Suma/{ancho_ventana}/{fecha_desde}/{fecha_hasta}\"\n",
    "\n",
    "estadisticas = consumir_servicio_JSON(url=url_estadisticas, usuario=usuario_default, clave=clave_default)\n",
    "estadisticas['fecha_desde'] = pd.to_datetime(estadisticas['fecha_desde'])\n",
    "estadisticas['fecha_hasta'] = pd.to_datetime(estadisticas['fecha_hasta'])\n",
    "estadisticas = estadisticas.query('fecha_hasta.dt.month == 3 and fecha_hasta.dt.day == 31')"
   ]
  },
  {
   "cell_type": "markdown",
   "metadata": {},
   "source": [
    "Una vez obtenidos los 40 valores de precipitación acumulada de *enero* a *marzo* para el período de 1971-2010, realizamos el ajuste no paramétrico y generamos los conjuntos de datos necesarios para construir un histograma a partir de los datos originales, la función de densidad ajustada y un QQ-plot para comparar las distribuciones."
   ]
  },
  {
   "cell_type": "code",
   "execution_count": 8,
   "metadata": {},
   "outputs": [],
   "source": [
    "# Datos necesarios para el ajuste\n",
    "tamano_bin = 50  # Ancho de cada intervalo\n",
    "muestra_original = estadisticas['valor'].values\n",
    "\n",
    "# 1. Histograma de datos originales\n",
    "r_hist_counts, r_hist_breaks = np.histogram(muestra_original, bins=range(0, 900+1, tamano_bin))\n",
    "r_hist_mids = 0.5 * (r_hist_breaks[1:] + r_hist_breaks[:-1])\n",
    "\n",
    "# 2. Ajuste no paramétrico y cálculo de función de densidad\n",
    "kde = sm.nonparametric.KDEUnivariate(muestra_original)\n",
    "kde = kde.fit()  # Estimar densidades\n"
   ]
  },
  {
   "cell_type": "markdown",
   "metadata": {},
   "source": [
    "Ahora procedemos a realizar los gráficos"
   ]
  },
  {
   "cell_type": "code",
   "execution_count": 9,
   "metadata": {},
   "outputs": [
    {
     "data": {
      "image/png": "[encoded data removed]",
      "text/plain": [
       "<Figure size 864x360 with 2 Axes>"
      ]
     },
     "metadata": {
      "needs_background": "light"
     },
     "output_type": "display_data"
    }
   ],
   "source": [
    "# Generar gráfico\n",
    "fig = plt.figure(figsize=(12, 5))\n",
    "ax = fig.add_subplot(111)\n",
    "\n",
    "# Graficar el histograma\n",
    "ax.hist(muestra_original, bins=range(0, 900+1, tamano_bin),\n",
    "        zorder=5, color='tomato', edgecolor='k', alpha=0.5)\n",
    "ax.set_ylabel('Frecuencia')\n",
    "ax.set_xlabel('Precipitación acumulada')\n",
    "ax.grid(True, zorder=-5)\n",
    "ax.set_ylim(0, 7)\n",
    "\n",
    "# Graficar la función ajustada\n",
    "ay = ax.twinx()\n",
    "ay.plot(kde.support, kde.density, lw=3, zorder=10, color='black')\n",
    "ay.set_ylabel('Densidad de probabilidad')\n",
    "ay.set_ylim(0, 0.0035)\n",
    "\n",
    "# Leyenda\n",
    "emp_patch = mpatches.Patch(color='tomato', label='Distribución empírica')\n",
    "kde_patch = mpatches.Patch(color='black', label='Distribución ajustada')\n",
    "plt.legend(handles=[emp_patch, kde_patch])\n",
    "\n",
    "plt.show()"
   ]
  },
  {
   "cell_type": "markdown",
   "metadata": {},
   "source": [
    "### __Problema 3__: Obtener las series temporales de SPI-3 para Pehuajó (87544) calculado mediante un ajuste paramétrico de precipitaciones dentro del período de referencia 1971-2010, utilizando el método de máxima verosimilitud sin remuestreo. Graficar la serie para el período 2017-2019.\n",
    "\n",
    "Para iniciar este proceso primero obtenemos el listado de configuraciones de índices y seleccionamos SPI con escala de 3 meses. Encontramos que el ID de configuración es el 43."
   ]
  },
  {
   "cell_type": "code",
   "execution_count": 10,
   "metadata": {
    "tags": []
   },
   "outputs": [
    {
     "data": {
      "text/html": [
       "<div>\n",
       "<style scoped>\n",
       "    .dataframe tbody tr th:only-of-type {\n",
       "        vertical-align: middle;\n",
       "    }\n",
       "\n",
       "    .dataframe tbody tr th {\n",
       "        vertical-align: top;\n",
       "    }\n",
       "\n",
       "    .dataframe thead th {\n",
       "        text-align: right;\n",
       "    }\n",
       "</style>\n",
       "<table border=\"1\" class=\"dataframe\">\n",
       "  <thead>\n",
       "    <tr style=\"text-align: right;\">\n",
       "      <th>id</th>\n",
       "      <th>indice</th>\n",
       "      <th>escala</th>\n",
       "      <th>distribucion</th>\n",
       "      <th>metodo_ajuste</th>\n",
       "      <th>referencia_comienzo</th>\n",
       "      <th>referencia_fin</th>\n",
       "      <th>procesable</th>\n",
       "    </tr>\n",
       "  </thead>\n",
       "  <tbody>\n",
       "    <tr>\n",
       "      <td>3</td>\n",
       "      <td>SPI</td>\n",
       "      <td>3</td>\n",
       "      <td>Gamma</td>\n",
       "      <td>NoParametrico</td>\n",
       "      <td>1971-01-01</td>\n",
       "      <td>2010-12-31</td>\n",
       "      <td>1</td>\n",
       "    </tr>\n",
       "    <tr>\n",
       "      <td>43</td>\n",
       "      <td>SPI</td>\n",
       "      <td>3</td>\n",
       "      <td>Gamma</td>\n",
       "      <td>ML-SinRemuestreo</td>\n",
       "      <td>1971-01-01</td>\n",
       "      <td>2010-12-31</td>\n",
       "      <td>1</td>\n",
       "    </tr>\n",
       "  </tbody>\n",
       "</table>\n",
       "</div>"
      ],
      "text/plain": [
       "<IPython.core.display.HTML object>"
      ]
     },
     "execution_count": 10,
     "metadata": {},
     "output_type": "execute_result"
    }
   ],
   "source": [
    "configuraciones = consumir_servicio_JSON(url=f\"{base_url}/indices_sequia_configuraciones\",\n",
    "                                            usuario=usuario_default, clave=clave_default)\n",
    "# Seleccionar SPI y escala de 3 meses\n",
    "configuraciones = configuraciones.query('indice == \"SPI\" and escala == 3')\n",
    "\n",
    "# Vista de las configuraciones en una tabla\n",
    "HTML(configuraciones.to_html(notebook=True, index=False))"
   ]
  },
  {
   "cell_type": "markdown",
   "metadata": {},
   "source": [
    "Ahora procedemos a buscar la serie temporal de SPI-3 para Pehuajó entre 2017 y 2019."
   ]
  },
  {
   "cell_type": "code",
   "execution_count": 11,
   "metadata": {},
   "outputs": [],
   "source": [
    "omm_id = 87544\n",
    "indice_configuracion_id = 43\n",
    "fecha_desde = dateutil.parser.parse(\"2017-01-01\").isoformat()\n",
    "fecha_hasta = dateutil.parser.parse(\"2019-12-31\").isoformat()\n",
    "url_valores_indice = f\"{base_url}/indices_sequia_valores/{indice_configuracion_id}/\" \\\n",
    "                        f\"{omm_id}/{fecha_desde}/{fecha_hasta}\"\n",
    "serie_temporal_spi = consumir_servicio_JSON(url=url_valores_indice,\n",
    "                                            usuario=usuario_default, clave=clave_default)\n",
    "\n",
    "# Definir la fecha de fin del período a partir del año y la péntada de fin\n",
    "serie_temporal_spi = serie_temporal_spi.assign(\n",
    "    fecha_fin_pentada=lambda df: df.apply(\n",
    "        lambda x: fecha_fin_pentada(pentada_año_a_fecha_inicio(x['pentada_fin'], x['ano'])), axis=1)\n",
    ")"
   ]
  },
  {
   "cell_type": "markdown",
   "metadata": {},
   "source": [
    "Finalmente, se grafican los valores de SPI-3 y los valores de precipitación acumulada que dieron origen a dichos índices."
   ]
  },
  {
   "cell_type": "code",
   "execution_count": 12,
   "metadata": {},
   "outputs": [
    {
     "data": {
      "image/png": "[encoded data removed]",
      "text/plain": [
       "<Figure size 720x216 with 2 Axes>"
      ]
     },
     "metadata": {
      "needs_background": "light"
     },
     "output_type": "display_data"
    }
   ],
   "source": [
    "# Graficar\n",
    "fig, ax = plt.subplots(figsize=(10, 3))\n",
    "\n",
    "seaborn.set_style('whitegrid')\n",
    "\n",
    "# Gráfico de spi\n",
    "ax_spi = seaborn.lineplot(x=serie_temporal_spi.fecha_fin_pentada, y=serie_temporal_spi.valor_indice,\n",
    "                            alpha=1., color='#fc8d62', marker=\"D\", ax=ax)\n",
    "ax_spi.set_ylabel('SPI-3')\n",
    "\n",
    "# Gráfico de precipitación\n",
    "ax_prcp = seaborn.lineplot(x=serie_temporal_spi.fecha_fin_pentada, y=serie_temporal_spi.valor_dato,\n",
    "                            alpha=1., color='#226bb0', ax=ax.twinx())\n",
    "ax_prcp.set_ylabel('Precipitación acumulada')\n",
    "ax_prcp.grid(False)\n",
    "\n",
    "# Labels\n",
    "ax_plt = plt.gca()\n",
    "ax_plt.set_title('SPI-3 para Pehuajó (Buenos Aires, Argentina)', fontsize='large')\n",
    "ax_plt.set_xlabel('Fecha de fin del período')\n",
    "\n",
    "# Legend\n",
    "spi_patch = mpatches.Patch(color='#fc8d62', label='SPI-3')\n",
    "prcp_patch = mpatches.Patch(color='#226bb0', label='Precipitación acumulada')\n",
    "plt.legend(handles=[spi_patch, prcp_patch])\n",
    "\n",
    "plt.show()"
   ]
  },
  {
   "cell_type": "markdown",
   "metadata": {},
   "source": [
    "### __Problema 4__: Obtener el SPI-3 basado en CHIRPS para Uruguay. Los valores de SPI-3 deben corresponder al período enero a marzo de 2019.\n",
    "\n",
    "El primer paso de la resolución consiste en descargar los datos de SPI-3 basados en CHIRPS. Para ello, debemos proveer un archivo GeoJSON que defina el área de interés a fin de acotar la descarga de datos. También debemos definir el período. En este caso, la fecha de inicio es igual a la fecha de fin porque se va a descargar una sola imagen."
   ]
  },
  {
   "cell_type": "code",
   "execution_count": 13,
   "metadata": {},
   "outputs": [],
   "source": [
    "fecha_desde = dateutil.parser.parse(\"2019-03-31\").isoformat()\n",
    "fecha_hasta = dateutil.parser.parse(\"2019-03-31\").isoformat()\n",
    "url_chirps = f\"{base_url}/chirps/spi/3/{fecha_desde}/{fecha_hasta}\"\n",
    "fechas, rasters = consumir_servicio_espacial(url=url_chirps, usuario=usuario_default, clave=clave_default,\n",
    "                                                archivo_geojson_zona=\"data/Uruguay.geojson\", raster_var_tag='spi')"
   ]
  },
  {
   "cell_type": "markdown",
   "metadata": {},
   "source": [
    "Ahora que ya descargamos el *raster* de SPI-3, se puede proyectar el mismo sobre un mapa."
   ]
  },
  {
   "cell_type": "code",
   "execution_count": 14,
   "metadata": {},
   "outputs": [
    {
     "data": {
      "image/png": "[encoded data removed]",
      "text/plain": [
       "<Figure size 432x288 with 1 Axes>"
      ]
     },
     "metadata": {},
     "output_type": "display_data"
    }
   ],
   "source": [
    "# Graficar rasters de CHIRPS.\n",
    "ar_lon, ar_lat = -38.5, -64\n",
    "m = Basemap(lon_0=ar_lon, lat_0=ar_lat, epsg=4326,\n",
    "            llcrnrlat=-57, urcrnrlat=-20, llcrnrlon=-75, urcrnrlon=-52)\n",
    "m.drawmapboundary(fill_color='#A6CAE0', linewidth=0)\n",
    "m.fillcontinents(color='grey', alpha=0.7, lake_color='grey')\n",
    "m.drawcoastlines(linewidth=0.1, color=\"white\")\n",
    "m.drawcountries(linestyle='--')\n",
    "\n",
    "ax = plt.gca()\n",
    "extent = [-58.6, -52.9, -35.15, -30]\n",
    "ax.imshow(rasters[0], extent=extent, vmin=rasters.min(), vmax=rasters.max(), \n",
    "          zorder=3, cmap='viridis')\n",
    "\n",
    "plt.axis('off')\n",
    "plt.show()"
   ]
  },
  {
   "cell_type": "markdown",
   "metadata": {},
   "source": [
    "### __Ejercicio de práctica__: Obtener las series temporales de SPI-3 para Durazno (Uruguay) (86530) y las estaciones geográficamente vecinas dentro de un radio de 150 kilómetros. Buscar los datos de SPI-3 calculado mediante un ajuste no paramétrico de precipitaciones dentro del período de referencia 1971-2010. Graficar las series para el período 2017-2019.\n",
    "\n",
    "Este problema puede verse como una combinación de los problemas (1) y (3) planteados previamente. El primer paso consiste en encontrar las estaciones geográficamente vecinas a Durazno dentro de un radio de 150 kilómetros, para lo cual se procede de la siguiente manera:"
   ]
  },
  {
   "cell_type": "code",
   "execution_count": 15,
   "metadata": {
    "tags": []
   },
   "outputs": [
    {
     "data": {
      "text/html": [
       "<div>\n",
       "<style scoped>\n",
       "    .dataframe tbody tr th:only-of-type {\n",
       "        vertical-align: middle;\n",
       "    }\n",
       "\n",
       "    .dataframe tbody tr th {\n",
       "        vertical-align: top;\n",
       "    }\n",
       "\n",
       "    .dataframe thead th {\n",
       "        text-align: right;\n",
       "    }\n",
       "</style>\n",
       "<table border=\"1\" class=\"dataframe\">\n",
       "  <thead>\n",
       "    <tr style=\"text-align: right;\">\n",
       "      <th>omm_id</th>\n",
       "      <th>nombre</th>\n",
       "    </tr>\n",
       "  </thead>\n",
       "  <tbody>\n",
       "    <tr>\n",
       "      <td>86460</td>\n",
       "      <td>Paso de los Toros</td>\n",
       "    </tr>\n",
       "    <tr>\n",
       "      <td>86545</td>\n",
       "      <td>Florida</td>\n",
       "    </tr>\n",
       "    <tr>\n",
       "      <td>86450</td>\n",
       "      <td>Young</td>\n",
       "    </tr>\n",
       "    <tr>\n",
       "      <td>86490</td>\n",
       "      <td>Mercedes</td>\n",
       "    </tr>\n",
       "    <tr>\n",
       "      <td>90000001</td>\n",
       "      <td>Las Brujas</td>\n",
       "    </tr>\n",
       "    <tr>\n",
       "      <td>86530</td>\n",
       "      <td>Durazno</td>\n",
       "    </tr>\n",
       "  </tbody>\n",
       "</table>\n",
       "</div>"
      ],
      "text/plain": [
       "<IPython.core.display.HTML object>"
      ]
     },
     "execution_count": 15,
     "metadata": {},
     "output_type": "execute_result"
    }
   ],
   "source": [
    "# 1. Búsqueda de estaciones vecinas a Durazno (omm_id = 86530).\n",
    "#    Se buscan estaciones dentro de un radio de 100km.\n",
    "omm_central_id = 86530\n",
    "max_distancia_km = 150\n",
    "url_vecinas = f\"{base_url}/estaciones_vecinas/{omm_central_id}?max_distancia={max_distancia_km}\"\n",
    "estaciones_vecinas = consumir_servicio_JSON(url=f\"{url_vecinas}\",\n",
    "                                            usuario=usuario_default, clave=clave_default)\n",
    "\n",
    "estaciones = estaciones_vecinas[['omm_id', 'nombre']]\\\n",
    "    .append({'omm_id': '86530', 'nombre': 'Durazno'}, ignore_index=True)\n",
    "\n",
    "# Vista de estaciones vecinas en una tabla\n",
    "HTML(estaciones.to_html(notebook=True, index=False))"
   ]
  },
  {
   "cell_type": "markdown",
   "metadata": {},
   "source": [
    "El próximo paso debería ser buscar los datos de SPI-3 para las estaciones especificadas. Sin embargo, previamente a eso se debe buscar la configuración de cálculo correspondiente a SPI-3 ajustado de forma no paramétrico. Se procede entonces a realizar dicha búsqueda."
   ]
  },
  {
   "cell_type": "code",
   "execution_count": 16,
   "metadata": {
    "tags": []
   },
   "outputs": [
    {
     "data": {
      "text/html": [
       "<div>\n",
       "<style scoped>\n",
       "    .dataframe tbody tr th:only-of-type {\n",
       "        vertical-align: middle;\n",
       "    }\n",
       "\n",
       "    .dataframe tbody tr th {\n",
       "        vertical-align: top;\n",
       "    }\n",
       "\n",
       "    .dataframe thead th {\n",
       "        text-align: right;\n",
       "    }\n",
       "</style>\n",
       "<table border=\"1\" class=\"dataframe\">\n",
       "  <thead>\n",
       "    <tr style=\"text-align: right;\">\n",
       "      <th>id</th>\n",
       "      <th>indice</th>\n",
       "      <th>escala</th>\n",
       "      <th>distribucion</th>\n",
       "      <th>metodo_ajuste</th>\n",
       "      <th>referencia_comienzo</th>\n",
       "      <th>referencia_fin</th>\n",
       "      <th>procesable</th>\n",
       "    </tr>\n",
       "  </thead>\n",
       "  <tbody>\n",
       "    <tr>\n",
       "      <td>3</td>\n",
       "      <td>SPI</td>\n",
       "      <td>3</td>\n",
       "      <td>Gamma</td>\n",
       "      <td>NoParametrico</td>\n",
       "      <td>1971-01-01</td>\n",
       "      <td>2010-12-31</td>\n",
       "      <td>1</td>\n",
       "    </tr>\n",
       "    <tr>\n",
       "      <td>43</td>\n",
       "      <td>SPI</td>\n",
       "      <td>3</td>\n",
       "      <td>Gamma</td>\n",
       "      <td>ML-SinRemuestreo</td>\n",
       "      <td>1971-01-01</td>\n",
       "      <td>2010-12-31</td>\n",
       "      <td>1</td>\n",
       "    </tr>\n",
       "  </tbody>\n",
       "</table>\n",
       "</div>"
      ],
      "text/plain": [
       "<IPython.core.display.HTML object>"
      ]
     },
     "execution_count": 16,
     "metadata": {},
     "output_type": "execute_result"
    }
   ],
   "source": [
    "configuraciones = consumir_servicio_JSON(url=f\"{base_url}/indices_sequia_configuraciones\",\n",
    "                                         usuario=usuario_default, clave=clave_default)\n",
    "# Seleccionar SPI y escala de 3 meses\n",
    "configuraciones = configuraciones.query('indice == \"SPI\" and escala == 3')\n",
    "\n",
    "# Vista de las configuraciones en una tabla\n",
    "HTML(configuraciones.to_html(notebook=True, index=False))"
   ]
  },
  {
   "cell_type": "markdown",
   "metadata": {},
   "source": [
    "Ya tenemos los ID OMM de las estaciones especificadas y el ID de la configuración de cálculo del índice. Ahora se procede a buscar los valores de SPI-3 pedidos de a una estación por vez."
   ]
  },
  {
   "cell_type": "code",
   "execution_count": 17,
   "metadata": {},
   "outputs": [],
   "source": [
    "series_temporales = pandas.DataFrame()\n",
    "indice_configuracion_id = 3\n",
    "fecha_desde = dateutil.parser.parse(\"2017-01-01\").isoformat()\n",
    "fecha_hasta = dateutil.parser.parse(\"2019-12-31\").isoformat()\n",
    "\n",
    "for estacion in estaciones.itertuples():\n",
    "    # Ahora se define la URL para realizar la búsqueda\n",
    "    url_valores_indice = f\"{base_url}/indices_sequia_valores/{indice_configuracion_id}/\" \\\n",
    "                            f\"{estacion.omm_id}/{fecha_desde}/{fecha_hasta}\"\n",
    "    # Buscar serie temporal y agregar el nombre de la estacion (con ID)\n",
    "    serie_temporal_spi = consumir_servicio_JSON(url=url_valores_indice,\n",
    "                                                usuario=usuario_default, clave=clave_default)\n",
    "    # Definir la fecha de fin del período a partir del año y la péntada de fin\n",
    "    serie_temporal_spi = serie_temporal_spi.assign(\n",
    "        fecha_fin_pentada=lambda df: df.apply(\n",
    "            lambda x: fecha_fin_pentada(pentada_año_a_fecha_inicio(x['pentada_fin'], x['ano'])), axis=1)\n",
    "    )\n",
    "    # Agregar nombre para el gráfico\n",
    "    serie_temporal_spi['nombre_completo'] = f\"{estacion.nombre} ({estacion.omm_id})\"\n",
    "\n",
    "    # Agregar filas a data frame de todas las series temporales\n",
    "    series_temporales = series_temporales.append(serie_temporal_spi, ignore_index=True)\n"
   ]
  },
  {
   "cell_type": "markdown",
   "metadata": {},
   "source": [
    "Finalmente, se muestan las series temporales de SPI-3 en un gráfico."
   ]
  },
  {
   "cell_type": "code",
   "execution_count": 18,
   "metadata": {},
   "outputs": [
    {
     "data": {
      "image/png": "[encoded data removed]",
      "text/plain": [
       "<Figure size 432x288 with 1 Axes>"
      ]
     },
     "metadata": {},
     "output_type": "display_data"
    }
   ],
   "source": [
    "# Generar gráfico\n",
    "series_temporales.set_index('fecha_fin_pentada', inplace=True)\n",
    "series_temporales.groupby('nombre_completo')['valor_indice']\\\n",
    "    .plot(legend=True, xlim=('2017-01-01', '2020-01-01'), marker=\"D\")\\\n",
    "    .map(lambda ax: ax.set(xlabel='Fecha de fin del periodo', ylabel='SPI-3'))\n",
    "plt.suptitle('Series temporales de SPI-3')\n",
    "plt.title('Durazno (UY) y estaciones dentro de un radio de 150 kms.')\n",
    "plt.show()"
   ]
  },
  {
   "cell_type": "code",
   "execution_count": null,
   "metadata": {},
   "outputs": [],
   "source": []
  }
 ],
 "metadata": {
  "colab": {
   "collapsed_sections": [],
   "name": "Untitled1.ipynb",
   "provenance": [],
   "toc_visible": true
  },
  "kernelspec": {
   "display_name": "Python 3.7.3 64-bit ('.venv': venv)",
   "language": "python",
   "name": "python37364bitvenvvenv88f1c2cb7f104231994aa3b760484e39"
  },
  "language_info": {
   "codemirror_mode": {
    "name": "ipython",
    "version": 3
   },
   "file_extension": ".py",
   "mimetype": "text/x-python",
   "name": "python",
   "nbconvert_exporter": "python",
   "pygments_lexer": "ipython3",
   "version": "3.7.3"
  },
  "widgets": {
   "application/vnd.jupyter.widget-state+json": {
    "state": {
     "0067553ccf6a4756b763b957321c4ca1": {
      "model_module": "jupyter-leaflet",
      "model_module_version": "^0.13.2",
      "model_name": "LeafletCircleModel",
      "state": {
       "_model_module_version": "^0.13.2",
       "_view_module_version": "^0.13.2",
       "fill_color": "orange",
       "fill_opacity": 1,
       "location": [
        -37.85,
        -63.02
       ],
       "options": [
        "class_name",
        "color",
        "dash_array",
        "fill",
        "fill_color",
        "fill_opacity",
        "line_cap",
        "line_join",
        "opacity",
        "pointer_events",
        "radius",
        "stroke",
        "weight"
       ],
       "radius": 30000,
       "stroke": false
      }
     },
     "007c314056124838b846da6a36b79421": {
      "model_module": "jupyter-leaflet",
      "model_module_version": "^0.13.2",
      "model_name": "LeafletCircleModel",
      "state": {
       "_model_module_version": "^0.13.2",
       "_view_module_version": "^0.13.2",
       "fill_color": "orange",
       "fill_opacity": 1,
       "location": [
        -37.8361,
        -60.3927
       ],
       "options": [
        "class_name",
        "color",
        "dash_array",
        "fill",
        "fill_color",
        "fill_opacity",
        "line_cap",
        "line_join",
        "opacity",
        "pointer_events",
        "radius",
        "stroke",
        "weight"
       ],
       "radius": 30000,
       "stroke": false
      }
     },
     "044914f1cc1147738880bc0c91c4f5b1": {
      "model_module": "jupyter-leaflet",
      "model_module_version": "^0.13.2",
      "model_name": "LeafletCircleModel",
      "state": {
       "_model_module_version": "^0.13.2",
       "_view_module_version": "^0.13.2",
       "fill_color": "green",
       "fill_opacity": 1,
       "location": [
        -26.2779,
        -53.6713
       ],
       "options": [
        "class_name",
        "color",
        "dash_array",
        "fill",
        "fill_color",
        "fill_opacity",
        "line_cap",
        "line_join",
        "opacity",
        "pointer_events",
        "radius",
        "stroke",
        "weight"
       ],
       "radius": 30000,
       "stroke": false
      }
     },
     "04a16f87e50640cdae9e00b75944b650": {
      "model_module": "jupyter-leaflet",
      "model_module_version": "^0.13.2",
      "model_name": "LeafletCircleModel",
      "state": {
       "_model_module_version": "^0.13.2",
       "_view_module_version": "^0.13.2",
       "fill_color": "green",
       "fill_opacity": 1,
       "location": [
        -54.7,
        -67.25
       ],
       "options": [
        "class_name",
        "color",
        "dash_array",
        "fill",
        "fill_color",
        "fill_opacity",
        "line_cap",
        "line_join",
        "opacity",
        "pointer_events",
        "radius",
        "stroke",
        "weight"
       ],
       "radius": 30000,
       "stroke": false
      }
     },
     "05951e8b70c44bec970c6ba8c1780384": {
      "model_module": "jupyter-leaflet",
      "model_module_version": "^0.13.2",
      "model_name": "LeafletCircleModel",
      "state": {
       "_model_module_version": "^0.13.2",
       "_view_module_version": "^0.13.2",
       "fill_color": "orange",
       "fill_opacity": 1,
       "location": [
        -35.6882,
        -63.7595
       ],
       "options": [
        "class_name",
        "color",
        "dash_array",
        "fill",
        "fill_color",
        "fill_opacity",
        "line_cap",
        "line_join",
        "opacity",
        "pointer_events",
        "radius",
        "stroke",
        "weight"
       ],
       "radius": 30000,
       "stroke": false
      }
     },
     "0813e48ee6594c898cffd25c7d478462": {
      "model_module": "jupyter-leaflet",
      "model_module_version": "^0.13.2",
      "model_name": "LeafletCircleModel",
      "state": {
       "_model_module_version": "^0.13.2",
       "_view_module_version": "^0.13.2",
       "fill_color": "green",
       "fill_opacity": 1,
       "location": [
        -33.7652,
        -59.6268
       ],
       "options": [
        "class_name",
        "color",
        "dash_array",
        "fill",
        "fill_color",
        "fill_opacity",
        "line_cap",
        "line_join",
        "opacity",
        "pointer_events",
        "radius",
        "stroke",
        "weight"
       ],
       "radius": 30000,
       "stroke": false
      }
     },
     "08304d51b1c54063b0adaedf3cfe9f72": {
      "model_module": "jupyter-leaflet",
      "model_module_version": "^0.13.2",
      "model_name": "LeafletCircleModel",
      "state": {
       "_model_module_version": "^0.13.2",
       "_view_module_version": "^0.13.2",
       "fill_color": "green",
       "fill_opacity": 1,
       "location": [
        -32.5946,
        -69.3401
       ],
       "options": [
        "class_name",
        "color",
        "dash_array",
        "fill",
        "fill_color",
        "fill_opacity",
        "line_cap",
        "line_join",
        "opacity",
        "pointer_events",
        "radius",
        "stroke",
        "weight"
       ],
       "radius": 30000,
       "stroke": false
      }
     },
     "09290f8ff08f4408a7b422eeefeb922d": {
      "model_module": "jupyter-leaflet",
      "model_module_version": "^0.13.2",
      "model_name": "LeafletCircleModel",
      "state": {
       "_model_module_version": "^0.13.2",
       "_view_module_version": "^0.13.2",
       "fill_color": "green",
       "fill_opacity": 1,
       "location": [
        -33.68,
        -59.68
       ],
       "options": [
        "class_name",
        "color",
        "dash_array",
        "fill",
        "fill_color",
        "fill_opacity",
        "line_cap",
        "line_join",
        "opacity",
        "pointer_events",
        "radius",
        "stroke",
        "weight"
       ],
       "radius": 30000,
       "stroke": false
      }
     },
     "0a4eee21c0d948a2ba1ef9afbccee1af": {
      "model_module": "jupyter-leaflet",
      "model_module_version": "^0.13.2",
      "model_name": "LeafletCircleModel",
      "state": {
       "_model_module_version": "^0.13.2",
       "_view_module_version": "^0.13.2",
       "fill_color": "green",
       "fill_opacity": 1,
       "location": [
        -39.9219,
        -62.7986
       ],
       "options": [
        "class_name",
        "color",
        "dash_array",
        "fill",
        "fill_color",
        "fill_opacity",
        "line_cap",
        "line_join",
        "opacity",
        "pointer_events",
        "radius",
        "stroke",
        "weight"
       ],
       "radius": 30000,
       "stroke": false
      }
     },
     "0acbb9442ca1410a88bc51f3cc945cf1": {
      "model_module": "jupyter-leaflet",
      "model_module_version": "^0.13.2",
      "model_name": "LeafletCircleModel",
      "state": {
       "_model_module_version": "^0.13.2",
       "_view_module_version": "^0.13.2",
       "fill_color": "orange",
       "fill_opacity": 1,
       "location": [
        -34.1002,
        -61.1397
       ],
       "options": [
        "class_name",
        "color",
        "dash_array",
        "fill",
        "fill_color",
        "fill_opacity",
        "line_cap",
        "line_join",
        "opacity",
        "pointer_events",
        "radius",
        "stroke",
        "weight"
       ],
       "radius": 30000,
       "stroke": false
      }
     },
     "0b7f8400d014405eb847fb75c6cdb819": {
      "model_module": "jupyter-leaflet",
      "model_module_version": "^0.13.2",
      "model_name": "LeafletCircleModel",
      "state": {
       "_model_module_version": "^0.13.2",
       "_view_module_version": "^0.13.2",
       "fill_color": "green",
       "fill_opacity": 1,
       "location": [
        -28.48,
        -65.73
       ],
       "options": [
        "class_name",
        "color",
        "dash_array",
        "fill",
        "fill_color",
        "fill_opacity",
        "line_cap",
        "line_join",
        "opacity",
        "pointer_events",
        "radius",
        "stroke",
        "weight"
       ],
       "radius": 30000,
       "stroke": false
      }
     },
     "0cd34ff974a84d2da14f10c48eb69ef2": {
      "model_module": "jupyter-leaflet",
      "model_module_version": "^0.13.2",
      "model_name": "LeafletCircleModel",
      "state": {
       "_model_module_version": "^0.13.2",
       "_view_module_version": "^0.13.2",
       "fill_color": "green",
       "fill_opacity": 1,
       "location": [
        -24.1853,
        -62.8866
       ],
       "options": [
        "class_name",
        "color",
        "dash_array",
        "fill",
        "fill_color",
        "fill_opacity",
        "line_cap",
        "line_join",
        "opacity",
        "pointer_events",
        "radius",
        "stroke",
        "weight"
       ],
       "radius": 30000,
       "stroke": false
      }
     },
     "0d97a31379ab421aa4ea244977561d13": {
      "model_module": "jupyter-leaflet",
      "model_module_version": "^0.13.2",
      "model_name": "LeafletCircleModel",
      "state": {
       "_model_module_version": "^0.13.2",
       "_view_module_version": "^0.13.2",
       "fill_color": "green",
       "fill_opacity": 1,
       "location": [
        -34.175,
        -58.8633
       ],
       "options": [
        "class_name",
        "color",
        "dash_array",
        "fill",
        "fill_color",
        "fill_opacity",
        "line_cap",
        "line_join",
        "opacity",
        "pointer_events",
        "radius",
        "stroke",
        "weight"
       ],
       "radius": 30000,
       "stroke": false
      }
     },
     "0db197dce56e42bba49ad1ce0356f8b4": {
      "model_module": "jupyter-leaflet",
      "model_module_version": "^0.13.2",
      "model_name": "LeafletCircleModel",
      "state": {
       "_model_module_version": "^0.13.2",
       "_view_module_version": "^0.13.2",
       "fill_color": "green",
       "fill_opacity": 1,
       "location": [
        -27.73,
        -60.73
       ],
       "options": [
        "class_name",
        "color",
        "dash_array",
        "fill",
        "fill_color",
        "fill_opacity",
        "line_cap",
        "line_join",
        "opacity",
        "pointer_events",
        "radius",
        "stroke",
        "weight"
       ],
       "radius": 30000,
       "stroke": false
      }
     },
     "0e23bdf1ed1d47049716b04bdd98a15d": {
      "model_module": "jupyter-leaflet",
      "model_module_version": "^0.13.2",
      "model_name": "LeafletCircleModel",
      "state": {
       "_model_module_version": "^0.13.2",
       "_view_module_version": "^0.13.2",
       "fill_color": "green",
       "fill_opacity": 1,
       "location": [
        -40.8,
        -63.06
       ],
       "options": [
        "class_name",
        "color",
        "dash_array",
        "fill",
        "fill_color",
        "fill_opacity",
        "line_cap",
        "line_join",
        "opacity",
        "pointer_events",
        "radius",
        "stroke",
        "weight"
       ],
       "radius": 30000,
       "stroke": false
      }
     },
     "0e2f52085bb448fd8939996eae84d8b7": {
      "model_module": "jupyter-leaflet",
      "model_module_version": "^0.13.2",
      "model_name": "LeafletCircleModel",
      "state": {
       "_model_module_version": "^0.13.2",
       "_view_module_version": "^0.13.2",
       "fill_color": "green",
       "fill_opacity": 1,
       "location": [
        -28.43,
        -58.92
       ],
       "options": [
        "class_name",
        "color",
        "dash_array",
        "fill",
        "fill_color",
        "fill_opacity",
        "line_cap",
        "line_join",
        "opacity",
        "pointer_events",
        "radius",
        "stroke",
        "weight"
       ],
       "radius": 30000,
       "stroke": false
      }
     },
     "104005fc355346cd83eaac943c0cef39": {
      "model_module": "@jupyter-widgets/base",
      "model_module_version": "1.2.0",
      "model_name": "LayoutModel",
      "state": {}
     },
     "13426075d83f468e84ba66cbf2b275a4": {
      "model_module": "jupyter-leaflet",
      "model_module_version": "^0.13.2",
      "model_name": "LeafletMapStyleModel",
      "state": {
       "_model_module_version": "^0.13.2",
       "cursor": "move"
      }
     },
     "14c2cba7dfc0421d8f1f9ee025246095": {
      "model_module": "jupyter-leaflet",
      "model_module_version": "^0.13.2",
      "model_name": "LeafletCircleModel",
      "state": {
       "_model_module_version": "^0.13.2",
       "_view_module_version": "^0.13.2",
       "fill_color": "green",
       "fill_opacity": 1,
       "location": [
        -36.2126,
        -65.4317
       ],
       "options": [
        "class_name",
        "color",
        "dash_array",
        "fill",
        "fill_color",
        "fill_opacity",
        "line_cap",
        "line_join",
        "opacity",
        "pointer_events",
        "radius",
        "stroke",
        "weight"
       ],
       "radius": 30000,
       "stroke": false
      }
     },
     "16133a107ec24b7ebdab8db94bb4df38": {
      "model_module": "jupyter-leaflet",
      "model_module_version": "^0.13.2",
      "model_name": "LeafletMapStyleModel",
      "state": {
       "_model_module_version": "^0.13.2"
      }
     },
     "1730ef9940fa4931bd0e322f238e2b30": {
      "model_module": "jupyter-leaflet",
      "model_module_version": "^0.13.2",
      "model_name": "LeafletCircleModel",
      "state": {
       "_model_module_version": "^0.13.2",
       "_view_module_version": "^0.13.2",
       "fill_color": "orange",
       "fill_opacity": 1,
       "location": [
        -34.1278,
        -63.3676
       ],
       "options": [
        "class_name",
        "color",
        "dash_array",
        "fill",
        "fill_color",
        "fill_opacity",
        "line_cap",
        "line_join",
        "opacity",
        "pointer_events",
        "radius",
        "stroke",
        "weight"
       ],
       "radius": 30000,
       "stroke": false
      }
     },
     "1c046f65b77d4432a11089a333f598d9": {
      "model_module": "jupyter-leaflet",
      "model_module_version": "^0.13.2",
      "model_name": "LeafletCircleModel",
      "state": {
       "_model_module_version": "^0.13.2",
       "_view_module_version": "^0.13.2",
       "fill_color": "orange",
       "fill_opacity": 1,
       "location": [
        -36.7965,
        -59.1079
       ],
       "options": [
        "class_name",
        "color",
        "dash_array",
        "fill",
        "fill_color",
        "fill_opacity",
        "line_cap",
        "line_join",
        "opacity",
        "pointer_events",
        "radius",
        "stroke",
        "weight"
       ],
       "radius": 30000,
       "stroke": false
      }
     },
     "1c87ac5b1ed2423599146f4ad1c6dd1e": {
      "model_module": "jupyter-leaflet",
      "model_module_version": "^0.13.2",
      "model_name": "LeafletCircleModel",
      "state": {
       "_model_module_version": "^0.13.2",
       "_view_module_version": "^0.13.2",
       "fill_color": "orange",
       "fill_opacity": 1,
       "location": [
        -33.9448,
        -60.5778
       ],
       "options": [
        "class_name",
        "color",
        "dash_array",
        "fill",
        "fill_color",
        "fill_opacity",
        "line_cap",
        "line_join",
        "opacity",
        "pointer_events",
        "radius",
        "stroke",
        "weight"
       ],
       "radius": 30000,
       "stroke": false
      }
     },
     "1df439cd23c44b3bb1e3d041c6faf655": {
      "model_module": "jupyter-leaflet",
      "model_module_version": "^0.13.2",
      "model_name": "LeafletCircleModel",
      "state": {
       "_model_module_version": "^0.13.2",
       "_view_module_version": "^0.13.2",
       "fill_color": "orange",
       "fill_opacity": 1,
       "location": [
        -33.6823,
        -61.9614
       ],
       "options": [
        "class_name",
        "color",
        "dash_array",
        "fill",
        "fill_color",
        "fill_opacity",
        "line_cap",
        "line_join",
        "opacity",
        "pointer_events",
        "radius",
        "stroke",
        "weight"
       ],
       "radius": 30000,
       "stroke": false
      }
     },
     "1f92c407208e4c20b193cb601d193f0e": {
      "model_module": "jupyter-leaflet",
      "model_module_version": "^0.13.2",
      "model_name": "LeafletCircleModel",
      "state": {
       "_model_module_version": "^0.13.2",
       "_view_module_version": "^0.13.2",
       "fill_color": "green",
       "fill_opacity": 1,
       "location": [
        -26.3,
        -59.37
       ],
       "options": [
        "class_name",
        "color",
        "dash_array",
        "fill",
        "fill_color",
        "fill_opacity",
        "line_cap",
        "line_join",
        "opacity",
        "pointer_events",
        "radius",
        "stroke",
        "weight"
       ],
       "radius": 30000,
       "stroke": false
      }
     },
     "205a20a9cee24141b3d98cc21456b273": {
      "model_module": "jupyter-leaflet",
      "model_module_version": "^0.13.2",
      "model_name": "LeafletCircleModel",
      "state": {
       "_model_module_version": "^0.13.2",
       "_view_module_version": "^0.13.2",
       "fill_color": "green",
       "fill_opacity": 1,
       "location": [
        -22.1033,
        -65.6008
       ],
       "options": [
        "class_name",
        "color",
        "dash_array",
        "fill",
        "fill_color",
        "fill_opacity",
        "line_cap",
        "line_join",
        "opacity",
        "pointer_events",
        "radius",
        "stroke",
        "weight"
       ],
       "radius": 30000,
       "stroke": false
      }
     },
     "2282f4c007db4fee98906ac1fd2b5dcb": {
      "model_module": "jupyter-leaflet",
      "model_module_version": "^0.13.2",
      "model_name": "LeafletCircleModel",
      "state": {
       "_model_module_version": "^0.13.2",
       "_view_module_version": "^0.13.2",
       "fill_color": "green",
       "fill_opacity": 1,
       "location": [
        -38.32,
        -60.25
       ],
       "options": [
        "class_name",
        "color",
        "dash_array",
        "fill",
        "fill_color",
        "fill_opacity",
        "line_cap",
        "line_join",
        "opacity",
        "pointer_events",
        "radius",
        "stroke",
        "weight"
       ],
       "radius": 30000,
       "stroke": false
      }
     },
     "239224803643402780baeeb9947c339d": {
      "model_module": "jupyter-leaflet",
      "model_module_version": "^0.13.2",
      "model_name": "LeafletCircleModel",
      "state": {
       "_model_module_version": "^0.13.2",
       "_view_module_version": "^0.13.2",
       "fill_color": "green",
       "fill_opacity": 1,
       "location": [
        -30.2617,
        -57.639
       ],
       "options": [
        "class_name",
        "color",
        "dash_array",
        "fill",
        "fill_color",
        "fill_opacity",
        "line_cap",
        "line_join",
        "opacity",
        "pointer_events",
        "radius",
        "stroke",
        "weight"
       ],
       "radius": 30000,
       "stroke": false
      }
     },
     "247c1fecd08245b2a8e43c7c64640791": {
      "model_module": "jupyter-leaflet",
      "model_module_version": "^0.13.2",
      "model_name": "LeafletCircleModel",
      "state": {
       "_model_module_version": "^0.13.2",
       "_view_module_version": "^0.13.2",
       "fill_color": "green",
       "fill_opacity": 1,
       "location": [
        -34.603,
        -58.6126
       ],
       "options": [
        "class_name",
        "color",
        "dash_array",
        "fill",
        "fill_color",
        "fill_opacity",
        "line_cap",
        "line_join",
        "opacity",
        "pointer_events",
        "radius",
        "stroke",
        "weight"
       ],
       "radius": 30000,
       "stroke": false
      }
     },
     "24860fa1d2ec44b7ab0238b89ce2ed5f": {
      "model_module": "jupyter-leaflet",
      "model_module_version": "^0.13.2",
      "model_name": "LeafletCircleModel",
      "state": {
       "_model_module_version": "^0.13.2",
       "_view_module_version": "^0.13.2",
       "fill_color": "green",
       "fill_opacity": 1,
       "location": [
        -31.37,
        -68.32
       ],
       "options": [
        "class_name",
        "color",
        "dash_array",
        "fill",
        "fill_color",
        "fill_opacity",
        "line_cap",
        "line_join",
        "opacity",
        "pointer_events",
        "radius",
        "stroke",
        "weight"
       ],
       "radius": 30000,
       "stroke": false
      }
     },
     "24fa3f8cf0a046ed96b5d0c25c8d0dd1": {
      "model_module": "jupyter-leaflet",
      "model_module_version": "^0.13.2",
      "model_name": "LeafletCircleModel",
      "state": {
       "_model_module_version": "^0.13.2",
       "_view_module_version": "^0.13.2",
       "fill_color": "orange",
       "fill_opacity": 1,
       "location": [
        -35.4391,
        -60.8819
       ],
       "options": [
        "class_name",
        "color",
        "dash_array",
        "fill",
        "fill_color",
        "fill_opacity",
        "line_cap",
        "line_join",
        "opacity",
        "pointer_events",
        "radius",
        "stroke",
        "weight"
       ],
       "radius": 30000,
       "stroke": false
      }
     },
     "26f16b861d1f4dbf8930b74f511cf708": {
      "model_module": "jupyter-leaflet",
      "model_module_version": "^0.13.2",
      "model_name": "LeafletCircleModel",
      "state": {
       "_model_module_version": "^0.13.2",
       "_view_module_version": "^0.13.2",
       "location": [
        -35.8407,
        -61.8598
       ],
       "options": [
        "class_name",
        "color",
        "dash_array",
        "fill",
        "fill_color",
        "fill_opacity",
        "line_cap",
        "line_join",
        "opacity",
        "pointer_events",
        "radius",
        "stroke",
        "weight"
       ],
       "radius": 300000,
       "weight": 2
      }
     },
     "282a293dac3e4368a2e327e5f64e79d6": {
      "model_module": "jupyter-leaflet",
      "model_module_version": "^0.13.2",
      "model_name": "LeafletCircleModel",
      "state": {
       "_model_module_version": "^0.13.2",
       "_view_module_version": "^0.13.2",
       "fill_color": "green",
       "fill_opacity": 1,
       "location": [
        -31.7078,
        -60.8053
       ],
       "options": [
        "class_name",
        "color",
        "dash_array",
        "fill",
        "fill_color",
        "fill_opacity",
        "line_cap",
        "line_join",
        "opacity",
        "pointer_events",
        "radius",
        "stroke",
        "weight"
       ],
       "radius": 30000,
       "stroke": false
      }
     },
     "295f9e5115b14e5ca4594278bbfe6ad2": {
      "model_module": "jupyter-leaflet",
      "model_module_version": "^0.13.2",
      "model_name": "LeafletCircleModel",
      "state": {
       "_model_module_version": "^0.13.2",
       "_view_module_version": "^0.13.2",
       "fill_color": "green",
       "fill_opacity": 1,
       "location": [
        -39.9245,
        -62.6179
       ],
       "options": [
        "class_name",
        "color",
        "dash_array",
        "fill",
        "fill_color",
        "fill_opacity",
        "line_cap",
        "line_join",
        "opacity",
        "pointer_events",
        "radius",
        "stroke",
        "weight"
       ],
       "radius": 30000,
       "stroke": false
      }
     },
     "2a79b7dbfeb94d44afe76b06c7aa8f59": {
      "model_module": "jupyter-leaflet",
      "model_module_version": "^0.13.2",
      "model_name": "LeafletCircleModel",
      "state": {
       "_model_module_version": "^0.13.2",
       "_view_module_version": "^0.13.2",
       "fill_color": "green",
       "fill_opacity": 1,
       "location": [
        -33.73,
        -69.12
       ],
       "options": [
        "class_name",
        "color",
        "dash_array",
        "fill",
        "fill_color",
        "fill_opacity",
        "line_cap",
        "line_join",
        "opacity",
        "pointer_events",
        "radius",
        "stroke",
        "weight"
       ],
       "radius": 30000,
       "stroke": false
      }
     },
     "2a79d98541d54f2889d9ffab38bd9697": {
      "model_module": "jupyter-leaflet",
      "model_module_version": "^0.13.2",
      "model_name": "LeafletCircleModel",
      "state": {
       "_model_module_version": "^0.13.2",
       "_view_module_version": "^0.13.2",
       "fill_color": "green",
       "fill_opacity": 1,
       "location": [
        -33.15,
        -68.47
       ],
       "options": [
        "class_name",
        "color",
        "dash_array",
        "fill",
        "fill_color",
        "fill_opacity",
        "line_cap",
        "line_join",
        "opacity",
        "pointer_events",
        "radius",
        "stroke",
        "weight"
       ],
       "radius": 30000,
       "stroke": false
      }
     },
     "2af227c158f94f61aeffce9ab068044e": {
      "model_module": "jupyter-leaflet",
      "model_module_version": "^0.13.2",
      "model_name": "LeafletCircleModel",
      "state": {
       "_model_module_version": "^0.13.2",
       "_view_module_version": "^0.13.2",
       "fill_color": "green",
       "fill_opacity": 1,
       "location": [
        -34.2511,
        -58.6104
       ],
       "options": [
        "class_name",
        "color",
        "dash_array",
        "fill",
        "fill_color",
        "fill_opacity",
        "line_cap",
        "line_join",
        "opacity",
        "pointer_events",
        "radius",
        "stroke",
        "weight"
       ],
       "radius": 30000,
       "stroke": false
      }
     },
     "2bc1301ec67f49f4af1d2cf67fffacdf": {
      "model_module": "jupyter-leaflet",
      "model_module_version": "^0.13.2",
      "model_name": "LeafletCircleModel",
      "state": {
       "_model_module_version": "^0.13.2",
       "_view_module_version": "^0.13.2",
       "fill_color": "orange",
       "fill_opacity": 1,
       "location": [
        -34.8419,
        -61.601
       ],
       "options": [
        "class_name",
        "color",
        "dash_array",
        "fill",
        "fill_color",
        "fill_opacity",
        "line_cap",
        "line_join",
        "opacity",
        "pointer_events",
        "radius",
        "stroke",
        "weight"
       ],
       "radius": 30000,
       "stroke": false
      }
     },
     "2be045d6fbe24da58f290bfe2f02e3c6": {
      "model_module": "jupyter-leaflet",
      "model_module_version": "^0.13.2",
      "model_name": "LeafletCircleModel",
      "state": {
       "_model_module_version": "^0.13.2",
       "_view_module_version": "^0.13.2",
       "fill_color": "green",
       "fill_opacity": 1,
       "location": [
        -27.65,
        -55.43
       ],
       "options": [
        "class_name",
        "color",
        "dash_array",
        "fill",
        "fill_color",
        "fill_opacity",
        "line_cap",
        "line_join",
        "opacity",
        "pointer_events",
        "radius",
        "stroke",
        "weight"
       ],
       "radius": 30000,
       "stroke": false
      }
     },
     "2c45c4e3074e4f72bbb8bd4c639cfe31": {
      "model_module": "jupyter-leaflet",
      "model_module_version": "^0.13.2",
      "model_name": "LeafletCircleModel",
      "state": {
       "_model_module_version": "^0.13.2",
       "_view_module_version": "^0.13.2",
       "fill_color": "green",
       "fill_opacity": 1,
       "location": [
        -90,
        0
       ],
       "options": [
        "class_name",
        "color",
        "dash_array",
        "fill",
        "fill_color",
        "fill_opacity",
        "line_cap",
        "line_join",
        "opacity",
        "pointer_events",
        "radius",
        "stroke",
        "weight"
       ],
       "radius": 30000,
       "stroke": false
      }
     },
     "2c4a3bfe64b245389efdb547fe178a1e": {
      "model_module": "jupyter-leaflet",
      "model_module_version": "^0.13.2",
      "model_name": "LeafletCircleModel",
      "state": {
       "_model_module_version": "^0.13.2",
       "_view_module_version": "^0.13.2",
       "fill_color": "green",
       "fill_opacity": 1,
       "location": [
        -38.3595,
        -60.2845
       ],
       "options": [
        "class_name",
        "color",
        "dash_array",
        "fill",
        "fill_color",
        "fill_opacity",
        "line_cap",
        "line_join",
        "opacity",
        "pointer_events",
        "radius",
        "stroke",
        "weight"
       ],
       "radius": 30000,
       "stroke": false
      }
     },
     "2d56d43833ae4f56b27d26cd4711f1ba": {
      "model_module": "jupyter-leaflet",
      "model_module_version": "^0.13.2",
      "model_name": "LeafletCircleModel",
      "state": {
       "_model_module_version": "^0.13.2",
       "_view_module_version": "^0.13.2",
       "fill_color": "green",
       "fill_opacity": 1,
       "location": [
        -28.5935,
        -65.7553
       ],
       "options": [
        "class_name",
        "color",
        "dash_array",
        "fill",
        "fill_color",
        "fill_opacity",
        "line_cap",
        "line_join",
        "opacity",
        "pointer_events",
        "radius",
        "stroke",
        "weight"
       ],
       "radius": 30000,
       "stroke": false
      }
     },
     "2dfd633a6b404765b2caae8d420f0136": {
      "model_module": "jupyter-leaflet",
      "model_module_version": "^0.13.2",
      "model_name": "LeafletCircleModel",
      "state": {
       "_model_module_version": "^0.13.2",
       "_view_module_version": "^0.13.2",
       "fill_color": "green",
       "fill_opacity": 1,
       "location": [
        -24.8443,
        -65.4757
       ],
       "options": [
        "class_name",
        "color",
        "dash_array",
        "fill",
        "fill_color",
        "fill_opacity",
        "line_cap",
        "line_join",
        "opacity",
        "pointer_events",
        "radius",
        "stroke",
        "weight"
       ],
       "radius": 30000,
       "stroke": false
      }
     },
     "2f54664c284b4e5481751022f375b9bf": {
      "model_module": "jupyter-leaflet",
      "model_module_version": "^0.13.2",
      "model_name": "LeafletCircleModel",
      "state": {
       "_model_module_version": "^0.13.2",
       "_view_module_version": "^0.13.2",
       "fill_color": "green",
       "fill_opacity": 1,
       "location": [
        -31.82,
        -63.77
       ],
       "options": [
        "class_name",
        "color",
        "dash_array",
        "fill",
        "fill_color",
        "fill_opacity",
        "line_cap",
        "line_join",
        "opacity",
        "pointer_events",
        "radius",
        "stroke",
        "weight"
       ],
       "radius": 30000,
       "stroke": false
      }
     },
     "2f622b462d2a46c3b1c2f38c02ab4f21": {
      "model_module": "jupyter-leaflet",
      "model_module_version": "^0.13.2",
      "model_name": "LeafletCircleModel",
      "state": {
       "_model_module_version": "^0.13.2",
       "_view_module_version": "^0.13.2",
       "fill_color": "green",
       "fill_opacity": 1,
       "location": [
        -43.23,
        -65.3
       ],
       "options": [
        "class_name",
        "color",
        "dash_array",
        "fill",
        "fill_color",
        "fill_opacity",
        "line_cap",
        "line_join",
        "opacity",
        "pointer_events",
        "radius",
        "stroke",
        "weight"
       ],
       "radius": 30000,
       "stroke": false
      }
     },
     "313950c69d4d4dc68f66161639ed0a37": {
      "model_module": "jupyter-leaflet",
      "model_module_version": "^0.13.2",
      "model_name": "LeafletCircleModel",
      "state": {
       "_model_module_version": "^0.13.2",
       "_view_module_version": "^0.13.2",
       "fill_color": "green",
       "fill_opacity": 1,
       "location": [
        -32.55,
        -60.85
       ],
       "options": [
        "class_name",
        "color",
        "dash_array",
        "fill",
        "fill_color",
        "fill_opacity",
        "line_cap",
        "line_join",
        "opacity",
        "pointer_events",
        "radius",
        "stroke",
        "weight"
       ],
       "radius": 30000,
       "stroke": false
      }
     },
     "361064b412fd43de986d2922cdb2832d": {
      "model_module": "jupyter-leaflet",
      "model_module_version": "^0.13.2",
      "model_name": "LeafletCircleModel",
      "state": {
       "_model_module_version": "^0.13.2",
       "_view_module_version": "^0.13.2",
       "fill_color": "green",
       "fill_opacity": 1,
       "location": [
        -42.9059,
        -71.145
       ],
       "options": [
        "class_name",
        "color",
        "dash_array",
        "fill",
        "fill_color",
        "fill_opacity",
        "line_cap",
        "line_join",
        "opacity",
        "pointer_events",
        "radius",
        "stroke",
        "weight"
       ],
       "radius": 30000,
       "stroke": false
      }
     },
     "368795f8885b42d5909af6cde087f0bd": {
      "model_module": "jupyter-leaflet",
      "model_module_version": "^0.13.2",
      "model_name": "LeafletCircleModel",
      "state": {
       "_model_module_version": "^0.13.2",
       "_view_module_version": "^0.13.2",
       "fill_color": "orange",
       "fill_opacity": 1,
       "location": [
        -35.4607,
        -60.9494
       ],
       "options": [
        "class_name",
        "color",
        "dash_array",
        "fill",
        "fill_color",
        "fill_opacity",
        "line_cap",
        "line_join",
        "opacity",
        "pointer_events",
        "radius",
        "stroke",
        "weight"
       ],
       "radius": 30000,
       "stroke": false
      }
     },
     "382c7dd50598468eb8478d2af7b8fe38": {
      "model_module": "jupyter-leaflet",
      "model_module_version": "^0.13.2",
      "model_name": "LeafletCircleModel",
      "state": {
       "_model_module_version": "^0.13.2",
       "_view_module_version": "^0.13.2",
       "fill_color": "orange",
       "fill_opacity": 1,
       "location": [
        -33.9122,
        -60.838
       ],
       "options": [
        "class_name",
        "color",
        "dash_array",
        "fill",
        "fill_color",
        "fill_opacity",
        "line_cap",
        "line_join",
        "opacity",
        "pointer_events",
        "radius",
        "stroke",
        "weight"
       ],
       "radius": 30000,
       "stroke": false
      }
     },
     "38b7a73d663e4715b297e4f030437aeb": {
      "model_module": "jupyter-leaflet",
      "model_module_version": "^0.13.2",
      "model_name": "LeafletCircleModel",
      "state": {
       "_model_module_version": "^0.13.2",
       "_view_module_version": "^0.13.2",
       "fill_color": "orange",
       "fill_opacity": 1,
       "location": [
        -37.4439,
        -61.9248
       ],
       "options": [
        "class_name",
        "color",
        "dash_array",
        "fill",
        "fill_color",
        "fill_opacity",
        "line_cap",
        "line_join",
        "opacity",
        "pointer_events",
        "radius",
        "stroke",
        "weight"
       ],
       "radius": 30000,
       "stroke": false
      }
     },
     "39d072de7dd84f7ca1e9c834dc019c80": {
      "model_module": "jupyter-leaflet",
      "model_module_version": "^0.13.2",
      "model_name": "LeafletCircleModel",
      "state": {
       "_model_module_version": "^0.13.2",
       "_view_module_version": "^0.13.2",
       "fill_color": "green",
       "fill_opacity": 1,
       "location": [
        -38.6667,
        -60.9333
       ],
       "options": [
        "class_name",
        "color",
        "dash_array",
        "fill",
        "fill_color",
        "fill_opacity",
        "line_cap",
        "line_join",
        "opacity",
        "pointer_events",
        "radius",
        "stroke",
        "weight"
       ],
       "radius": 30000,
       "stroke": false
      }
     },
     "3bac2063f0b24c22972d61d44ae1f44e": {
      "model_module": "jupyter-leaflet",
      "model_module_version": "^0.13.2",
      "model_name": "LeafletCircleModel",
      "state": {
       "_model_module_version": "^0.13.2",
       "_view_module_version": "^0.13.2",
       "fill_color": "green",
       "fill_opacity": 1,
       "location": [
        -32.1921,
        -61.712
       ],
       "options": [
        "class_name",
        "color",
        "dash_array",
        "fill",
        "fill_color",
        "fill_opacity",
        "line_cap",
        "line_join",
        "opacity",
        "pointer_events",
        "radius",
        "stroke",
        "weight"
       ],
       "radius": 30000,
       "stroke": false
      }
     },
     "3c6c28ad4100458fb54113ac82825333": {
      "model_module": "jupyter-leaflet",
      "model_module_version": "^0.13.2",
      "model_name": "LeafletCircleModel",
      "state": {
       "_model_module_version": "^0.13.2",
       "_view_module_version": "^0.13.2",
       "fill_color": "green",
       "fill_opacity": 1,
       "location": [
        -29.226,
        -58.0857
       ],
       "options": [
        "class_name",
        "color",
        "dash_array",
        "fill",
        "fill_color",
        "fill_opacity",
        "line_cap",
        "line_join",
        "opacity",
        "pointer_events",
        "radius",
        "stroke",
        "weight"
       ],
       "radius": 30000,
       "stroke": false
      }
     },
     "3cebe39a5d704ef5a2c044a04bc91d54": {
      "model_module": "jupyter-leaflet",
      "model_module_version": "^0.13.2",
      "model_name": "LeafletCircleModel",
      "state": {
       "_model_module_version": "^0.13.2",
       "_view_module_version": "^0.13.2",
       "fill_color": "green",
       "fill_opacity": 1,
       "location": [
        -34.608,
        -58.6702
       ],
       "options": [
        "class_name",
        "color",
        "dash_array",
        "fill",
        "fill_color",
        "fill_opacity",
        "line_cap",
        "line_join",
        "opacity",
        "pointer_events",
        "radius",
        "stroke",
        "weight"
       ],
       "radius": 30000,
       "stroke": false
      }
     },
     "3fb465f1dcd54988b98ed8da340e685f": {
      "model_module": "jupyter-leaflet",
      "model_module_version": "^0.13.2",
      "model_name": "LeafletCircleModel",
      "state": {
       "_model_module_version": "^0.13.2",
       "_view_module_version": "^0.13.2",
       "fill_color": "orange",
       "fill_opacity": 1,
       "location": [
        -34.6608,
        -59.4369
       ],
       "options": [
        "class_name",
        "color",
        "dash_array",
        "fill",
        "fill_color",
        "fill_opacity",
        "line_cap",
        "line_join",
        "opacity",
        "pointer_events",
        "radius",
        "stroke",
        "weight"
       ],
       "radius": 30000,
       "stroke": false
      }
     },
     "4083851862164008acd695de62bf6212": {
      "model_module": "jupyter-leaflet",
      "model_module_version": "^0.13.2",
      "model_name": "LeafletCircleModel",
      "state": {
       "_model_module_version": "^0.13.2",
       "_view_module_version": "^0.13.2",
       "fill_color": "green",
       "fill_opacity": 1,
       "location": [
        -34.5908,
        -68.4017
       ],
       "options": [
        "class_name",
        "color",
        "dash_array",
        "fill",
        "fill_color",
        "fill_opacity",
        "line_cap",
        "line_join",
        "opacity",
        "pointer_events",
        "radius",
        "stroke",
        "weight"
       ],
       "radius": 30000,
       "stroke": false
      }
     },
     "42c5368eb0724491a75908d27d9a2e89": {
      "model_module": "jupyter-leaflet",
      "model_module_version": "^0.13.2",
      "model_name": "LeafletCircleModel",
      "state": {
       "_model_module_version": "^0.13.2",
       "_view_module_version": "^0.13.2",
       "fill_color": "green",
       "fill_opacity": 1,
       "location": [
        -34.5552,
        -58.7305
       ],
       "options": [
        "class_name",
        "color",
        "dash_array",
        "fill",
        "fill_color",
        "fill_opacity",
        "line_cap",
        "line_join",
        "opacity",
        "pointer_events",
        "radius",
        "stroke",
        "weight"
       ],
       "radius": 30000,
       "stroke": false
      }
     },
     "4370617fac4b450f99d93222b6a62280": {
      "model_module": "jupyter-leaflet",
      "model_module_version": "^0.13.2",
      "model_name": "LeafletCircleModel",
      "state": {
       "_model_module_version": "^0.13.2",
       "_view_module_version": "^0.13.2",
       "fill_color": "green",
       "fill_opacity": 1,
       "location": [
        -34.5642,
        -58.4173
       ],
       "options": [
        "class_name",
        "color",
        "dash_array",
        "fill",
        "fill_color",
        "fill_opacity",
        "line_cap",
        "line_join",
        "opacity",
        "pointer_events",
        "radius",
        "stroke",
        "weight"
       ],
       "radius": 30000,
       "stroke": false
      }
     },
     "4786a9c383a54a708c236e0ee7c35023": {
      "model_module": "jupyter-leaflet",
      "model_module_version": "^0.13.2",
      "model_name": "LeafletCircleModel",
      "state": {
       "_model_module_version": "^0.13.2",
       "_view_module_version": "^0.13.2",
       "fill_color": "green",
       "fill_opacity": 1,
       "location": [
        -25.7309,
        -54.4775
       ],
       "options": [
        "class_name",
        "color",
        "dash_array",
        "fill",
        "fill_color",
        "fill_opacity",
        "line_cap",
        "line_join",
        "opacity",
        "pointer_events",
        "radius",
        "stroke",
        "weight"
       ],
       "radius": 30000,
       "stroke": false
      }
     },
     "4805087177a6455ca4565b0d9a44e135": {
      "model_module": "jupyter-leaflet",
      "model_module_version": "^0.13.2",
      "model_name": "LeafletCircleModel",
      "state": {
       "_model_module_version": "^0.13.2",
       "_view_module_version": "^0.13.2",
       "fill_color": "green",
       "fill_opacity": 1,
       "location": [
        -39.02,
        -67.67
       ],
       "options": [
        "class_name",
        "color",
        "dash_array",
        "fill",
        "fill_color",
        "fill_opacity",
        "line_cap",
        "line_join",
        "opacity",
        "pointer_events",
        "radius",
        "stroke",
        "weight"
       ],
       "radius": 30000,
       "stroke": false
      }
     },
     "48f90f1e73e545c99a17749748e5681b": {
      "model_module": "jupyter-leaflet",
      "model_module_version": "^0.13.2",
      "model_name": "LeafletCircleModel",
      "state": {
       "_model_module_version": "^0.13.2",
       "_view_module_version": "^0.13.2",
       "fill_color": "green",
       "fill_opacity": 1,
       "location": [
        -32.48,
        -58.23
       ],
       "options": [
        "class_name",
        "color",
        "dash_array",
        "fill",
        "fill_color",
        "fill_opacity",
        "line_cap",
        "line_join",
        "opacity",
        "pointer_events",
        "radius",
        "stroke",
        "weight"
       ],
       "radius": 30000,
       "stroke": false
      }
     },
     "4a539375d50d4ec68cbeccce576806dc": {
      "model_module": "jupyter-leaflet",
      "model_module_version": "^0.13.2",
      "model_name": "LeafletCircleModel",
      "state": {
       "_model_module_version": "^0.13.2",
       "_view_module_version": "^0.13.2",
       "fill_color": "green",
       "fill_opacity": 1,
       "location": [
        -46.538,
        -70.9853
       ],
       "options": [
        "class_name",
        "color",
        "dash_array",
        "fill",
        "fill_color",
        "fill_opacity",
        "line_cap",
        "line_join",
        "opacity",
        "pointer_events",
        "radius",
        "stroke",
        "weight"
       ],
       "radius": 30000,
       "stroke": false
      }
     },
     "4b647c83d80e42a5b7de3f2a2beb67b7": {
      "model_module": "jupyter-leaflet",
      "model_module_version": "^0.13.2",
      "model_name": "LeafletCircleModel",
      "state": {
       "_model_module_version": "^0.13.2",
       "_view_module_version": "^0.13.2",
       "fill_color": "green",
       "fill_opacity": 1,
       "location": [
        -35.3512,
        -57.2925
       ],
       "options": [
        "class_name",
        "color",
        "dash_array",
        "fill",
        "fill_color",
        "fill_opacity",
        "line_cap",
        "line_join",
        "opacity",
        "pointer_events",
        "radius",
        "stroke",
        "weight"
       ],
       "radius": 30000,
       "stroke": false
      }
     },
     "4c6b3a6d258e4a55b2f83adfc5a79c24": {
      "model_module": "jupyter-leaflet",
      "model_module_version": "^0.13.2",
      "model_name": "LeafletCircleModel",
      "state": {
       "_model_module_version": "^0.13.2",
       "_view_module_version": "^0.13.2",
       "fill_color": "orange",
       "fill_opacity": 1,
       "location": [
        -36.5,
        -63.98
       ],
       "options": [
        "class_name",
        "color",
        "dash_array",
        "fill",
        "fill_color",
        "fill_opacity",
        "line_cap",
        "line_join",
        "opacity",
        "pointer_events",
        "radius",
        "stroke",
        "weight"
       ],
       "radius": 30000,
       "stroke": false
      }
     },
     "4f73d63eb71f4efa9caced2b3d01462a": {
      "model_module": "jupyter-leaflet",
      "model_module_version": "^0.13.2",
      "model_name": "LeafletCircleModel",
      "state": {
       "_model_module_version": "^0.13.2",
       "_view_module_version": "^0.13.2",
       "fill_color": "green",
       "fill_opacity": 1,
       "location": [
        -41.2439,
        -68.7065
       ],
       "options": [
        "class_name",
        "color",
        "dash_array",
        "fill",
        "fill_color",
        "fill_opacity",
        "line_cap",
        "line_join",
        "opacity",
        "pointer_events",
        "radius",
        "stroke",
        "weight"
       ],
       "radius": 30000,
       "stroke": false
      }
     },
     "4f9ddff06f254cb3b380a4c1e5ccf0a4": {
      "model_module": "jupyter-leaflet",
      "model_module_version": "^0.13.2",
      "model_name": "LeafletCircleModel",
      "state": {
       "_model_module_version": "^0.13.2",
       "_view_module_version": "^0.13.2",
       "fill_color": "green",
       "fill_opacity": 1,
       "location": [
        -31.9513,
        -65.149
       ],
       "options": [
        "class_name",
        "color",
        "dash_array",
        "fill",
        "fill_color",
        "fill_opacity",
        "line_cap",
        "line_join",
        "opacity",
        "pointer_events",
        "radius",
        "stroke",
        "weight"
       ],
       "radius": 30000,
       "stroke": false
      }
     },
     "506df2fc8b9b48dd9e6d7c3f74972e92": {
      "model_module": "jupyter-leaflet",
      "model_module_version": "^0.13.2",
      "model_name": "LeafletCircleModel",
      "state": {
       "_model_module_version": "^0.13.2",
       "_view_module_version": "^0.13.2",
       "fill_color": "green",
       "fill_opacity": 1,
       "location": [
        -40.71,
        -63.53
       ],
       "options": [
        "class_name",
        "color",
        "dash_array",
        "fill",
        "fill_color",
        "fill_opacity",
        "line_cap",
        "line_join",
        "opacity",
        "pointer_events",
        "radius",
        "stroke",
        "weight"
       ],
       "radius": 30000,
       "stroke": false
      }
     },
     "507dbb795ab147ab88d62391e06c1aeb": {
      "model_module": "jupyter-leaflet",
      "model_module_version": "^0.13.2",
      "model_name": "LeafletCircleModel",
      "state": {
       "_model_module_version": "^0.13.2",
       "_view_module_version": "^0.13.2",
       "fill_color": "green",
       "fill_opacity": 1,
       "location": [
        -22.6166,
        -63.7965
       ],
       "options": [
        "class_name",
        "color",
        "dash_array",
        "fill",
        "fill_color",
        "fill_opacity",
        "line_cap",
        "line_join",
        "opacity",
        "pointer_events",
        "radius",
        "stroke",
        "weight"
       ],
       "radius": 30000,
       "stroke": false
      }
     },
     "5220db177f9b4b9096d6c8ec6f93d482": {
      "model_module": "jupyter-leaflet",
      "model_module_version": "^0.13.2",
      "model_name": "LeafletCircleModel",
      "state": {
       "_model_module_version": "^0.13.2",
       "_view_module_version": "^0.13.2",
       "fill_color": "green",
       "fill_opacity": 1,
       "location": [
        -34.4492,
        -58.5058
       ],
       "options": [
        "class_name",
        "color",
        "dash_array",
        "fill",
        "fill_color",
        "fill_opacity",
        "line_cap",
        "line_join",
        "opacity",
        "pointer_events",
        "radius",
        "stroke",
        "weight"
       ],
       "radius": 30000,
       "stroke": false
      }
     },
     "5240ab0e58f449ecaa42f55cb2834310": {
      "model_module": "jupyter-leaflet",
      "model_module_version": "^0.13.2",
      "model_name": "LeafletCircleModel",
      "state": {
       "_model_module_version": "^0.13.2",
       "_view_module_version": "^0.13.2",
       "fill_color": "green",
       "fill_opacity": 1,
       "location": [
        -38.9911,
        -64.0872
       ],
       "options": [
        "class_name",
        "color",
        "dash_array",
        "fill",
        "fill_color",
        "fill_opacity",
        "line_cap",
        "line_join",
        "opacity",
        "pointer_events",
        "radius",
        "stroke",
        "weight"
       ],
       "radius": 30000,
       "stroke": false
      }
     },
     "526116e3711240ed88c97403ea433d8c": {
      "model_module": "jupyter-leaflet",
      "model_module_version": "^0.13.2",
      "model_name": "LeafletMapStyleModel",
      "state": {
       "_model_module_version": "^0.13.2"
      }
     },
     "546f19899d0f406ea0c3da5b2aaa3fec": {
      "model_module": "jupyter-leaflet",
      "model_module_version": "^0.13.2",
      "model_name": "LeafletCircleModel",
      "state": {
       "_model_module_version": "^0.13.2",
       "_view_module_version": "^0.13.2",
       "fill_color": "orange",
       "fill_opacity": 1,
       "location": [
        -34.0499,
        -60.1361
       ],
       "options": [
        "class_name",
        "color",
        "dash_array",
        "fill",
        "fill_color",
        "fill_opacity",
        "line_cap",
        "line_join",
        "opacity",
        "pointer_events",
        "radius",
        "stroke",
        "weight"
       ],
       "radius": 30000,
       "stroke": false
      }
     },
     "54ba3fbef94b46228cb266c7f34833bc": {
      "model_module": "jupyter-leaflet",
      "model_module_version": "^0.13.2",
      "model_name": "LeafletCircleModel",
      "state": {
       "_model_module_version": "^0.13.2",
       "_view_module_version": "^0.13.2",
       "fill_color": "green",
       "fill_opacity": 1,
       "location": [
        -32.8437,
        -68.7963
       ],
       "options": [
        "class_name",
        "color",
        "dash_array",
        "fill",
        "fill_color",
        "fill_opacity",
        "line_cap",
        "line_join",
        "opacity",
        "pointer_events",
        "radius",
        "stroke",
        "weight"
       ],
       "radius": 30000,
       "stroke": false
      }
     },
     "5507656d07fa45f6a57992fdbe224354": {
      "model_module": "jupyter-leaflet",
      "model_module_version": "^0.13.2",
      "model_name": "LeafletCircleModel",
      "state": {
       "_model_module_version": "^0.13.2",
       "_view_module_version": "^0.13.2",
       "fill_color": "green",
       "fill_opacity": 1,
       "location": [
        -23.1547,
        -64.3281
       ],
       "options": [
        "class_name",
        "color",
        "dash_array",
        "fill",
        "fill_color",
        "fill_opacity",
        "line_cap",
        "line_join",
        "opacity",
        "pointer_events",
        "radius",
        "stroke",
        "weight"
       ],
       "radius": 30000,
       "stroke": false
      }
     },
     "5515436779cf46b7ab3dea88667acd8c": {
      "model_module": "jupyter-leaflet",
      "model_module_version": "^0.13.2",
      "model_name": "LeafletCircleModel",
      "state": {
       "_model_module_version": "^0.13.2",
       "_view_module_version": "^0.13.2",
       "fill_color": "green",
       "fill_opacity": 1,
       "location": [
        -33.0125,
        -58.6108
       ],
       "options": [
        "class_name",
        "color",
        "dash_array",
        "fill",
        "fill_color",
        "fill_opacity",
        "line_cap",
        "line_join",
        "opacity",
        "pointer_events",
        "radius",
        "stroke",
        "weight"
       ],
       "radius": 30000,
       "stroke": false
      }
     },
     "56bc86409cbd4b67ad61359338c03b5a": {
      "model_module": "jupyter-leaflet",
      "model_module_version": "^0.13.2",
      "model_name": "LeafletCircleModel",
      "state": {
       "_model_module_version": "^0.13.2",
       "_view_module_version": "^0.13.2",
       "fill_color": "green",
       "fill_opacity": 1,
       "location": [
        -31.4208,
        -64.1983
       ],
       "options": [
        "class_name",
        "color",
        "dash_array",
        "fill",
        "fill_color",
        "fill_opacity",
        "line_cap",
        "line_join",
        "opacity",
        "pointer_events",
        "radius",
        "stroke",
        "weight"
       ],
       "radius": 30000,
       "stroke": false
      }
     },
     "56dc7088a6494ef0b824b48cf8755186": {
      "model_module": "jupyter-leaflet",
      "model_module_version": "^0.13.2",
      "model_name": "LeafletCircleModel",
      "state": {
       "_model_module_version": "^0.13.2",
       "_view_module_version": "^0.13.2",
       "fill_color": "green",
       "fill_opacity": 1,
       "location": [
        -31.85,
        -59.08
       ],
       "options": [
        "class_name",
        "color",
        "dash_array",
        "fill",
        "fill_color",
        "fill_opacity",
        "line_cap",
        "line_join",
        "opacity",
        "pointer_events",
        "radius",
        "stroke",
        "weight"
       ],
       "radius": 30000,
       "stroke": false
      }
     },
     "5814337782784b849780625fa7a3c0af": {
      "model_module": "jupyter-leaflet",
      "model_module_version": "^0.13.2",
      "model_name": "LeafletCircleModel",
      "state": {
       "_model_module_version": "^0.13.2",
       "_view_module_version": "^0.13.2",
       "fill_color": "green",
       "fill_opacity": 1,
       "location": [
        -29.8756,
        -61.936
       ],
       "options": [
        "class_name",
        "color",
        "dash_array",
        "fill",
        "fill_color",
        "fill_opacity",
        "line_cap",
        "line_join",
        "opacity",
        "pointer_events",
        "radius",
        "stroke",
        "weight"
       ],
       "radius": 30000,
       "stroke": false
      }
     },
     "58d742a7c9634acba5aeed2165c22858": {
      "model_module": "jupyter-leaflet",
      "model_module_version": "^0.13.2",
      "model_name": "LeafletCircleModel",
      "state": {
       "_model_module_version": "^0.13.2",
       "_view_module_version": "^0.13.2",
       "fill_color": "green",
       "fill_opacity": 1,
       "location": [
        -34.8186,
        -58.5423
       ],
       "options": [
        "class_name",
        "color",
        "dash_array",
        "fill",
        "fill_color",
        "fill_opacity",
        "line_cap",
        "line_join",
        "opacity",
        "pointer_events",
        "radius",
        "stroke",
        "weight"
       ],
       "radius": 30000,
       "stroke": false
      }
     },
     "5acf5281778f4fcda8f11a4c24ac85c9": {
      "model_module": "jupyter-leaflet",
      "model_module_version": "^0.13.2",
      "model_name": "LeafletCircleModel",
      "state": {
       "_model_module_version": "^0.13.2",
       "_view_module_version": "^0.13.2",
       "fill_color": "green",
       "fill_opacity": 1,
       "location": [
        -50.0218,
        -68.5789
       ],
       "options": [
        "class_name",
        "color",
        "dash_array",
        "fill",
        "fill_color",
        "fill_opacity",
        "line_cap",
        "line_join",
        "opacity",
        "pointer_events",
        "radius",
        "stroke",
        "weight"
       ],
       "radius": 30000,
       "stroke": false
      }
     },
     "5b91d55a29d94ddc9b4af89720d1ce9a": {
      "model_module": "jupyter-leaflet",
      "model_module_version": "^0.13.2",
      "model_name": "LeafletCircleModel",
      "state": {
       "_model_module_version": "^0.13.2",
       "_view_module_version": "^0.13.2",
       "fill_color": "orange",
       "fill_opacity": 1,
       "location": [
        -37.37,
        -63.77
       ],
       "options": [
        "class_name",
        "color",
        "dash_array",
        "fill",
        "fill_color",
        "fill_opacity",
        "line_cap",
        "line_join",
        "opacity",
        "pointer_events",
        "radius",
        "stroke",
        "weight"
       ],
       "radius": 30000,
       "stroke": false
      }
     },
     "5cbd21d192e948e9aec8332cd055286e": {
      "model_module": "jupyter-leaflet",
      "model_module_version": "^0.13.2",
      "model_name": "LeafletCircleModel",
      "state": {
       "_model_module_version": "^0.13.2",
       "_view_module_version": "^0.13.2",
       "fill_color": "green",
       "fill_opacity": 1,
       "location": [
        -34.67,
        -58.65
       ],
       "options": [
        "class_name",
        "color",
        "dash_array",
        "fill",
        "fill_color",
        "fill_opacity",
        "line_cap",
        "line_join",
        "opacity",
        "pointer_events",
        "radius",
        "stroke",
        "weight"
       ],
       "radius": 30000,
       "stroke": false
      }
     },
     "5d5b0bd4b1254afcbdc709731d77e0d2": {
      "model_module": "jupyter-leaflet",
      "model_module_version": "^0.13.2",
      "model_name": "LeafletCircleModel",
      "state": {
       "_model_module_version": "^0.13.2",
       "_view_module_version": "^0.13.2",
       "fill_color": "green",
       "fill_opacity": 1,
       "location": [
        -38.8869,
        -63.1386
       ],
       "options": [
        "class_name",
        "color",
        "dash_array",
        "fill",
        "fill_color",
        "fill_opacity",
        "line_cap",
        "line_join",
        "opacity",
        "pointer_events",
        "radius",
        "stroke",
        "weight"
       ],
       "radius": 30000,
       "stroke": false
      }
     },
     "5e259dfa8ce74d4885d052ce5bf40aa9": {
      "model_module": "jupyter-leaflet",
      "model_module_version": "^0.13.2",
      "model_name": "LeafletCircleModel",
      "state": {
       "_model_module_version": "^0.13.2",
       "_view_module_version": "^0.13.2",
       "fill_color": "orange",
       "fill_opacity": 1,
       "location": [
        -38.2829,
        -62.9442
       ],
       "options": [
        "class_name",
        "color",
        "dash_array",
        "fill",
        "fill_color",
        "fill_opacity",
        "line_cap",
        "line_join",
        "opacity",
        "pointer_events",
        "radius",
        "stroke",
        "weight"
       ],
       "radius": 30000,
       "stroke": false
      }
     },
     "609657a46fb24a9c810bca177055fb82": {
      "model_module": "jupyter-leaflet",
      "model_module_version": "^0.13.2",
      "model_name": "LeafletCircleModel",
      "state": {
       "_model_module_version": "^0.13.2",
       "_view_module_version": "^0.13.2",
       "fill_color": "green",
       "fill_opacity": 1,
       "location": [
        -39.02,
        -64.08
       ],
       "options": [
        "class_name",
        "color",
        "dash_array",
        "fill",
        "fill_color",
        "fill_opacity",
        "line_cap",
        "line_join",
        "opacity",
        "pointer_events",
        "radius",
        "stroke",
        "weight"
       ],
       "radius": 30000,
       "stroke": false
      }
     },
     "61a8095f86934987a3ed693f2271c5c0": {
      "model_module": "jupyter-leaflet",
      "model_module_version": "^0.13.2",
      "model_name": "LeafletCircleModel",
      "state": {
       "_model_module_version": "^0.13.2",
       "_view_module_version": "^0.13.2",
       "fill_color": "green",
       "fill_opacity": 1,
       "location": [
        -32.8948,
        -68.8728
       ],
       "options": [
        "class_name",
        "color",
        "dash_array",
        "fill",
        "fill_color",
        "fill_opacity",
        "line_cap",
        "line_join",
        "opacity",
        "pointer_events",
        "radius",
        "stroke",
        "weight"
       ],
       "radius": 30000,
       "stroke": false
      }
     },
     "62299e84e22f45c18aef3aa4107a5a5d": {
      "model_module": "jupyter-leaflet",
      "model_module_version": "^0.13.2",
      "model_name": "LeafletCircleModel",
      "state": {
       "_model_module_version": "^0.13.2",
       "_view_module_version": "^0.13.2",
       "fill_color": "green",
       "fill_opacity": 1,
       "location": [
        -32.9185,
        -60.7815
       ],
       "options": [
        "class_name",
        "color",
        "dash_array",
        "fill",
        "fill_color",
        "fill_opacity",
        "line_cap",
        "line_join",
        "opacity",
        "pointer_events",
        "radius",
        "stroke",
        "weight"
       ],
       "radius": 30000,
       "stroke": false
      }
     },
     "62ad27f8985344b69f8eecbf3eb9534a": {
      "model_module": "jupyter-leaflet",
      "model_module_version": "^0.13.2",
      "model_name": "LeafletCircleModel",
      "state": {
       "_model_module_version": "^0.13.2",
       "_view_module_version": "^0.13.2",
       "fill_color": "green",
       "fill_opacity": 1,
       "location": [
        -31.6681,
        -63.882
       ],
       "options": [
        "class_name",
        "color",
        "dash_array",
        "fill",
        "fill_color",
        "fill_opacity",
        "line_cap",
        "line_join",
        "opacity",
        "pointer_events",
        "radius",
        "stroke",
        "weight"
       ],
       "radius": 30000,
       "stroke": false
      }
     },
     "6477250a4a4e45bdb1d4c722ba77e6a5": {
      "model_module": "jupyter-leaflet",
      "model_module_version": "^0.13.2",
      "model_name": "LeafletCircleModel",
      "state": {
       "_model_module_version": "^0.13.2",
       "_view_module_version": "^0.13.2",
       "fill_color": "green",
       "fill_opacity": 1,
       "location": [
        -34.1738,
        -58.8661
       ],
       "options": [
        "class_name",
        "color",
        "dash_array",
        "fill",
        "fill_color",
        "fill_opacity",
        "line_cap",
        "line_join",
        "opacity",
        "pointer_events",
        "radius",
        "stroke",
        "weight"
       ],
       "radius": 30000,
       "stroke": false
      }
     },
     "64f8953fe46a4dfeab4bd1fddea10d0b": {
      "model_module": "jupyter-leaflet",
      "model_module_version": "^0.13.2",
      "model_name": "LeafletCircleModel",
      "state": {
       "_model_module_version": "^0.13.2",
       "_view_module_version": "^0.13.2",
       "fill_color": "green",
       "fill_opacity": 1,
       "location": [
        -24.1786,
        -65.3263
       ],
       "options": [
        "class_name",
        "color",
        "dash_array",
        "fill",
        "fill_color",
        "fill_opacity",
        "line_cap",
        "line_join",
        "opacity",
        "pointer_events",
        "radius",
        "stroke",
        "weight"
       ],
       "radius": 30000,
       "stroke": false
      }
     },
     "6545d945b666462b9e0ea5952ea3cf2d": {
      "model_module": "jupyter-leaflet",
      "model_module_version": "^0.13.2",
      "model_name": "LeafletCircleModel",
      "state": {
       "_model_module_version": "^0.13.2",
       "_view_module_version": "^0.13.2",
       "fill_color": "orange",
       "fill_opacity": 1,
       "location": [
        -33.7746,
        -59.7519
       ],
       "options": [
        "class_name",
        "color",
        "dash_array",
        "fill",
        "fill_color",
        "fill_opacity",
        "line_cap",
        "line_join",
        "opacity",
        "pointer_events",
        "radius",
        "stroke",
        "weight"
       ],
       "radius": 30000,
       "stroke": false
      }
     },
     "65cd6790d16344f5815f535452c43313": {
      "model_module": "jupyter-leaflet",
      "model_module_version": "^0.13.2",
      "model_name": "LeafletCircleModel",
      "state": {
       "_model_module_version": "^0.13.2",
       "_view_module_version": "^0.13.2",
       "fill_color": "green",
       "fill_opacity": 1,
       "location": [
        -32.6797,
        -62.1505
       ],
       "options": [
        "class_name",
        "color",
        "dash_array",
        "fill",
        "fill_color",
        "fill_opacity",
        "line_cap",
        "line_join",
        "opacity",
        "pointer_events",
        "radius",
        "stroke",
        "weight"
       ],
       "radius": 30000,
       "stroke": false
      }
     },
     "670871216178411d9a107274b86e775e": {
      "model_module": "jupyter-leaflet",
      "model_module_version": "^0.13.2",
      "model_name": "LeafletCircleModel",
      "state": {
       "_model_module_version": "^0.13.2",
       "_view_module_version": "^0.13.2",
       "fill_color": "green",
       "fill_opacity": 1,
       "location": [
        90,
        0
       ],
       "options": [
        "class_name",
        "color",
        "dash_array",
        "fill",
        "fill_color",
        "fill_opacity",
        "line_cap",
        "line_join",
        "opacity",
        "pointer_events",
        "radius",
        "stroke",
        "weight"
       ],
       "radius": 30000,
       "stroke": false
      }
     },
     "693b9b7a47084c4d9c6a78ad3aad1570": {
      "model_module": "jupyter-leaflet",
      "model_module_version": "^0.13.2",
      "model_name": "LeafletCircleModel",
      "state": {
       "_model_module_version": "^0.13.2",
       "_view_module_version": "^0.13.2",
       "fill_color": "green",
       "fill_opacity": 1,
       "location": [
        -35.4813,
        -69.5834
       ],
       "options": [
        "class_name",
        "color",
        "dash_array",
        "fill",
        "fill_color",
        "fill_opacity",
        "line_cap",
        "line_join",
        "opacity",
        "pointer_events",
        "radius",
        "stroke",
        "weight"
       ],
       "radius": 30000,
       "stroke": false
      }
     },
     "6a7ddbe53101442992dce2b0c99ac7f9": {
      "model_module": "jupyter-leaflet",
      "model_module_version": "^0.13.2",
      "model_name": "LeafletCircleModel",
      "state": {
       "_model_module_version": "^0.13.2",
       "_view_module_version": "^0.13.2",
       "fill_color": "green",
       "fill_opacity": 1,
       "location": [
        -33.2745,
        -66.3514
       ],
       "options": [
        "class_name",
        "color",
        "dash_array",
        "fill",
        "fill_color",
        "fill_opacity",
        "line_cap",
        "line_join",
        "opacity",
        "pointer_events",
        "radius",
        "stroke",
        "weight"
       ],
       "radius": 30000,
       "stroke": false
      }
     },
     "6c00303eb3584094823853db757e7382": {
      "model_module": "jupyter-leaflet",
      "model_module_version": "^0.13.2",
      "model_name": "LeafletCircleModel",
      "state": {
       "_model_module_version": "^0.13.2",
       "_view_module_version": "^0.13.2",
       "fill_color": "green",
       "fill_opacity": 1,
       "location": [
        -28.0673,
        -67.5653
       ],
       "options": [
        "class_name",
        "color",
        "dash_array",
        "fill",
        "fill_color",
        "fill_opacity",
        "line_cap",
        "line_join",
        "opacity",
        "pointer_events",
        "radius",
        "stroke",
        "weight"
       ],
       "radius": 30000,
       "stroke": false
      }
     },
     "6c96656322c74a9c9bb67184bfbaf1cc": {
      "model_module": "jupyter-leaflet",
      "model_module_version": "^0.13.2",
      "model_name": "LeafletCircleModel",
      "state": {
       "_model_module_version": "^0.13.2",
       "_view_module_version": "^0.13.2",
       "fill_color": "orange",
       "fill_opacity": 1,
       "location": [
        -38,
        -63.52
       ],
       "options": [
        "class_name",
        "color",
        "dash_array",
        "fill",
        "fill_color",
        "fill_opacity",
        "line_cap",
        "line_join",
        "opacity",
        "pointer_events",
        "radius",
        "stroke",
        "weight"
       ],
       "radius": 30000,
       "stroke": false
      }
     },
     "6ca153acd2f245ddacd5f87ffe4d7923": {
      "model_module": "jupyter-leaflet",
      "model_module_version": "^0.13.2",
      "model_name": "LeafletCircleModel",
      "state": {
       "_model_module_version": "^0.13.2",
       "_view_module_version": "^0.13.2",
       "fill_color": "orange",
       "fill_opacity": 1,
       "location": [
        -36.0415,
        -59.1371
       ],
       "options": [
        "class_name",
        "color",
        "dash_array",
        "fill",
        "fill_color",
        "fill_opacity",
        "line_cap",
        "line_join",
        "opacity",
        "pointer_events",
        "radius",
        "stroke",
        "weight"
       ],
       "radius": 30000,
       "stroke": false
      }
     },
     "6d72d3d1cea34dd0b6bb90c701cae054": {
      "model_module": "jupyter-leaflet",
      "model_module_version": "^0.13.2",
      "model_name": "LeafletCircleModel",
      "state": {
       "_model_module_version": "^0.13.2",
       "_view_module_version": "^0.13.2",
       "fill_color": "green",
       "fill_opacity": 1,
       "location": [
        -34.48,
        -58.62
       ],
       "options": [
        "class_name",
        "color",
        "dash_array",
        "fill",
        "fill_color",
        "fill_opacity",
        "line_cap",
        "line_join",
        "opacity",
        "pointer_events",
        "radius",
        "stroke",
        "weight"
       ],
       "radius": 30000,
       "stroke": false
      }
     },
     "6f474cc8cd414bf298b7cc41e3d1f6bf": {
      "model_module": "jupyter-leaflet",
      "model_module_version": "^0.13.2",
      "model_name": "LeafletCircleModel",
      "state": {
       "_model_module_version": "^0.13.2",
       "_view_module_version": "^0.13.2",
       "fill_color": "green",
       "fill_opacity": 1,
       "location": [
        -34.9661,
        -57.8961
       ],
       "options": [
        "class_name",
        "color",
        "dash_array",
        "fill",
        "fill_color",
        "fill_opacity",
        "line_cap",
        "line_join",
        "opacity",
        "pointer_events",
        "radius",
        "stroke",
        "weight"
       ],
       "radius": 30000,
       "stroke": false
      }
     },
     "6fa5f284ce1b48f19ae422d537e4d662": {
      "model_module": "jupyter-leaflet",
      "model_module_version": "^0.13.2",
      "model_name": "LeafletCircleModel",
      "state": {
       "_model_module_version": "^0.13.2",
       "_view_module_version": "^0.13.2",
       "fill_color": "green",
       "fill_opacity": 1,
       "location": [
        -29.3825,
        -66.7933
       ],
       "options": [
        "class_name",
        "color",
        "dash_array",
        "fill",
        "fill_color",
        "fill_opacity",
        "line_cap",
        "line_join",
        "opacity",
        "pointer_events",
        "radius",
        "stroke",
        "weight"
       ],
       "radius": 30000,
       "stroke": false
      }
     },
     "72a438356d9d4865ac665006e9ae407e": {
      "model_module": "jupyter-leaflet",
      "model_module_version": "^0.13.2",
      "model_name": "LeafletCircleModel",
      "state": {
       "_model_module_version": "^0.13.2",
       "_view_module_version": "^0.13.2",
       "fill_color": "green",
       "fill_opacity": 1,
       "location": [
        -54.8484,
        -68.3105
       ],
       "options": [
        "class_name",
        "color",
        "dash_array",
        "fill",
        "fill_color",
        "fill_opacity",
        "line_cap",
        "line_join",
        "opacity",
        "pointer_events",
        "radius",
        "stroke",
        "weight"
       ],
       "radius": 30000,
       "stroke": false
      }
     },
     "74ed7c7d761e44c58bfcbe74e1717e10": {
      "model_module": "jupyter-leaflet",
      "model_module_version": "^0.13.2",
      "model_name": "LeafletCircleModel",
      "state": {
       "_model_module_version": "^0.13.2",
       "_view_module_version": "^0.13.2",
       "fill_color": "green",
       "fill_opacity": 1,
       "location": [
        -34.6054,
        -58.6703
       ],
       "options": [
        "class_name",
        "color",
        "dash_array",
        "fill",
        "fill_color",
        "fill_opacity",
        "line_cap",
        "line_join",
        "opacity",
        "pointer_events",
        "radius",
        "stroke",
        "weight"
       ],
       "radius": 30000,
       "stroke": false
      }
     },
     "761f1b03bc0a4f3980aa1b6171b59ee8": {
      "model_module": "jupyter-leaflet",
      "model_module_version": "^0.13.2",
      "model_name": "LeafletCircleModel",
      "state": {
       "_model_module_version": "^0.13.2",
       "_view_module_version": "^0.13.2",
       "fill_color": "orange",
       "fill_opacity": 1,
       "location": [
        -37.75,
        -63.0833
       ],
       "options": [
        "class_name",
        "color",
        "dash_array",
        "fill",
        "fill_color",
        "fill_opacity",
        "line_cap",
        "line_join",
        "opacity",
        "pointer_events",
        "radius",
        "stroke",
        "weight"
       ],
       "radius": 30000,
       "stroke": false
      }
     },
     "762febb7e1b941bb838f48d0c5e5e5ec": {
      "model_module": "jupyter-leaflet",
      "model_module_version": "^0.13.2",
      "model_name": "LeafletCircleModel",
      "state": {
       "_model_module_version": "^0.13.2",
       "_view_module_version": "^0.13.2",
       "fill_color": "orange",
       "fill_opacity": 1,
       "location": [
        -37.6082,
        -62.3865
       ],
       "options": [
        "class_name",
        "color",
        "dash_array",
        "fill",
        "fill_color",
        "fill_opacity",
        "line_cap",
        "line_join",
        "opacity",
        "pointer_events",
        "radius",
        "stroke",
        "weight"
       ],
       "radius": 30000,
       "stroke": false
      }
     },
     "7690c0620976494b93466252be6858b0": {
      "model_module": "jupyter-leaflet",
      "model_module_version": "^0.13.2",
      "model_name": "LeafletCircleModel",
      "state": {
       "_model_module_version": "^0.13.2",
       "_view_module_version": "^0.13.2",
       "fill_color": "orange",
       "fill_opacity": 1,
       "location": [
        -35.11,
        -60.49
       ],
       "options": [
        "class_name",
        "color",
        "dash_array",
        "fill",
        "fill_color",
        "fill_opacity",
        "line_cap",
        "line_join",
        "opacity",
        "pointer_events",
        "radius",
        "stroke",
        "weight"
       ],
       "radius": 30000,
       "stroke": false
      }
     },
     "7743902f861f438092d79519696ed854": {
      "model_module": "jupyter-leaflet",
      "model_module_version": "^0.13.2",
      "model_name": "LeafletCircleModel",
      "state": {
       "_model_module_version": "^0.13.2",
       "_view_module_version": "^0.13.2",
       "fill_color": "green",
       "fill_opacity": 1,
       "location": [
        -38.7811,
        -62.5951
       ],
       "options": [
        "class_name",
        "color",
        "dash_array",
        "fill",
        "fill_color",
        "fill_opacity",
        "line_cap",
        "line_join",
        "opacity",
        "pointer_events",
        "radius",
        "stroke",
        "weight"
       ],
       "radius": 30000,
       "stroke": false
      }
     },
     "790a66b0cc654833a6a50ca835b1c3e9": {
      "model_module": "jupyter-leaflet",
      "model_module_version": "^0.13.2",
      "model_name": "LeafletCircleModel",
      "state": {
       "_model_module_version": "^0.13.2",
       "_view_module_version": "^0.13.2",
       "fill_color": "green",
       "fill_opacity": 1,
       "location": [
        -37.9321,
        -57.5815
       ],
       "options": [
        "class_name",
        "color",
        "dash_array",
        "fill",
        "fill_color",
        "fill_opacity",
        "line_cap",
        "line_join",
        "opacity",
        "pointer_events",
        "radius",
        "stroke",
        "weight"
       ],
       "radius": 30000,
       "stroke": false
      }
     },
     "7927fb4d98e74914806423cfb9ea7305": {
      "model_module": "jupyter-leaflet",
      "model_module_version": "^0.13.2",
      "model_name": "LeafletCircleModel",
      "state": {
       "_model_module_version": "^0.13.2",
       "_view_module_version": "^0.13.2",
       "fill_color": "green",
       "fill_opacity": 1,
       "location": [
        -51.6116,
        -69.308
       ],
       "options": [
        "class_name",
        "color",
        "dash_array",
        "fill",
        "fill_color",
        "fill_opacity",
        "line_cap",
        "line_join",
        "opacity",
        "pointer_events",
        "radius",
        "stroke",
        "weight"
       ],
       "radius": 30000,
       "stroke": false
      }
     },
     "7a5641922ae347eba3851ad848794a9d": {
      "model_module": "jupyter-leaflet",
      "model_module_version": "^0.13.2",
      "model_name": "LeafletCircleModel",
      "state": {
       "_model_module_version": "^0.13.2",
       "_view_module_version": "^0.13.2",
       "fill_color": "green",
       "fill_opacity": 1,
       "location": [
        -40.7572,
        -65.0309
       ],
       "options": [
        "class_name",
        "color",
        "dash_array",
        "fill",
        "fill_color",
        "fill_opacity",
        "line_cap",
        "line_join",
        "opacity",
        "pointer_events",
        "radius",
        "stroke",
        "weight"
       ],
       "radius": 30000,
       "stroke": false
      }
     },
     "7ac7c414febe48c7bfa35f5ba1056850": {
      "model_module": "jupyter-leaflet",
      "model_module_version": "^0.13.2",
      "model_name": "LeafletCircleModel",
      "state": {
       "_model_module_version": "^0.13.2",
       "_view_module_version": "^0.13.2",
       "fill_color": "green",
       "fill_opacity": 1,
       "location": [
        -26.8373,
        -65.1084
       ],
       "options": [
        "class_name",
        "color",
        "dash_array",
        "fill",
        "fill_color",
        "fill_opacity",
        "line_cap",
        "line_join",
        "opacity",
        "pointer_events",
        "radius",
        "stroke",
        "weight"
       ],
       "radius": 30000,
       "stroke": false
      }
     },
     "7c1c1d1a54cb4e93864738bf9cf9337c": {
      "model_module": "jupyter-leaflet",
      "model_module_version": "^0.13.2",
      "model_name": "LeafletCircleModel",
      "state": {
       "_model_module_version": "^0.13.2",
       "_view_module_version": "^0.13.2",
       "fill_color": "green",
       "fill_opacity": 1,
       "location": [
        -31.37,
        -58.12
       ],
       "options": [
        "class_name",
        "color",
        "dash_array",
        "fill",
        "fill_color",
        "fill_opacity",
        "line_cap",
        "line_join",
        "opacity",
        "pointer_events",
        "radius",
        "stroke",
        "weight"
       ],
       "radius": 30000,
       "stroke": false
      }
     },
     "7eca766905d04c9b98e4f189f50b237b": {
      "model_module": "jupyter-leaflet",
      "model_module_version": "^0.13.2",
      "model_name": "LeafletCircleModel",
      "state": {
       "_model_module_version": "^0.13.2",
       "_view_module_version": "^0.13.2",
       "fill_color": "orange",
       "fill_opacity": 1,
       "location": [
        -36.5,
        -62
       ],
       "options": [
        "class_name",
        "color",
        "dash_array",
        "fill",
        "fill_color",
        "fill_opacity",
        "line_cap",
        "line_join",
        "opacity",
        "pointer_events",
        "radius",
        "stroke",
        "weight"
       ],
       "radius": 30000,
       "stroke": false
      }
     },
     "8123e587d7e5427a9a6801602d220106": {
      "model_module": "jupyter-leaflet",
      "model_module_version": "^0.13.2",
      "model_name": "LeafletCircleModel",
      "state": {
       "_model_module_version": "^0.13.2",
       "_view_module_version": "^0.13.2",
       "fill_color": "green",
       "fill_opacity": 1,
       "location": [
        -27.4837,
        -55.1317
       ],
       "options": [
        "class_name",
        "color",
        "dash_array",
        "fill",
        "fill_color",
        "fill_opacity",
        "line_cap",
        "line_join",
        "opacity",
        "pointer_events",
        "radius",
        "stroke",
        "weight"
       ],
       "radius": 30000,
       "stroke": false
      }
     },
     "826a8446e0614d949c7a7dadb8a4ab45": {
      "model_module": "jupyter-leaflet",
      "model_module_version": "^0.13.2",
      "model_name": "LeafletCircleModel",
      "state": {
       "_model_module_version": "^0.13.2",
       "_view_module_version": "^0.13.2",
       "fill_color": "green",
       "fill_opacity": 1,
       "location": [
        -29.2184,
        -67.4425
       ],
       "options": [
        "class_name",
        "color",
        "dash_array",
        "fill",
        "fill_color",
        "fill_opacity",
        "line_cap",
        "line_join",
        "opacity",
        "pointer_events",
        "radius",
        "stroke",
        "weight"
       ],
       "radius": 30000,
       "stroke": false
      }
     },
     "836341f02a574d0bafd9ca0a763e1ce8": {
      "model_module": "jupyter-leaflet",
      "model_module_version": "^0.13.2",
      "model_name": "LeafletCircleModel",
      "state": {
       "_model_module_version": "^0.13.2",
       "_view_module_version": "^0.13.2",
       "fill_color": "orange",
       "fill_opacity": 1,
       "location": [
        -36.54,
        -63.99
       ],
       "options": [
        "class_name",
        "color",
        "dash_array",
        "fill",
        "fill_color",
        "fill_opacity",
        "line_cap",
        "line_join",
        "opacity",
        "pointer_events",
        "radius",
        "stroke",
        "weight"
       ],
       "radius": 30000,
       "stroke": false
      }
     },
     "842417880d514bcfb2dd850345103289": {
      "model_module": "jupyter-leaflet",
      "model_module_version": "^0.13.2",
      "model_name": "LeafletCircleModel",
      "state": {
       "_model_module_version": "^0.13.2",
       "_view_module_version": "^0.13.2",
       "fill_color": "green",
       "fill_opacity": 1,
       "location": [
        -24.384,
        -65.0955
       ],
       "options": [
        "class_name",
        "color",
        "dash_array",
        "fill",
        "fill_color",
        "fill_opacity",
        "line_cap",
        "line_join",
        "opacity",
        "pointer_events",
        "radius",
        "stroke",
        "weight"
       ],
       "radius": 30000,
       "stroke": false
      }
     },
     "853b51eaba744b23a1c8a7d98cd18c35": {
      "model_module": "jupyter-leaflet",
      "model_module_version": "^0.13.2",
      "model_name": "LeafletCircleModel",
      "state": {
       "_model_module_version": "^0.13.2",
       "_view_module_version": "^0.13.2",
       "fill_color": "green",
       "fill_opacity": 1,
       "location": [
        -33.0955,
        -64.277
       ],
       "options": [
        "class_name",
        "color",
        "dash_array",
        "fill",
        "fill_color",
        "fill_opacity",
        "line_cap",
        "line_join",
        "opacity",
        "pointer_events",
        "radius",
        "stroke",
        "weight"
       ],
       "radius": 30000,
       "stroke": false
      }
     },
     "85d77f5149bb43968fcfe04c396ab02a": {
      "model_module": "jupyter-leaflet",
      "model_module_version": "^0.13.2",
      "model_name": "LeafletCircleModel",
      "state": {
       "_model_module_version": "^0.13.2",
       "_view_module_version": "^0.13.2",
       "fill_color": "orange",
       "fill_opacity": 1,
       "location": [
        -35.4794,
        -60.1267
       ],
       "options": [
        "class_name",
        "color",
        "dash_array",
        "fill",
        "fill_color",
        "fill_opacity",
        "line_cap",
        "line_join",
        "opacity",
        "pointer_events",
        "radius",
        "stroke",
        "weight"
       ],
       "radius": 30000,
       "stroke": false
      }
     },
     "85fcbd386d534c19b6800df9f3db6685": {
      "model_module": "jupyter-leaflet",
      "model_module_version": "^0.13.2",
      "model_name": "LeafletCircleModel",
      "state": {
       "_model_module_version": "^0.13.2",
       "_view_module_version": "^0.13.2",
       "fill_color": "green",
       "fill_opacity": 1,
       "location": [
        -46.5385,
        -70.985
       ],
       "options": [
        "class_name",
        "color",
        "dash_array",
        "fill",
        "fill_color",
        "fill_opacity",
        "line_cap",
        "line_join",
        "opacity",
        "pointer_events",
        "radius",
        "stroke",
        "weight"
       ],
       "radius": 30000,
       "stroke": false
      }
     },
     "8689173c789f4fe1b0669da700522483": {
      "model_module": "jupyter-leaflet",
      "model_module_version": "^0.13.2",
      "model_name": "LeafletCircleModel",
      "state": {
       "_model_module_version": "^0.13.2",
       "_view_module_version": "^0.13.2",
       "fill_color": "orange",
       "fill_opacity": 1,
       "location": [
        -35.969,
        -62.7261
       ],
       "options": [
        "class_name",
        "color",
        "dash_array",
        "fill",
        "fill_color",
        "fill_opacity",
        "line_cap",
        "line_join",
        "opacity",
        "pointer_events",
        "radius",
        "stroke",
        "weight"
       ],
       "radius": 30000,
       "stroke": false
      }
     },
     "87240096aa6649c781adf6de4f278436": {
      "model_module": "jupyter-leaflet",
      "model_module_version": "^0.13.2",
      "model_name": "LeafletCircleModel",
      "state": {
       "_model_module_version": "^0.13.2",
       "_view_module_version": "^0.13.2",
       "fill_color": "green",
       "fill_opacity": 1,
       "location": [
        -41.9541,
        -71.5339
       ],
       "options": [
        "class_name",
        "color",
        "dash_array",
        "fill",
        "fill_color",
        "fill_opacity",
        "line_cap",
        "line_join",
        "opacity",
        "pointer_events",
        "radius",
        "stroke",
        "weight"
       ],
       "radius": 30000,
       "stroke": false
      }
     },
     "872a0ae291b349e689116fae7cfb737d": {
      "model_module": "jupyter-leaflet",
      "model_module_version": "^0.13.2",
      "model_name": "LeafletCircleModel",
      "state": {
       "_model_module_version": "^0.13.2",
       "_view_module_version": "^0.13.2",
       "fill_color": "green",
       "fill_opacity": 1,
       "location": [
        -34.5902,
        -58.484
       ],
       "options": [
        "class_name",
        "color",
        "dash_array",
        "fill",
        "fill_color",
        "fill_opacity",
        "line_cap",
        "line_join",
        "opacity",
        "pointer_events",
        "radius",
        "stroke",
        "weight"
       ],
       "radius": 30000,
       "stroke": false
      }
     },
     "879d659e2fcd40d7a2ec92012c6ab5aa": {
      "model_module": "jupyter-leaflet",
      "model_module_version": "^0.13.2",
      "model_name": "LeafletCircleModel",
      "state": {
       "_model_module_version": "^0.13.2",
       "_view_module_version": "^0.13.2",
       "fill_color": "green",
       "fill_opacity": 1,
       "location": [
        -24.9,
        -65.48
       ],
       "options": [
        "class_name",
        "color",
        "dash_array",
        "fill",
        "fill_color",
        "fill_opacity",
        "line_cap",
        "line_join",
        "opacity",
        "pointer_events",
        "radius",
        "stroke",
        "weight"
       ],
       "radius": 30000,
       "stroke": false
      }
     },
     "88d25aea40ed4ade8369428c20900eb9": {
      "model_module": "jupyter-leaflet",
      "model_module_version": "^0.13.2",
      "model_name": "LeafletCircleModel",
      "state": {
       "_model_module_version": "^0.13.2",
       "_view_module_version": "^0.13.2",
       "fill_color": "green",
       "fill_opacity": 1,
       "location": [
        -26.2124,
        -58.2293
       ],
       "options": [
        "class_name",
        "color",
        "dash_array",
        "fill",
        "fill_color",
        "fill_opacity",
        "line_cap",
        "line_join",
        "opacity",
        "pointer_events",
        "radius",
        "stroke",
        "weight"
       ],
       "radius": 30000,
       "stroke": false
      }
     },
     "8a87c47ea2be4ddaa15112ea0cb9d4d6": {
      "model_module": "jupyter-leaflet",
      "model_module_version": "^0.13.2",
      "model_name": "LeafletCircleModel",
      "state": {
       "_model_module_version": "^0.13.2",
       "_view_module_version": "^0.13.2",
       "fill_color": "green",
       "fill_opacity": 1,
       "location": [
        -38.1549,
        -57.9941
       ],
       "options": [
        "class_name",
        "color",
        "dash_array",
        "fill",
        "fill_color",
        "fill_opacity",
        "line_cap",
        "line_join",
        "opacity",
        "pointer_events",
        "radius",
        "stroke",
        "weight"
       ],
       "radius": 30000,
       "stroke": false
      }
     },
     "8a8facdce6fa4efe9014f83389270c53": {
      "model_module": "jupyter-leaflet",
      "model_module_version": "^0.13.2",
      "model_name": "LeafletCircleModel",
      "state": {
       "_model_module_version": "^0.13.2",
       "_view_module_version": "^0.13.2",
       "fill_color": "green",
       "fill_opacity": 1,
       "location": [
        -31.3316,
        -66.5886
       ],
       "options": [
        "class_name",
        "color",
        "dash_array",
        "fill",
        "fill_color",
        "fill_opacity",
        "line_cap",
        "line_join",
        "opacity",
        "pointer_events",
        "radius",
        "stroke",
        "weight"
       ],
       "radius": 30000,
       "stroke": false
      }
     },
     "8b4b6d98831e409a94d90642df4e40ac": {
      "model_module": "jupyter-leaflet",
      "model_module_version": "^0.13.2",
      "model_name": "LeafletCircleModel",
      "state": {
       "_model_module_version": "^0.13.2",
       "_view_module_version": "^0.13.2",
       "fill_color": "green",
       "fill_opacity": 1,
       "location": [
        -39.38,
        -62.62
       ],
       "options": [
        "class_name",
        "color",
        "dash_array",
        "fill",
        "fill_color",
        "fill_opacity",
        "line_cap",
        "line_join",
        "opacity",
        "pointer_events",
        "radius",
        "stroke",
        "weight"
       ],
       "radius": 30000,
       "stroke": false
      }
     },
     "8bfcf15eb4544db2a9e046ecd7551384": {
      "model_module": "jupyter-leaflet",
      "model_module_version": "^0.13.2",
      "model_name": "LeafletCircleModel",
      "state": {
       "_model_module_version": "^0.13.2",
       "_view_module_version": "^0.13.2",
       "fill_color": "green",
       "fill_opacity": 1,
       "location": [
        -29.9058,
        -63.7276
       ],
       "options": [
        "class_name",
        "color",
        "dash_array",
        "fill",
        "fill_color",
        "fill_opacity",
        "line_cap",
        "line_join",
        "opacity",
        "pointer_events",
        "radius",
        "stroke",
        "weight"
       ],
       "radius": 30000,
       "stroke": false
      }
     },
     "8c717907c77e4f1aa4e31f843e02603e": {
      "model_module": "jupyter-leaflet",
      "model_module_version": "^0.13.2",
      "model_name": "LeafletCircleModel",
      "state": {
       "_model_module_version": "^0.13.2",
       "_view_module_version": "^0.13.2",
       "fill_color": "green",
       "fill_opacity": 1,
       "location": [
        -50.4619,
        -73.0241
       ],
       "options": [
        "class_name",
        "color",
        "dash_array",
        "fill",
        "fill_color",
        "fill_opacity",
        "line_cap",
        "line_join",
        "opacity",
        "pointer_events",
        "radius",
        "stroke",
        "weight"
       ],
       "radius": 30000,
       "stroke": false
      }
     },
     "8efddc616cf04b5c9c1bbf2325d6c54a": {
      "model_module": "jupyter-leaflet",
      "model_module_version": "^0.13.2",
      "model_name": "LeafletCircleModel",
      "state": {
       "_model_module_version": "^0.13.2",
       "_view_module_version": "^0.13.2",
       "fill_color": "green",
       "fill_opacity": 1,
       "location": [
        -31.7904,
        -60.4842
       ],
       "options": [
        "class_name",
        "color",
        "dash_array",
        "fill",
        "fill_color",
        "fill_opacity",
        "line_cap",
        "line_join",
        "opacity",
        "pointer_events",
        "radius",
        "stroke",
        "weight"
       ],
       "radius": 30000,
       "stroke": false
      }
     },
     "8fc0dfb458e9408aa4ae6d3c4833a1d6": {
      "model_module": "jupyter-leaflet",
      "model_module_version": "^0.13.2",
      "model_name": "LeafletCircleModel",
      "state": {
       "_model_module_version": "^0.13.2",
       "_view_module_version": "^0.13.2",
       "fill_color": "green",
       "fill_opacity": 1,
       "location": [
        -34.455,
        -58.5845
       ],
       "options": [
        "class_name",
        "color",
        "dash_array",
        "fill",
        "fill_color",
        "fill_opacity",
        "line_cap",
        "line_join",
        "opacity",
        "pointer_events",
        "radius",
        "stroke",
        "weight"
       ],
       "radius": 30000,
       "stroke": false
      }
     },
     "8ff2175071b14b45973c93ce4fcc4583": {
      "model_module": "jupyter-leaflet",
      "model_module_version": "^0.13.2",
      "model_name": "LeafletCircleModel",
      "state": {
       "_model_module_version": "^0.13.2",
       "_view_module_version": "^0.13.2",
       "fill_color": "green",
       "fill_opacity": 1,
       "location": [
        -40.0805,
        -71.1442
       ],
       "options": [
        "class_name",
        "color",
        "dash_array",
        "fill",
        "fill_color",
        "fill_opacity",
        "line_cap",
        "line_join",
        "opacity",
        "pointer_events",
        "radius",
        "stroke",
        "weight"
       ],
       "radius": 30000,
       "stroke": false
      }
     },
     "9030f82cd37c4ea99d6ecf889947a624": {
      "model_module": "jupyter-leaflet",
      "model_module_version": "^0.13.2",
      "model_name": "LeafletCircleModel",
      "state": {
       "_model_module_version": "^0.13.2",
       "_view_module_version": "^0.13.2",
       "fill_color": "green",
       "fill_opacity": 1,
       "location": [
        -27.391,
        -55.967
       ],
       "options": [
        "class_name",
        "color",
        "dash_array",
        "fill",
        "fill_color",
        "fill_opacity",
        "line_cap",
        "line_join",
        "opacity",
        "pointer_events",
        "radius",
        "stroke",
        "weight"
       ],
       "radius": 30000,
       "stroke": false
      }
     },
     "932f1e3bd9e34ceda69f21ea8fa4418e": {
      "model_module": "jupyter-leaflet",
      "model_module_version": "^0.13.2",
      "model_name": "LeafletCircleModel",
      "state": {
       "_model_module_version": "^0.13.2",
       "_view_module_version": "^0.13.2",
       "fill_color": "green",
       "fill_opacity": 1,
       "location": [
        -27.08,
        -61.12
       ],
       "options": [
        "class_name",
        "color",
        "dash_array",
        "fill",
        "fill_color",
        "fill_opacity",
        "line_cap",
        "line_join",
        "opacity",
        "pointer_events",
        "radius",
        "stroke",
        "weight"
       ],
       "radius": 30000,
       "stroke": false
      }
     },
     "93db3b89806d4864987b6e587883c342": {
      "model_module": "jupyter-leaflet",
      "model_module_version": "^0.13.2",
      "model_name": "LeafletCircleModel",
      "state": {
       "_model_module_version": "^0.13.2",
       "_view_module_version": "^0.13.2",
       "fill_color": "orange",
       "fill_opacity": 1,
       "location": [
        -35.439,
        -60.8819
       ],
       "options": [
        "class_name",
        "color",
        "dash_array",
        "fill",
        "fill_color",
        "fill_opacity",
        "line_cap",
        "line_join",
        "opacity",
        "pointer_events",
        "radius",
        "stroke",
        "weight"
       ],
       "radius": 30000,
       "stroke": false
      }
     },
     "9574de4463454976a4a8b01ec31df5d4": {
      "model_module": "jupyter-leaflet",
      "model_module_version": "^0.13.2",
      "model_name": "LeafletCircleModel",
      "state": {
       "_model_module_version": "^0.13.2",
       "_view_module_version": "^0.13.2",
       "fill_color": "orange",
       "fill_opacity": 1,
       "location": [
        -37.7417,
        -61.5254
       ],
       "options": [
        "class_name",
        "color",
        "dash_array",
        "fill",
        "fill_color",
        "fill_opacity",
        "line_cap",
        "line_join",
        "opacity",
        "pointer_events",
        "radius",
        "stroke",
        "weight"
       ],
       "radius": 30000,
       "stroke": false
      }
     },
     "95fd68dd696c43afbfbe029126bdedb6": {
      "model_module": "jupyter-leaflet",
      "model_module_version": "^0.13.2",
      "model_name": "LeafletCircleModel",
      "state": {
       "_model_module_version": "^0.13.2",
       "_view_module_version": "^0.13.2",
       "fill_color": "green",
       "fill_opacity": 1,
       "location": [
        -27.75,
        -64.25
       ],
       "options": [
        "class_name",
        "color",
        "dash_array",
        "fill",
        "fill_color",
        "fill_opacity",
        "line_cap",
        "line_join",
        "opacity",
        "pointer_events",
        "radius",
        "stroke",
        "weight"
       ],
       "radius": 30000,
       "stroke": false
      }
     },
     "9a1c140bcd304cdca7806b45e7c2e6bd": {
      "model_module": "jupyter-leaflet",
      "model_module_version": "^0.13.2",
      "model_name": "LeafletTileLayerModel",
      "state": {
       "_model_module_version": "^0.13.2",
       "_view_module_version": "^0.13.2",
       "attribution": "&copy; <a href=\"http://www.openstreetmap.org/copyright\">OpenStreetMap</a> &copy; <a href=\"http://cartodb.com/attributions\">CartoDB</a>",
       "base": true,
       "max_native_zoom": 18,
       "max_zoom": 20,
       "min_native_zoom": 0,
       "min_zoom": 1,
       "name": "CartoDB.Positron",
       "options": [
        "attribution",
        "detect_retina",
        "max_native_zoom",
        "max_zoom",
        "min_native_zoom",
        "min_zoom",
        "no_wrap",
        "tile_size",
        "tms"
       ],
       "url": "http://c.basemaps.cartocdn.com/light_all/{z}/{x}/{y}.png"
      }
     },
     "9ac1a606d95549e1bda7ec6ec49b82a0": {
      "model_module": "jupyter-leaflet",
      "model_module_version": "^0.13.2",
      "model_name": "LeafletCircleModel",
      "state": {
       "_model_module_version": "^0.13.2",
       "_view_module_version": "^0.13.2",
       "fill_color": "green",
       "fill_opacity": 1,
       "location": [
        -47.7337,
        -65.9078
       ],
       "options": [
        "class_name",
        "color",
        "dash_array",
        "fill",
        "fill_color",
        "fill_opacity",
        "line_cap",
        "line_join",
        "opacity",
        "pointer_events",
        "radius",
        "stroke",
        "weight"
       ],
       "radius": 30000,
       "stroke": false
      }
     },
     "9c05b4b3e718413b9f82867a3b5a9625": {
      "model_module": "jupyter-leaflet",
      "model_module_version": "^0.13.2",
      "model_name": "LeafletCircleModel",
      "state": {
       "_model_module_version": "^0.13.2",
       "_view_module_version": "^0.13.2",
       "fill_color": "red",
       "fill_opacity": 1,
       "location": [
        -35.8407,
        -61.8598
       ],
       "options": [
        "class_name",
        "color",
        "dash_array",
        "fill",
        "fill_color",
        "fill_opacity",
        "line_cap",
        "line_join",
        "opacity",
        "pointer_events",
        "radius",
        "stroke",
        "weight"
       ],
       "radius": 30000,
       "stroke": false
      }
     },
     "9c0cf2314b4b4c1e971506094bd2724c": {
      "model_module": "jupyter-leaflet",
      "model_module_version": "^0.13.2",
      "model_name": "LeafletCircleModel",
      "state": {
       "_model_module_version": "^0.13.2",
       "_view_module_version": "^0.13.2",
       "fill_color": "orange",
       "fill_opacity": 1,
       "location": [
        -37.4533,
        -61.8907
       ],
       "options": [
        "class_name",
        "color",
        "dash_array",
        "fill",
        "fill_color",
        "fill_opacity",
        "line_cap",
        "line_join",
        "opacity",
        "pointer_events",
        "radius",
        "stroke",
        "weight"
       ],
       "radius": 30000,
       "stroke": false
      }
     },
     "9c7deba725354f368798c7fcc7d48b6f": {
      "model_module": "jupyter-leaflet",
      "model_module_version": "^0.13.2",
      "model_name": "LeafletCircleModel",
      "state": {
       "_model_module_version": "^0.13.2",
       "_view_module_version": "^0.13.2",
       "fill_color": "green",
       "fill_opacity": 1,
       "location": [
        -36.3169,
        -57.7169
       ],
       "options": [
        "class_name",
        "color",
        "dash_array",
        "fill",
        "fill_color",
        "fill_opacity",
        "line_cap",
        "line_join",
        "opacity",
        "pointer_events",
        "radius",
        "stroke",
        "weight"
       ],
       "radius": 30000,
       "stroke": false
      }
     },
     "9ced5c40555c4d58976571930a22bd40": {
      "model_module": "jupyter-leaflet",
      "model_module_version": "^0.13.2",
      "model_name": "LeafletCircleModel",
      "state": {
       "_model_module_version": "^0.13.2",
       "_view_module_version": "^0.13.2",
       "fill_color": "orange",
       "fill_opacity": 1,
       "location": [
        -36.8906,
        -60.2228
       ],
       "options": [
        "class_name",
        "color",
        "dash_array",
        "fill",
        "fill_color",
        "fill_opacity",
        "line_cap",
        "line_join",
        "opacity",
        "pointer_events",
        "radius",
        "stroke",
        "weight"
       ],
       "radius": 30000,
       "stroke": false
      }
     },
     "9e635f4b6df44a9290fd326da5798b89": {
      "model_module": "jupyter-leaflet",
      "model_module_version": "^0.13.2",
      "model_name": "LeafletCircleModel",
      "state": {
       "_model_module_version": "^0.13.2",
       "_view_module_version": "^0.13.2",
       "fill_color": "orange",
       "fill_opacity": 1,
       "location": [
        -37.2412,
        -59.2332
       ],
       "options": [
        "class_name",
        "color",
        "dash_array",
        "fill",
        "fill_color",
        "fill_opacity",
        "line_cap",
        "line_join",
        "opacity",
        "pointer_events",
        "radius",
        "stroke",
        "weight"
       ],
       "radius": 30000,
       "stroke": false
      }
     },
     "9f7024b4cf3344988a946f89d6b28b9c": {
      "model_module": "jupyter-leaflet",
      "model_module_version": "^0.13.2",
      "model_name": "LeafletCircleModel",
      "state": {
       "_model_module_version": "^0.13.2",
       "_view_module_version": "^0.13.2",
       "fill_color": "orange",
       "fill_opacity": 1,
       "location": [
        -33.57,
        -62.88
       ],
       "options": [
        "class_name",
        "color",
        "dash_array",
        "fill",
        "fill_color",
        "fill_opacity",
        "line_cap",
        "line_join",
        "opacity",
        "pointer_events",
        "radius",
        "stroke",
        "weight"
       ],
       "radius": 30000,
       "stroke": false
      }
     },
     "a18dcf02d44f4e9f852432ec0f92c249": {
      "model_module": "jupyter-leaflet",
      "model_module_version": "^0.13.2",
      "model_name": "LeafletCircleModel",
      "state": {
       "_model_module_version": "^0.13.2",
       "_view_module_version": "^0.13.2",
       "fill_color": "green",
       "fill_opacity": 1,
       "location": [
        -33.7181,
        -65.3737
       ],
       "options": [
        "class_name",
        "color",
        "dash_array",
        "fill",
        "fill_color",
        "fill_opacity",
        "line_cap",
        "line_join",
        "opacity",
        "pointer_events",
        "radius",
        "stroke",
        "weight"
       ],
       "radius": 30000,
       "stroke": false
      }
     },
     "a468fa74ce8148a69b86367fcddd3004": {
      "model_module": "jupyter-leaflet",
      "model_module_version": "^0.13.2",
      "model_name": "LeafletCircleModel",
      "state": {
       "_model_module_version": "^0.13.2",
       "_view_module_version": "^0.13.2",
       "fill_color": "green",
       "fill_opacity": 1,
       "location": [
        -42.7555,
        -65.1015
       ],
       "options": [
        "class_name",
        "color",
        "dash_array",
        "fill",
        "fill_color",
        "fill_opacity",
        "line_cap",
        "line_join",
        "opacity",
        "pointer_events",
        "radius",
        "stroke",
        "weight"
       ],
       "radius": 30000,
       "stroke": false
      }
     },
     "a5354433efd74deb91ab30fd9aba1f6c": {
      "model_module": "jupyter-leaflet",
      "model_module_version": "^0.13.2",
      "model_name": "LeafletCircleModel",
      "state": {
       "_model_module_version": "^0.13.2",
       "_view_module_version": "^0.13.2",
       "fill_color": "green",
       "fill_opacity": 1,
       "location": [
        -33.02,
        -60.88
       ],
       "options": [
        "class_name",
        "color",
        "dash_array",
        "fill",
        "fill_color",
        "fill_opacity",
        "line_cap",
        "line_join",
        "opacity",
        "pointer_events",
        "radius",
        "stroke",
        "weight"
       ],
       "radius": 30000,
       "stroke": false
      }
     },
     "a5d3939840e14d9a8e2206f186497a53": {
      "model_module": "jupyter-leaflet",
      "model_module_version": "^0.13.2",
      "model_name": "LeafletAttributionControlModel",
      "state": {
       "_model_module_version": "^0.13.2",
       "_view_module_version": "^0.13.2",
       "options": [
        "position",
        "prefix"
       ],
       "position": "bottomright",
       "prefix": "ipyleaflet"
      }
     },
     "a65e5a44d6eb4561b52c1febd67d4144": {
      "model_module": "jupyter-leaflet",
      "model_module_version": "^0.13.2",
      "model_name": "LeafletCircleModel",
      "state": {
       "_model_module_version": "^0.13.2",
       "_view_module_version": "^0.13.2",
       "fill_color": "green",
       "fill_opacity": 1,
       "location": [
        -40.18,
        -62.61
       ],
       "options": [
        "class_name",
        "color",
        "dash_array",
        "fill",
        "fill_color",
        "fill_opacity",
        "line_cap",
        "line_join",
        "opacity",
        "pointer_events",
        "radius",
        "stroke",
        "weight"
       ],
       "radius": 30000,
       "stroke": false
      }
     },
     "a924fd5d6ee242d6bf8dc68c2b45eda6": {
      "model_module": "jupyter-leaflet",
      "model_module_version": "^0.13.2",
      "model_name": "LeafletCircleModel",
      "state": {
       "_model_module_version": "^0.13.2",
       "_view_module_version": "^0.13.2",
       "fill_color": "green",
       "fill_opacity": 1,
       "location": [
        -51.6046,
        -72.229
       ],
       "options": [
        "class_name",
        "color",
        "dash_array",
        "fill",
        "fill_color",
        "fill_opacity",
        "line_cap",
        "line_join",
        "opacity",
        "pointer_events",
        "radius",
        "stroke",
        "weight"
       ],
       "radius": 30000,
       "stroke": false
      }
     },
     "ab2c256cf28241dd90e863fe74175d61": {
      "model_module": "jupyter-leaflet",
      "model_module_version": "^0.13.2",
      "model_name": "LeafletCircleModel",
      "state": {
       "_model_module_version": "^0.13.2",
       "_view_module_version": "^0.13.2",
       "fill_color": "green",
       "fill_opacity": 1,
       "location": [
        -48.7824,
        -70.1627
       ],
       "options": [
        "class_name",
        "color",
        "dash_array",
        "fill",
        "fill_color",
        "fill_opacity",
        "line_cap",
        "line_join",
        "opacity",
        "pointer_events",
        "radius",
        "stroke",
        "weight"
       ],
       "radius": 30000,
       "stroke": false
      }
     },
     "adb27aea69f848b2b71efafb116fafce": {
      "model_module": "jupyter-leaflet",
      "model_module_version": "^0.13.2",
      "model_name": "LeafletCircleModel",
      "state": {
       "_model_module_version": "^0.13.2",
       "_view_module_version": "^0.13.2",
       "fill_color": "green",
       "fill_opacity": 1,
       "location": [
        -33.3583,
        -60.2253
       ],
       "options": [
        "class_name",
        "color",
        "dash_array",
        "fill",
        "fill_color",
        "fill_opacity",
        "line_cap",
        "line_join",
        "opacity",
        "pointer_events",
        "radius",
        "stroke",
        "weight"
       ],
       "radius": 30000,
       "stroke": false
      }
     },
     "ae8e27280f6f42fd8bf09ed318fb6e91": {
      "model_module": "jupyter-leaflet",
      "model_module_version": "^0.13.2",
      "model_name": "LeafletCircleModel",
      "state": {
       "_model_module_version": "^0.13.2",
       "_view_module_version": "^0.13.2",
       "fill_color": "green",
       "fill_opacity": 1,
       "location": [
        -39.3833,
        -62.6166
       ],
       "options": [
        "class_name",
        "color",
        "dash_array",
        "fill",
        "fill_color",
        "fill_opacity",
        "line_cap",
        "line_join",
        "opacity",
        "pointer_events",
        "radius",
        "stroke",
        "weight"
       ],
       "radius": 30000,
       "stroke": false
      }
     },
     "af7634081c0642bcadb56f6c0a7040b8": {
      "model_module": "jupyter-leaflet",
      "model_module_version": "^0.13.2",
      "model_name": "LeafletCircleModel",
      "state": {
       "_model_module_version": "^0.13.2",
       "_view_module_version": "^0.13.2",
       "fill_color": "orange",
       "fill_opacity": 1,
       "location": [
        -37.57,
        -60.77
       ],
       "options": [
        "class_name",
        "color",
        "dash_array",
        "fill",
        "fill_color",
        "fill_opacity",
        "line_cap",
        "line_join",
        "opacity",
        "pointer_events",
        "radius",
        "stroke",
        "weight"
       ],
       "radius": 30000,
       "stroke": false
      }
     },
     "b2240b51af324dafa1efc2a8506cc6e7": {
      "model_module": "jupyter-leaflet",
      "model_module_version": "^0.13.2",
      "model_name": "LeafletCircleModel",
      "state": {
       "_model_module_version": "^0.13.2",
       "_view_module_version": "^0.13.2",
       "fill_color": "green",
       "fill_opacity": 1,
       "location": [
        -38.8681,
        -62.6646
       ],
       "options": [
        "class_name",
        "color",
        "dash_array",
        "fill",
        "fill_color",
        "fill_opacity",
        "line_cap",
        "line_join",
        "opacity",
        "pointer_events",
        "radius",
        "stroke",
        "weight"
       ],
       "radius": 30000,
       "stroke": false
      }
     },
     "b25a7869aa434198b305277de5fa6094": {
      "model_module": "jupyter-leaflet",
      "model_module_version": "^0.13.2",
      "model_name": "LeafletCircleModel",
      "state": {
       "_model_module_version": "^0.13.2",
       "_view_module_version": "^0.13.2",
       "fill_color": "green",
       "fill_opacity": 1,
       "location": [
        -27.65,
        -58.77
       ],
       "options": [
        "class_name",
        "color",
        "dash_array",
        "fill",
        "fill_color",
        "fill_opacity",
        "line_cap",
        "line_join",
        "opacity",
        "pointer_events",
        "radius",
        "stroke",
        "weight"
       ],
       "radius": 30000,
       "stroke": false
      }
     },
     "b3221812e7684ccba1f76703562c635b": {
      "model_module": "jupyter-leaflet",
      "model_module_version": "^0.13.2",
      "model_name": "LeafletCircleModel",
      "state": {
       "_model_module_version": "^0.13.2",
       "_view_module_version": "^0.13.2",
       "fill_color": "green",
       "fill_opacity": 1,
       "location": [
        -27.42,
        -58.93
       ],
       "options": [
        "class_name",
        "color",
        "dash_array",
        "fill",
        "fill_color",
        "fill_opacity",
        "line_cap",
        "line_join",
        "opacity",
        "pointer_events",
        "radius",
        "stroke",
        "weight"
       ],
       "radius": 30000,
       "stroke": false
      }
     },
     "b3236190bbff4ec796506697a0511b79": {
      "model_module": "jupyter-leaflet",
      "model_module_version": "^0.13.2",
      "model_name": "LeafletCircleModel",
      "state": {
       "_model_module_version": "^0.13.2",
       "_view_module_version": "^0.13.2",
       "fill_color": "green",
       "fill_opacity": 1,
       "location": [
        -37.75,
        -58.3
       ],
       "options": [
        "class_name",
        "color",
        "dash_array",
        "fill",
        "fill_color",
        "fill_opacity",
        "line_cap",
        "line_join",
        "opacity",
        "pointer_events",
        "radius",
        "stroke",
        "weight"
       ],
       "radius": 30000,
       "stroke": false
      }
     },
     "b34a5a85dc744b7eac3acb1ca628f637": {
      "model_module": "jupyter-leaflet",
      "model_module_version": "^0.13.2",
      "model_name": "LeafletCircleModel",
      "state": {
       "_model_module_version": "^0.13.2",
       "_view_module_version": "^0.13.2",
       "fill_color": "green",
       "fill_opacity": 1,
       "location": [
        -29.17,
        -58.02
       ],
       "options": [
        "class_name",
        "color",
        "dash_array",
        "fill",
        "fill_color",
        "fill_opacity",
        "line_cap",
        "line_join",
        "opacity",
        "pointer_events",
        "radius",
        "stroke",
        "weight"
       ],
       "radius": 30000,
       "stroke": false
      }
     },
     "b38df43895a84001a4da98b8b6c63f73": {
      "model_module": "jupyter-leaflet",
      "model_module_version": "^0.13.2",
      "model_name": "LeafletCircleModel",
      "state": {
       "_model_module_version": "^0.13.2",
       "_view_module_version": "^0.13.2",
       "fill_color": "green",
       "fill_opacity": 1,
       "location": [
        -27.4498,
        -58.7597
       ],
       "options": [
        "class_name",
        "color",
        "dash_array",
        "fill",
        "fill_color",
        "fill_opacity",
        "line_cap",
        "line_join",
        "opacity",
        "pointer_events",
        "radius",
        "stroke",
        "weight"
       ],
       "radius": 30000,
       "stroke": false
      }
     },
     "b57af9a73e0540d9b42d4c50d921aa1d": {
      "model_module": "jupyter-leaflet",
      "model_module_version": "^0.13.2",
      "model_name": "LeafletCircleModel",
      "state": {
       "_model_module_version": "^0.13.2",
       "_view_module_version": "^0.13.2",
       "fill_color": "green",
       "fill_opacity": 1,
       "location": [
        -38.7147,
        -62.163
       ],
       "options": [
        "class_name",
        "color",
        "dash_array",
        "fill",
        "fill_color",
        "fill_opacity",
        "line_cap",
        "line_join",
        "opacity",
        "pointer_events",
        "radius",
        "stroke",
        "weight"
       ],
       "radius": 30000,
       "stroke": false
      }
     },
     "b7bca17f0ef34b3781f27840837b495f": {
      "model_module": "jupyter-leaflet",
      "model_module_version": "^0.13.2",
      "model_name": "LeafletCircleModel",
      "state": {
       "_model_module_version": "^0.13.2",
       "_view_module_version": "^0.13.2",
       "fill_color": "green",
       "fill_opacity": 1,
       "location": [
        -54.8401,
        -68.3034
       ],
       "options": [
        "class_name",
        "color",
        "dash_array",
        "fill",
        "fill_color",
        "fill_opacity",
        "line_cap",
        "line_join",
        "opacity",
        "pointer_events",
        "radius",
        "stroke",
        "weight"
       ],
       "radius": 30000,
       "stroke": false
      }
     },
     "b8dcba777c6f48d493d0736872a742c5": {
      "model_module": "jupyter-leaflet",
      "model_module_version": "^0.13.2",
      "model_name": "LeafletCircleModel",
      "state": {
       "_model_module_version": "^0.13.2",
       "_view_module_version": "^0.13.2",
       "fill_color": "green",
       "fill_opacity": 1,
       "location": [
        -50.2846,
        -72.0515
       ],
       "options": [
        "class_name",
        "color",
        "dash_array",
        "fill",
        "fill_color",
        "fill_opacity",
        "line_cap",
        "line_join",
        "opacity",
        "pointer_events",
        "radius",
        "stroke",
        "weight"
       ],
       "radius": 30000,
       "stroke": false
      }
     },
     "ba2e438b3bcc4ee4a6e98258c1ccd750": {
      "model_module": "jupyter-leaflet",
      "model_module_version": "^0.13.2",
      "model_name": "LeafletCircleModel",
      "state": {
       "_model_module_version": "^0.13.2",
       "_view_module_version": "^0.13.2",
       "fill_color": "orange",
       "fill_opacity": 1,
       "location": [
        -35.9727,
        -62.7655
       ],
       "options": [
        "class_name",
        "color",
        "dash_array",
        "fill",
        "fill_color",
        "fill_opacity",
        "line_cap",
        "line_join",
        "opacity",
        "pointer_events",
        "radius",
        "stroke",
        "weight"
       ],
       "radius": 30000,
       "stroke": false
      }
     },
     "bb241b44c5f644bbb86e0c91d8b4bb06": {
      "model_module": "jupyter-leaflet",
      "model_module_version": "^0.13.2",
      "model_name": "LeafletCircleModel",
      "state": {
       "_model_module_version": "^0.13.2",
       "_view_module_version": "^0.13.2",
       "fill_color": "green",
       "fill_opacity": 1,
       "location": [
        -31.2966,
        -64.2119
       ],
       "options": [
        "class_name",
        "color",
        "dash_array",
        "fill",
        "fill_color",
        "fill_opacity",
        "line_cap",
        "line_join",
        "opacity",
        "pointer_events",
        "radius",
        "stroke",
        "weight"
       ],
       "radius": 30000,
       "stroke": false
      }
     },
     "bb3874968d8d43d38aed501a4bc7fdc1": {
      "model_module": "jupyter-leaflet",
      "model_module_version": "^0.13.2",
      "model_name": "LeafletCircleModel",
      "state": {
       "_model_module_version": "^0.13.2",
       "_view_module_version": "^0.13.2",
       "fill_color": "green",
       "fill_opacity": 1,
       "location": [
        -38.9412,
        -67.9785
       ],
       "options": [
        "class_name",
        "color",
        "dash_array",
        "fill",
        "fill_color",
        "fill_opacity",
        "line_cap",
        "line_join",
        "opacity",
        "pointer_events",
        "radius",
        "stroke",
        "weight"
       ],
       "radius": 30000,
       "stroke": false
      }
     },
     "bb80c205773540ad83bbe4bad75e6499": {
      "model_module": "jupyter-leaflet",
      "model_module_version": "^0.13.2",
      "model_name": "LeafletCircleModel",
      "state": {
       "_model_module_version": "^0.13.2",
       "_view_module_version": "^0.13.2",
       "fill_color": "green",
       "fill_opacity": 1,
       "location": [
        -49.3082,
        -67.8032
       ],
       "options": [
        "class_name",
        "color",
        "dash_array",
        "fill",
        "fill_color",
        "fill_opacity",
        "line_cap",
        "line_join",
        "opacity",
        "pointer_events",
        "radius",
        "stroke",
        "weight"
       ],
       "radius": 30000,
       "stroke": false
      }
     },
     "bc2c8dd14d8d453ab2e6fd53ffa44306": {
      "model_module": "jupyter-leaflet",
      "model_module_version": "^0.13.2",
      "model_name": "LeafletCircleModel",
      "state": {
       "_model_module_version": "^0.13.2",
       "_view_module_version": "^0.13.2",
       "fill_color": "green",
       "fill_opacity": 1,
       "location": [
        -33.0732,
        -68.4649
       ],
       "options": [
        "class_name",
        "color",
        "dash_array",
        "fill",
        "fill_color",
        "fill_opacity",
        "line_cap",
        "line_join",
        "opacity",
        "pointer_events",
        "radius",
        "stroke",
        "weight"
       ],
       "radius": 30000,
       "stroke": false
      }
     },
     "bd2a0cb46e394017b3ca37411f4c0136": {
      "model_module": "jupyter-leaflet",
      "model_module_version": "^0.13.2",
      "model_name": "LeafletCircleModel",
      "state": {
       "_model_module_version": "^0.13.2",
       "_view_module_version": "^0.13.2",
       "fill_color": "orange",
       "fill_opacity": 1,
       "location": [
        -38.1184,
        -62.2378
       ],
       "options": [
        "class_name",
        "color",
        "dash_array",
        "fill",
        "fill_color",
        "fill_opacity",
        "line_cap",
        "line_join",
        "opacity",
        "pointer_events",
        "radius",
        "stroke",
        "weight"
       ],
       "radius": 30000,
       "stroke": false
      }
     },
     "bef00e668da94e0f86667eb53b2cbbeb": {
      "model_module": "jupyter-leaflet",
      "model_module_version": "^0.13.2",
      "model_name": "LeafletCircleModel",
      "state": {
       "_model_module_version": "^0.13.2",
       "_view_module_version": "^0.13.2",
       "fill_color": "green",
       "fill_opacity": 1,
       "location": [
        -27.5856,
        -56.6772
       ],
       "options": [
        "class_name",
        "color",
        "dash_array",
        "fill",
        "fill_color",
        "fill_opacity",
        "line_cap",
        "line_join",
        "opacity",
        "pointer_events",
        "radius",
        "stroke",
        "weight"
       ],
       "radius": 30000,
       "stroke": false
      }
     },
     "bfab87080a8f4109aa111677c56429a5": {
      "model_module": "jupyter-leaflet",
      "model_module_version": "^0.13.2",
      "model_name": "LeafletCircleModel",
      "state": {
       "_model_module_version": "^0.13.2",
       "_view_module_version": "^0.13.2",
       "fill_color": "green",
       "fill_opacity": 1,
       "location": [
        -34.0795,
        -59.2057
       ],
       "options": [
        "class_name",
        "color",
        "dash_array",
        "fill",
        "fill_color",
        "fill_opacity",
        "line_cap",
        "line_join",
        "opacity",
        "pointer_events",
        "radius",
        "stroke",
        "weight"
       ],
       "radius": 30000,
       "stroke": false
      }
     },
     "c09f5fb9599a4255ace6c475734c10f6": {
      "model_module": "jupyter-leaflet",
      "model_module_version": "^0.13.2",
      "model_name": "LeafletCircleModel",
      "state": {
       "_model_module_version": "^0.13.2",
       "_view_module_version": "^0.13.2",
       "fill_color": "orange",
       "fill_opacity": 1,
       "location": [
        -35.67,
        -63.75
       ],
       "options": [
        "class_name",
        "color",
        "dash_array",
        "fill",
        "fill_color",
        "fill_opacity",
        "line_cap",
        "line_join",
        "opacity",
        "pointer_events",
        "radius",
        "stroke",
        "weight"
       ],
       "radius": 30000,
       "stroke": false
      }
     },
     "c3a05e3200c145d890c7780c897aa639": {
      "model_module": "jupyter-leaflet",
      "model_module_version": "^0.13.2",
      "model_name": "LeafletCircleModel",
      "state": {
       "_model_module_version": "^0.13.2",
       "_view_module_version": "^0.13.2",
       "fill_color": "green",
       "fill_opacity": 1,
       "location": [
        -48.7824,
        -70.1627
       ],
       "options": [
        "class_name",
        "color",
        "dash_array",
        "fill",
        "fill_color",
        "fill_opacity",
        "line_cap",
        "line_join",
        "opacity",
        "pointer_events",
        "radius",
        "stroke",
        "weight"
       ],
       "radius": 30000,
       "stroke": false
      }
     },
     "c424bd6eeada4f90a692601d1d47f602": {
      "model_module": "jupyter-leaflet",
      "model_module_version": "^0.13.2",
      "model_name": "LeafletCircleModel",
      "state": {
       "_model_module_version": "^0.13.2",
       "_view_module_version": "^0.13.2",
       "fill_color": "green",
       "fill_opacity": 1,
       "location": [
        -34.92,
        -57.93
       ],
       "options": [
        "class_name",
        "color",
        "dash_array",
        "fill",
        "fill_color",
        "fill_opacity",
        "line_cap",
        "line_join",
        "opacity",
        "pointer_events",
        "radius",
        "stroke",
        "weight"
       ],
       "radius": 30000,
       "stroke": false
      }
     },
     "c44cf23d7f1a45379bb110e0813cb60a": {
      "model_module": "jupyter-leaflet",
      "model_module_version": "^0.13.2",
      "model_name": "LeafletCircleModel",
      "state": {
       "_model_module_version": "^0.13.2",
       "_view_module_version": "^0.13.2",
       "fill_color": "green",
       "fill_opacity": 1,
       "location": [
        -33.0049,
        -68.8699
       ],
       "options": [
        "class_name",
        "color",
        "dash_array",
        "fill",
        "fill_color",
        "fill_opacity",
        "line_cap",
        "line_join",
        "opacity",
        "pointer_events",
        "radius",
        "stroke",
        "weight"
       ],
       "radius": 30000,
       "stroke": false
      }
     },
     "c46f5ea4249c4a38bf57322c8f075d19": {
      "model_module": "jupyter-leaflet",
      "model_module_version": "^0.13.2",
      "model_name": "LeafletCircleModel",
      "state": {
       "_model_module_version": "^0.13.2",
       "_view_module_version": "^0.13.2",
       "fill_color": "green",
       "fill_opacity": 1,
       "location": [
        -28.23,
        -64.15
       ],
       "options": [
        "class_name",
        "color",
        "dash_array",
        "fill",
        "fill_color",
        "fill_opacity",
        "line_cap",
        "line_join",
        "opacity",
        "pointer_events",
        "radius",
        "stroke",
        "weight"
       ],
       "radius": 30000,
       "stroke": false
      }
     },
     "c52bee297952417cb59ab60327de340b": {
      "model_module": "jupyter-leaflet",
      "model_module_version": "^0.13.2",
      "model_name": "LeafletCircleModel",
      "state": {
       "_model_module_version": "^0.13.2",
       "_view_module_version": "^0.13.2",
       "fill_color": "green",
       "fill_opacity": 1,
       "location": [
        -41.1475,
        -71.1643
       ],
       "options": [
        "class_name",
        "color",
        "dash_array",
        "fill",
        "fill_color",
        "fill_opacity",
        "line_cap",
        "line_join",
        "opacity",
        "pointer_events",
        "radius",
        "stroke",
        "weight"
       ],
       "radius": 30000,
       "stroke": false
      }
     },
     "c59548f745524deca1a479f65efb2274": {
      "model_module": "jupyter-leaflet",
      "model_module_version": "^0.13.2",
      "model_name": "LeafletCircleModel",
      "state": {
       "_model_module_version": "^0.13.2",
       "_view_module_version": "^0.13.2",
       "fill_color": "green",
       "fill_opacity": 1,
       "location": [
        -31.5746,
        -68.4224
       ],
       "options": [
        "class_name",
        "color",
        "dash_array",
        "fill",
        "fill_color",
        "fill_opacity",
        "line_cap",
        "line_join",
        "opacity",
        "pointer_events",
        "radius",
        "stroke",
        "weight"
       ],
       "radius": 30000,
       "stroke": false
      }
     },
     "c6458b74981647d3816c065d4b5c3723": {
      "model_module": "jupyter-leaflet",
      "model_module_version": "^0.13.2",
      "model_name": "LeafletCircleModel",
      "state": {
       "_model_module_version": "^0.13.2",
       "_view_module_version": "^0.13.2",
       "fill_color": "green",
       "fill_opacity": 1,
       "location": [
        -29.183,
        -59.866
       ],
       "options": [
        "class_name",
        "color",
        "dash_array",
        "fill",
        "fill_color",
        "fill_opacity",
        "line_cap",
        "line_join",
        "opacity",
        "pointer_events",
        "radius",
        "stroke",
        "weight"
       ],
       "radius": 30000,
       "stroke": false
      }
     },
     "c7772d0b0ec141b89fba4bfa578eda90": {
      "model_module": "jupyter-leaflet",
      "model_module_version": "^0.13.2",
      "model_name": "LeafletCircleModel",
      "state": {
       "_model_module_version": "^0.13.2",
       "_view_module_version": "^0.13.2",
       "fill_color": "green",
       "fill_opacity": 1,
       "location": [
        -34.6712,
        -58.6382
       ],
       "options": [
        "class_name",
        "color",
        "dash_array",
        "fill",
        "fill_color",
        "fill_opacity",
        "line_cap",
        "line_join",
        "opacity",
        "pointer_events",
        "radius",
        "stroke",
        "weight"
       ],
       "radius": 30000,
       "stroke": false
      }
     },
     "c9ee9f6ed8dc40e3b369475efab76d61": {
      "model_module": "jupyter-leaflet",
      "model_module_version": "^0.13.2",
      "model_name": "LeafletCircleModel",
      "state": {
       "_model_module_version": "^0.13.2",
       "_view_module_version": "^0.13.2",
       "fill_color": "green",
       "fill_opacity": 1,
       "location": [
        -34.15,
        -58.95
       ],
       "options": [
        "class_name",
        "color",
        "dash_array",
        "fill",
        "fill_color",
        "fill_opacity",
        "line_cap",
        "line_join",
        "opacity",
        "pointer_events",
        "radius",
        "stroke",
        "weight"
       ],
       "radius": 30000,
       "stroke": false
      }
     },
     "cc2be56784674f6084f18380703ec4ab": {
      "model_module": "jupyter-leaflet",
      "model_module_version": "^0.13.2",
      "model_name": "LeafletCircleModel",
      "state": {
       "_model_module_version": "^0.13.2",
       "_view_module_version": "^0.13.2",
       "fill_color": "green",
       "fill_opacity": 1,
       "location": [
        -33.7747,
        -69.0426
       ],
       "options": [
        "class_name",
        "color",
        "dash_array",
        "fill",
        "fill_color",
        "fill_opacity",
        "line_cap",
        "line_join",
        "opacity",
        "pointer_events",
        "radius",
        "stroke",
        "weight"
       ],
       "radius": 30000,
       "stroke": false
      }
     },
     "cda9acf1ca3e493fb8d5b983204c1316": {
      "model_module": "jupyter-leaflet",
      "model_module_version": "^0.13.2",
      "model_name": "LeafletCircleModel",
      "state": {
       "_model_module_version": "^0.13.2",
       "_view_module_version": "^0.13.2",
       "fill_color": "green",
       "fill_opacity": 1,
       "location": [
        -33.72,
        -65.48
       ],
       "options": [
        "class_name",
        "color",
        "dash_array",
        "fill",
        "fill_color",
        "fill_opacity",
        "line_cap",
        "line_join",
        "opacity",
        "pointer_events",
        "radius",
        "stroke",
        "weight"
       ],
       "radius": 30000,
       "stroke": false
      }
     },
     "ce4b978985c24921bac857764950a9e1": {
      "model_module": "jupyter-leaflet",
      "model_module_version": "^0.13.2",
      "model_name": "LeafletCircleModel",
      "state": {
       "_model_module_version": "^0.13.2",
       "_view_module_version": "^0.13.2",
       "fill_color": "green",
       "fill_opacity": 1,
       "location": [
        -29.6893,
        -57.1485
       ],
       "options": [
        "class_name",
        "color",
        "dash_array",
        "fill",
        "fill_color",
        "fill_opacity",
        "line_cap",
        "line_join",
        "opacity",
        "pointer_events",
        "radius",
        "stroke",
        "weight"
       ],
       "radius": 30000,
       "stroke": false
      }
     },
     "ce862e782a5d40c09a2b2dc9c580be66": {
      "model_module": "jupyter-leaflet",
      "model_module_version": "^0.13.2",
      "model_name": "LeafletCircleModel",
      "state": {
       "_model_module_version": "^0.13.2",
       "_view_module_version": "^0.13.2",
       "fill_color": "green",
       "fill_opacity": 1,
       "location": [
        -25.5243,
        -64.973
       ],
       "options": [
        "class_name",
        "color",
        "dash_array",
        "fill",
        "fill_color",
        "fill_opacity",
        "line_cap",
        "line_join",
        "opacity",
        "pointer_events",
        "radius",
        "stroke",
        "weight"
       ],
       "radius": 30000,
       "stroke": false
      }
     },
     "cf1943adb25747e5b49dccc6c0a76bcb": {
      "model_module": "jupyter-leaflet",
      "model_module_version": "^0.13.2",
      "model_name": "LeafletCircleModel",
      "state": {
       "_model_module_version": "^0.13.2",
       "_view_module_version": "^0.13.2",
       "fill_color": "orange",
       "fill_opacity": 1,
       "location": [
        -38.0043,
        -61.33
       ],
       "options": [
        "class_name",
        "color",
        "dash_array",
        "fill",
        "fill_color",
        "fill_opacity",
        "line_cap",
        "line_join",
        "opacity",
        "pointer_events",
        "radius",
        "stroke",
        "weight"
       ],
       "radius": 30000,
       "stroke": false
      }
     },
     "d1215585921b409599cde047b8bac5e2": {
      "model_module": "jupyter-leaflet",
      "model_module_version": "^0.13.2",
      "model_name": "LeafletCircleModel",
      "state": {
       "_model_module_version": "^0.13.2",
       "_view_module_version": "^0.13.2",
       "fill_color": "green",
       "fill_opacity": 1,
       "location": [
        -62.2378,
        -58.6645
       ],
       "options": [
        "class_name",
        "color",
        "dash_array",
        "fill",
        "fill_color",
        "fill_opacity",
        "line_cap",
        "line_join",
        "opacity",
        "pointer_events",
        "radius",
        "stroke",
        "weight"
       ],
       "radius": 30000,
       "stroke": false
      }
     },
     "d22dbc74b68d4fa283437f50285de34f": {
      "model_module": "jupyter-leaflet",
      "model_module_version": "^0.13.2",
      "model_name": "LeafletCircleModel",
      "state": {
       "_model_module_version": "^0.13.2",
       "_view_module_version": "^0.13.2",
       "fill_color": "green",
       "fill_opacity": 1,
       "location": [
        -34.7899,
        -58.4501
       ],
       "options": [
        "class_name",
        "color",
        "dash_array",
        "fill",
        "fill_color",
        "fill_opacity",
        "line_cap",
        "line_join",
        "opacity",
        "pointer_events",
        "radius",
        "stroke",
        "weight"
       ],
       "radius": 30000,
       "stroke": false
      }
     },
     "d22e816d52eb4f6fa63f2543402a287b": {
      "model_module": "jupyter-leaflet",
      "model_module_version": "^0.13.2",
      "model_name": "LeafletCircleModel",
      "state": {
       "_model_module_version": "^0.13.2",
       "_view_module_version": "^0.13.2",
       "fill_color": "green",
       "fill_opacity": 1,
       "location": [
        -26.7464,
        -60.4868
       ],
       "options": [
        "class_name",
        "color",
        "dash_array",
        "fill",
        "fill_color",
        "fill_opacity",
        "line_cap",
        "line_join",
        "opacity",
        "pointer_events",
        "radius",
        "stroke",
        "weight"
       ],
       "radius": 30000,
       "stroke": false
      }
     },
     "d240f363d08d45bcb8ce9eebc67cfb64": {
      "model_module": "jupyter-leaflet",
      "model_module_version": "^0.13.2",
      "model_name": "LeafletCircleModel",
      "state": {
       "_model_module_version": "^0.13.2",
       "_view_module_version": "^0.13.2",
       "fill_color": "orange",
       "fill_opacity": 1,
       "location": [
        -36.5932,
        -64.28
       ],
       "options": [
        "class_name",
        "color",
        "dash_array",
        "fill",
        "fill_color",
        "fill_opacity",
        "line_cap",
        "line_join",
        "opacity",
        "pointer_events",
        "radius",
        "stroke",
        "weight"
       ],
       "radius": 30000,
       "stroke": false
      }
     },
     "d267174674f24af9be66dee8a7224fd9": {
      "model_module": "jupyter-leaflet",
      "model_module_version": "^0.13.2",
      "model_name": "LeafletCircleModel",
      "state": {
       "_model_module_version": "^0.13.2",
       "_view_module_version": "^0.13.2",
       "fill_color": "green",
       "fill_opacity": 1,
       "location": [
        -34.6847,
        -58.7448
       ],
       "options": [
        "class_name",
        "color",
        "dash_array",
        "fill",
        "fill_color",
        "fill_opacity",
        "line_cap",
        "line_join",
        "opacity",
        "pointer_events",
        "radius",
        "stroke",
        "weight"
       ],
       "radius": 30000,
       "stroke": false
      }
     },
     "d2cf7238b1744c9c9e6a06e5987962ba": {
      "model_module": "jupyter-leaflet",
      "model_module_version": "^0.13.2",
      "model_name": "LeafletCircleModel",
      "state": {
       "_model_module_version": "^0.13.2",
       "_view_module_version": "^0.13.2",
       "fill_color": "green",
       "fill_opacity": 1,
       "location": [
        -34.67,
        -68.38
       ],
       "options": [
        "class_name",
        "color",
        "dash_array",
        "fill",
        "fill_color",
        "fill_opacity",
        "line_cap",
        "line_join",
        "opacity",
        "pointer_events",
        "radius",
        "stroke",
        "weight"
       ],
       "radius": 30000,
       "stroke": false
      }
     },
     "d431f1e22440491bb72e0cab1522edce": {
      "model_module": "jupyter-leaflet",
      "model_module_version": "^0.13.2",
      "model_name": "LeafletCircleModel",
      "state": {
       "_model_module_version": "^0.13.2",
       "_view_module_version": "^0.13.2",
       "fill_color": "green",
       "fill_opacity": 1,
       "location": [
        -40.8635,
        -63.007
       ],
       "options": [
        "class_name",
        "color",
        "dash_array",
        "fill",
        "fill_color",
        "fill_opacity",
        "line_cap",
        "line_join",
        "opacity",
        "pointer_events",
        "radius",
        "stroke",
        "weight"
       ],
       "radius": 30000,
       "stroke": false
      }
     },
     "d4954959e70e4021bd1ea4a1ac763c3b": {
      "model_module": "jupyter-leaflet",
      "model_module_version": "^0.13.2",
      "model_name": "LeafletCircleModel",
      "state": {
       "_model_module_version": "^0.13.2",
       "_view_module_version": "^0.13.2",
       "fill_color": "green",
       "fill_opacity": 1,
       "location": [
        -30.9568,
        -61.5323
       ],
       "options": [
        "class_name",
        "color",
        "dash_array",
        "fill",
        "fill_color",
        "fill_opacity",
        "line_cap",
        "line_join",
        "opacity",
        "pointer_events",
        "radius",
        "stroke",
        "weight"
       ],
       "radius": 30000,
       "stroke": false
      }
     },
     "d5d699cf1b6e4cd788cc5313929b68a3": {
      "model_module": "jupyter-leaflet",
      "model_module_version": "^0.13.2",
      "model_name": "LeafletCircleModel",
      "state": {
       "_model_module_version": "^0.13.2",
       "_view_module_version": "^0.13.2",
       "fill_color": "green",
       "fill_opacity": 1,
       "location": [
        -38.3375,
        -59.0083
       ],
       "options": [
        "class_name",
        "color",
        "dash_array",
        "fill",
        "fill_color",
        "fill_opacity",
        "line_cap",
        "line_join",
        "opacity",
        "pointer_events",
        "radius",
        "stroke",
        "weight"
       ],
       "radius": 30000,
       "stroke": false
      }
     },
     "d63bfcd3cd0d4f1183c234054bf8a1cf": {
      "model_module": "jupyter-leaflet",
      "model_module_version": "^0.13.2",
      "model_name": "LeafletCircleModel",
      "state": {
       "_model_module_version": "^0.13.2",
       "_view_module_version": "^0.13.2",
       "fill_color": "green",
       "fill_opacity": 1,
       "location": [
        -31.2775,
        -61.5095
       ],
       "options": [
        "class_name",
        "color",
        "dash_array",
        "fill",
        "fill_color",
        "fill_opacity",
        "line_cap",
        "line_join",
        "opacity",
        "pointer_events",
        "radius",
        "stroke",
        "weight"
       ],
       "radius": 30000,
       "stroke": false
      }
     },
     "d6c6235ec1c44c2eaa509242a33cb857": {
      "model_module": "jupyter-leaflet",
      "model_module_version": "^0.13.2",
      "model_name": "LeafletCircleModel",
      "state": {
       "_model_module_version": "^0.13.2",
       "_view_module_version": "^0.13.2",
       "fill_color": "green",
       "fill_opacity": 1,
       "location": [
        -43.8618,
        -69.0474
       ],
       "options": [
        "class_name",
        "color",
        "dash_array",
        "fill",
        "fill_color",
        "fill_opacity",
        "line_cap",
        "line_join",
        "opacity",
        "pointer_events",
        "radius",
        "stroke",
        "weight"
       ],
       "radius": 30000,
       "stroke": false
      }
     },
     "d6fdce821bf54d758aef7f214350c0a4": {
      "model_module": "jupyter-leaflet",
      "model_module_version": "^0.13.2",
      "model_name": "LeafletCircleModel",
      "state": {
       "_model_module_version": "^0.13.2",
       "_view_module_version": "^0.13.2",
       "fill_color": "green",
       "fill_opacity": 1,
       "location": [
        -27.7548,
        -64.2998
       ],
       "options": [
        "class_name",
        "color",
        "dash_array",
        "fill",
        "fill_color",
        "fill_opacity",
        "line_cap",
        "line_join",
        "opacity",
        "pointer_events",
        "radius",
        "stroke",
        "weight"
       ],
       "radius": 30000,
       "stroke": false
      }
     },
     "d7a75fb61abf4a818e1979eca57a0787": {
      "model_module": "jupyter-leaflet",
      "model_module_version": "^0.13.2",
      "model_name": "LeafletCircleModel",
      "state": {
       "_model_module_version": "^0.13.2",
       "_view_module_version": "^0.13.2",
       "fill_color": "green",
       "fill_opacity": 1,
       "location": [
        -37.7632,
        -58.2976
       ],
       "options": [
        "class_name",
        "color",
        "dash_array",
        "fill",
        "fill_color",
        "fill_opacity",
        "line_cap",
        "line_join",
        "opacity",
        "pointer_events",
        "radius",
        "stroke",
        "weight"
       ],
       "radius": 30000,
       "stroke": false
      }
     },
     "d9a58cbf98b149ab91c22c8d862e04fb": {
      "model_module": "jupyter-leaflet",
      "model_module_version": "^0.13.2",
      "model_name": "LeafletCircleModel",
      "state": {
       "_model_module_version": "^0.13.2",
       "_view_module_version": "^0.13.2",
       "fill_color": "green",
       "fill_opacity": 1,
       "location": [
        -30.3478,
        -66.2967
       ],
       "options": [
        "class_name",
        "color",
        "dash_array",
        "fill",
        "fill_color",
        "fill_opacity",
        "line_cap",
        "line_join",
        "opacity",
        "pointer_events",
        "radius",
        "stroke",
        "weight"
       ],
       "radius": 30000,
       "stroke": false
      }
     },
     "da4b2cfa7489408ba3dfbbe69d42961c": {
      "model_module": "jupyter-leaflet",
      "model_module_version": "^0.13.2",
      "model_name": "LeafletCircleModel",
      "state": {
       "_model_module_version": "^0.13.2",
       "_view_module_version": "^0.13.2",
       "fill_color": "orange",
       "fill_opacity": 1,
       "location": [
        -34.55,
        -62.9047
       ],
       "options": [
        "class_name",
        "color",
        "dash_array",
        "fill",
        "fill_color",
        "fill_opacity",
        "line_cap",
        "line_join",
        "opacity",
        "pointer_events",
        "radius",
        "stroke",
        "weight"
       ],
       "radius": 30000,
       "stroke": false
      }
     },
     "db1660ee1a7a48a986b2dcd601caf10a": {
      "model_module": "jupyter-leaflet",
      "model_module_version": "^0.13.2",
      "model_name": "LeafletCircleModel",
      "state": {
       "_model_module_version": "^0.13.2",
       "_view_module_version": "^0.13.2",
       "fill_color": "green",
       "fill_opacity": 1,
       "location": [
        -37.2353,
        -57.0188
       ],
       "options": [
        "class_name",
        "color",
        "dash_array",
        "fill",
        "fill_color",
        "fill_opacity",
        "line_cap",
        "line_join",
        "opacity",
        "pointer_events",
        "radius",
        "stroke",
        "weight"
       ],
       "radius": 30000,
       "stroke": false
      }
     },
     "dd83fd923b7c4dbcb555dc8ce7ccd8c3": {
      "model_module": "jupyter-leaflet",
      "model_module_version": "^0.13.2",
      "model_name": "LeafletCircleModel",
      "state": {
       "_model_module_version": "^0.13.2",
       "_view_module_version": "^0.13.2",
       "fill_color": "green",
       "fill_opacity": 1,
       "location": [
        -34.5589,
        -58.4198
       ],
       "options": [
        "class_name",
        "color",
        "dash_array",
        "fill",
        "fill_color",
        "fill_opacity",
        "line_cap",
        "line_join",
        "opacity",
        "pointer_events",
        "radius",
        "stroke",
        "weight"
       ],
       "radius": 30000,
       "stroke": false
      }
     },
     "ddd4c135ec244b57a383147df110b9a5": {
      "model_module": "jupyter-leaflet",
      "model_module_version": "^0.13.2",
      "model_name": "LeafletCircleModel",
      "state": {
       "_model_module_version": "^0.13.2",
       "_view_module_version": "^0.13.2",
       "fill_color": "green",
       "fill_opacity": 1,
       "location": [
        -32.8,
        -70.0667
       ],
       "options": [
        "class_name",
        "color",
        "dash_array",
        "fill",
        "fill_color",
        "fill_opacity",
        "line_cap",
        "line_join",
        "opacity",
        "pointer_events",
        "radius",
        "stroke",
        "weight"
       ],
       "radius": 30000,
       "stroke": false
      }
     },
     "de0b03320d6644b2a6627e75ab04befd": {
      "model_module": "jupyter-leaflet",
      "model_module_version": "^0.13.2",
      "model_name": "LeafletCircleModel",
      "state": {
       "_model_module_version": "^0.13.2",
       "_view_module_version": "^0.13.2",
       "fill_color": "green",
       "fill_opacity": 1,
       "location": [
        -53.7802,
        -67.7587
       ],
       "options": [
        "class_name",
        "color",
        "dash_array",
        "fill",
        "fill_color",
        "fill_opacity",
        "line_cap",
        "line_join",
        "opacity",
        "pointer_events",
        "radius",
        "stroke",
        "weight"
       ],
       "radius": 30000,
       "stroke": false
      }
     },
     "de928f9e1cb549ba9667cefd59cbf3b4": {
      "model_module": "jupyter-leaflet",
      "model_module_version": "^0.13.2",
      "model_name": "LeafletCircleModel",
      "state": {
       "_model_module_version": "^0.13.2",
       "_view_module_version": "^0.13.2",
       "fill_color": "green",
       "fill_opacity": 1,
       "location": [
        -35.7438,
        -58.0538
       ],
       "options": [
        "class_name",
        "color",
        "dash_array",
        "fill",
        "fill_color",
        "fill_opacity",
        "line_cap",
        "line_join",
        "opacity",
        "pointer_events",
        "radius",
        "stroke",
        "weight"
       ],
       "radius": 30000,
       "stroke": false
      }
     },
     "deb7d415e6814507be617a67d6b3cf9b": {
      "model_module": "jupyter-leaflet",
      "model_module_version": "^0.13.2",
      "model_name": "LeafletCircleModel",
      "state": {
       "_model_module_version": "^0.13.2",
       "_view_module_version": "^0.13.2",
       "fill_color": "orange",
       "fill_opacity": 1,
       "location": [
        -34.92,
        -62.73
       ],
       "options": [
        "class_name",
        "color",
        "dash_array",
        "fill",
        "fill_color",
        "fill_opacity",
        "line_cap",
        "line_join",
        "opacity",
        "pointer_events",
        "radius",
        "stroke",
        "weight"
       ],
       "radius": 30000,
       "stroke": false
      }
     },
     "deded1da451944aa9a96e93d5d790dfe": {
      "model_module": "jupyter-leaflet",
      "model_module_version": "^0.13.2",
      "model_name": "LeafletCircleModel",
      "state": {
       "_model_module_version": "^0.13.2",
       "_view_module_version": "^0.13.2",
       "fill_color": "green",
       "fill_opacity": 1,
       "location": [
        -30.2294,
        -68.739
       ],
       "options": [
        "class_name",
        "color",
        "dash_array",
        "fill",
        "fill_color",
        "fill_opacity",
        "line_cap",
        "line_join",
        "opacity",
        "pointer_events",
        "radius",
        "stroke",
        "weight"
       ],
       "radius": 30000,
       "stroke": false
      }
     },
     "e0f4182e024e40ca9ff094a5882cff46": {
      "model_module": "jupyter-leaflet",
      "model_module_version": "^0.13.2",
      "model_name": "LeafletCircleModel",
      "state": {
       "_model_module_version": "^0.13.2",
       "_view_module_version": "^0.13.2",
       "fill_color": "orange",
       "fill_opacity": 1,
       "location": [
        -36.1864,
        -61.0727
       ],
       "options": [
        "class_name",
        "color",
        "dash_array",
        "fill",
        "fill_color",
        "fill_opacity",
        "line_cap",
        "line_join",
        "opacity",
        "pointer_events",
        "radius",
        "stroke",
        "weight"
       ],
       "radius": 30000,
       "stroke": false
      }
     },
     "e33df184506345edb873887a15353b41": {
      "model_module": "jupyter-leaflet",
      "model_module_version": "^0.13.2",
      "model_name": "LeafletCircleModel",
      "state": {
       "_model_module_version": "^0.13.2",
       "_view_module_version": "^0.13.2",
       "fill_color": "green",
       "fill_opacity": 1,
       "location": [
        -38.65,
        -61.45
       ],
       "options": [
        "class_name",
        "color",
        "dash_array",
        "fill",
        "fill_color",
        "fill_opacity",
        "line_cap",
        "line_join",
        "opacity",
        "pointer_events",
        "radius",
        "stroke",
        "weight"
       ],
       "radius": 30000,
       "stroke": false
      }
     },
     "e3942cc4c8774b3199cb1399f7128525": {
      "model_module": "jupyter-leaflet",
      "model_module_version": "^0.13.2",
      "model_name": "LeafletCircleModel",
      "state": {
       "_model_module_version": "^0.13.2",
       "_view_module_version": "^0.13.2",
       "fill_color": "green",
       "fill_opacity": 1,
       "location": [
        -37.0934,
        -57.8745
       ],
       "options": [
        "class_name",
        "color",
        "dash_array",
        "fill",
        "fill_color",
        "fill_opacity",
        "line_cap",
        "line_join",
        "opacity",
        "pointer_events",
        "radius",
        "stroke",
        "weight"
       ],
       "radius": 30000,
       "stroke": false
      }
     },
     "e3ca39ae302144ef9152cb46aa506c18": {
      "model_module": "jupyter-leaflet",
      "model_module_version": "^0.13.2",
      "model_name": "LeafletCircleModel",
      "state": {
       "_model_module_version": "^0.13.2",
       "_view_module_version": "^0.13.2",
       "fill_color": "green",
       "fill_opacity": 1,
       "location": [
        -32.68,
        -62.12
       ],
       "options": [
        "class_name",
        "color",
        "dash_array",
        "fill",
        "fill_color",
        "fill_opacity",
        "line_cap",
        "line_join",
        "opacity",
        "pointer_events",
        "radius",
        "stroke",
        "weight"
       ],
       "radius": 30000,
       "stroke": false
      }
     },
     "e406e17e97f44083b1149bc2fceb076c": {
      "model_module": "jupyter-leaflet",
      "model_module_version": "^0.13.2",
      "model_name": "LeafletCircleModel",
      "state": {
       "_model_module_version": "^0.13.2",
       "_view_module_version": "^0.13.2",
       "fill_color": "green",
       "fill_opacity": 1,
       "location": [
        -32.379,
        -65.1799
       ],
       "options": [
        "class_name",
        "color",
        "dash_array",
        "fill",
        "fill_color",
        "fill_opacity",
        "line_cap",
        "line_join",
        "opacity",
        "pointer_events",
        "radius",
        "stroke",
        "weight"
       ],
       "radius": 30000,
       "stroke": false
      }
     },
     "e43a4cf59ec2402bba4e259ae80203ef": {
      "model_module": "jupyter-leaflet",
      "model_module_version": "^0.13.2",
      "model_name": "LeafletCircleModel",
      "state": {
       "_model_module_version": "^0.13.2",
       "_view_module_version": "^0.13.2",
       "fill_color": "orange",
       "fill_opacity": 1,
       "location": [
        -34.5525,
        -60.9313
       ],
       "options": [
        "class_name",
        "color",
        "dash_array",
        "fill",
        "fill_color",
        "fill_opacity",
        "line_cap",
        "line_join",
        "opacity",
        "pointer_events",
        "radius",
        "stroke",
        "weight"
       ],
       "radius": 30000,
       "stroke": false
      }
     },
     "e57131a5a16f4c8f92a71e3b4e8ba89e": {
      "model_module": "jupyter-leaflet",
      "model_module_version": "^0.13.2",
      "model_name": "LeafletCircleModel",
      "state": {
       "_model_module_version": "^0.13.2",
       "_view_module_version": "^0.13.2",
       "fill_color": "green",
       "fill_opacity": 1,
       "location": [
        -29.2051,
        -59.6934
       ],
       "options": [
        "class_name",
        "color",
        "dash_array",
        "fill",
        "fill_color",
        "fill_opacity",
        "line_cap",
        "line_join",
        "opacity",
        "pointer_events",
        "radius",
        "stroke",
        "weight"
       ],
       "radius": 30000,
       "stroke": false
      }
     },
     "e672bb5c835d42c2a68de1ffd4f5ac8a": {
      "model_module": "jupyter-leaflet",
      "model_module_version": "^0.13.2",
      "model_name": "LeafletCircleModel",
      "state": {
       "_model_module_version": "^0.13.2",
       "_view_module_version": "^0.13.2",
       "fill_color": "green",
       "fill_opacity": 1,
       "location": [
        -27.4389,
        -59.046
       ],
       "options": [
        "class_name",
        "color",
        "dash_array",
        "fill",
        "fill_color",
        "fill_opacity",
        "line_cap",
        "line_join",
        "opacity",
        "pointer_events",
        "radius",
        "stroke",
        "weight"
       ],
       "radius": 30000,
       "stroke": false
      }
     },
     "e6d0f9c3776e4596b835fc6f82dda0d4": {
      "model_module": "jupyter-leaflet",
      "model_module_version": "^0.13.2",
      "model_name": "LeafletCircleModel",
      "state": {
       "_model_module_version": "^0.13.2",
       "_view_module_version": "^0.13.2",
       "fill_color": "orange",
       "fill_opacity": 1,
       "location": [
        -37.7013,
        -59.7911
       ],
       "options": [
        "class_name",
        "color",
        "dash_array",
        "fill",
        "fill_color",
        "fill_opacity",
        "line_cap",
        "line_join",
        "opacity",
        "pointer_events",
        "radius",
        "stroke",
        "weight"
       ],
       "radius": 30000,
       "stroke": false
      }
     },
     "e740e1b1ccf14356b8a44500b0db1e3b": {
      "model_module": "jupyter-leaflet",
      "model_module_version": "^0.13.2",
      "model_name": "LeafletCircleModel",
      "state": {
       "_model_module_version": "^0.13.2",
       "_view_module_version": "^0.13.2",
       "fill_color": "green",
       "fill_opacity": 1,
       "location": [
        -33.7367,
        -59.7967
       ],
       "options": [
        "class_name",
        "color",
        "dash_array",
        "fill",
        "fill_color",
        "fill_opacity",
        "line_cap",
        "line_join",
        "opacity",
        "pointer_events",
        "radius",
        "stroke",
        "weight"
       ],
       "radius": 30000,
       "stroke": false
      }
     },
     "e7ecc23d9f4c4b27a7ad191d77e46fa1": {
      "model_module": "jupyter-leaflet",
      "model_module_version": "^0.13.2",
      "model_name": "LeafletCircleModel",
      "state": {
       "_model_module_version": "^0.13.2",
       "_view_module_version": "^0.13.2",
       "fill_color": "green",
       "fill_opacity": 1,
       "location": [
        -26.87,
        -60.45
       ],
       "options": [
        "class_name",
        "color",
        "dash_array",
        "fill",
        "fill_color",
        "fill_opacity",
        "line_cap",
        "line_join",
        "opacity",
        "pointer_events",
        "radius",
        "stroke",
        "weight"
       ],
       "radius": 30000,
       "stroke": false
      }
     },
     "e81f3d867a9c4ac58292a8b9523ac3e5": {
      "model_module": "jupyter-leaflet",
      "model_module_version": "^0.13.2",
      "model_name": "LeafletZoomControlModel",
      "state": {
       "_model_module_version": "^0.13.2",
       "_view_module_version": "^0.13.2",
       "options": [
        "position",
        "zoom_in_text",
        "zoom_in_title",
        "zoom_out_text",
        "zoom_out_title"
       ]
      }
     },
     "e8a37e597a5a419fbb8dd92a7844429d": {
      "model_module": "jupyter-leaflet",
      "model_module_version": "^0.13.2",
      "model_name": "LeafletCircleModel",
      "state": {
       "_model_module_version": "^0.13.2",
       "_view_module_version": "^0.13.2",
       "fill_color": "orange",
       "fill_opacity": 1,
       "location": [
        -35.9692,
        -62.7262
       ],
       "options": [
        "class_name",
        "color",
        "dash_array",
        "fill",
        "fill_color",
        "fill_opacity",
        "line_cap",
        "line_join",
        "opacity",
        "pointer_events",
        "radius",
        "stroke",
        "weight"
       ],
       "radius": 30000,
       "stroke": false
      }
     },
     "e8d57adf78054e32b0591042bee7b243": {
      "model_module": "jupyter-leaflet",
      "model_module_version": "^0.13.2",
      "model_name": "LeafletCircleModel",
      "state": {
       "_model_module_version": "^0.13.2",
       "_view_module_version": "^0.13.2",
       "fill_color": "green",
       "fill_opacity": 1,
       "location": [
        -30.86,
        -64.52
       ],
       "options": [
        "class_name",
        "color",
        "dash_array",
        "fill",
        "fill_color",
        "fill_opacity",
        "line_cap",
        "line_join",
        "opacity",
        "pointer_events",
        "radius",
        "stroke",
        "weight"
       ],
       "radius": 30000,
       "stroke": false
      }
     },
     "e8f92148b6294e129b80a17652d3122d": {
      "model_module": "jupyter-leaflet",
      "model_module_version": "^0.13.2",
      "model_name": "LeafletCircleModel",
      "state": {
       "_model_module_version": "^0.13.2",
       "_view_module_version": "^0.13.2",
       "fill_color": "green",
       "fill_opacity": 1,
       "location": [
        -38.8786,
        -63.1263
       ],
       "options": [
        "class_name",
        "color",
        "dash_array",
        "fill",
        "fill_color",
        "fill_opacity",
        "line_cap",
        "line_join",
        "opacity",
        "pointer_events",
        "radius",
        "stroke",
        "weight"
       ],
       "radius": 30000,
       "stroke": false
      }
     },
     "ea3e5338152245d19db33ec9bd18231e": {
      "model_module": "jupyter-leaflet",
      "model_module_version": "^0.13.2",
      "model_name": "LeafletCircleModel",
      "state": {
       "_model_module_version": "^0.13.2",
       "_view_module_version": "^0.13.2",
       "fill_color": "green",
       "fill_opacity": 1,
       "location": [
        -31.83,
        -60.52
       ],
       "options": [
        "class_name",
        "color",
        "dash_array",
        "fill",
        "fill_color",
        "fill_opacity",
        "line_cap",
        "line_join",
        "opacity",
        "pointer_events",
        "radius",
        "stroke",
        "weight"
       ],
       "radius": 30000,
       "stroke": false
      }
     },
     "ea95ea75695049a588e7dcfb13ea0ab3": {
      "model_module": "jupyter-leaflet",
      "model_module_version": "^0.13.2",
      "model_name": "LeafletCircleModel",
      "state": {
       "_model_module_version": "^0.13.2",
       "_view_module_version": "^0.13.2",
       "fill_color": "green",
       "fill_opacity": 1,
       "location": [
        -22.83,
        -65.85
       ],
       "options": [
        "class_name",
        "color",
        "dash_array",
        "fill",
        "fill_color",
        "fill_opacity",
        "line_cap",
        "line_join",
        "opacity",
        "pointer_events",
        "radius",
        "stroke",
        "weight"
       ],
       "radius": 30000,
       "stroke": false
      }
     },
     "ebe2e3d5b2914887a1633721859408b4": {
      "model_module": "jupyter-leaflet",
      "model_module_version": "^0.13.2",
      "model_name": "LeafletCircleModel",
      "state": {
       "_model_module_version": "^0.13.2",
       "_view_module_version": "^0.13.2",
       "fill_color": "green",
       "fill_opacity": 1,
       "location": [
        -45.7923,
        -67.4619
       ],
       "options": [
        "class_name",
        "color",
        "dash_array",
        "fill",
        "fill_color",
        "fill_opacity",
        "line_cap",
        "line_join",
        "opacity",
        "pointer_events",
        "radius",
        "stroke",
        "weight"
       ],
       "radius": 30000,
       "stroke": false
      }
     },
     "ef6438d2c8954f55ab03a3c00d64108c": {
      "model_module": "jupyter-leaflet",
      "model_module_version": "^0.13.2",
      "model_name": "LeafletCircleModel",
      "state": {
       "_model_module_version": "^0.13.2",
       "_view_module_version": "^0.13.2",
       "fill_color": "orange",
       "fill_opacity": 1,
       "location": [
        -36.832,
        -59.8864
       ],
       "options": [
        "class_name",
        "color",
        "dash_array",
        "fill",
        "fill_color",
        "fill_opacity",
        "line_cap",
        "line_join",
        "opacity",
        "pointer_events",
        "radius",
        "stroke",
        "weight"
       ],
       "radius": 30000,
       "stroke": false
      }
     },
     "ef79b6dcf20b435982d855a995520302": {
      "model_module": "jupyter-leaflet",
      "model_module_version": "^0.13.2",
      "model_name": "LeafletCircleModel",
      "state": {
       "_model_module_version": "^0.13.2",
       "_view_module_version": "^0.13.2",
       "fill_color": "green",
       "fill_opacity": 1,
       "location": [
        -40.6633,
        -62.8858
       ],
       "options": [
        "class_name",
        "color",
        "dash_array",
        "fill",
        "fill_color",
        "fill_opacity",
        "line_cap",
        "line_join",
        "opacity",
        "pointer_events",
        "radius",
        "stroke",
        "weight"
       ],
       "radius": 30000,
       "stroke": false
      }
     },
     "f12251c85e834919b6dfc81148bc05ec": {
      "model_module": "jupyter-leaflet",
      "model_module_version": "^0.13.2",
      "model_name": "LeafletCircleModel",
      "state": {
       "_model_module_version": "^0.13.2",
       "_view_module_version": "^0.13.2",
       "fill_color": "green",
       "fill_opacity": 1,
       "location": [
        -43.2089,
        -65.2821
       ],
       "options": [
        "class_name",
        "color",
        "dash_array",
        "fill",
        "fill_color",
        "fill_opacity",
        "line_cap",
        "line_join",
        "opacity",
        "pointer_events",
        "radius",
        "stroke",
        "weight"
       ],
       "radius": 30000,
       "stroke": false
      }
     },
     "f40547cb71f8486d8e2549b3490d641c": {
      "model_module": "jupyter-leaflet",
      "model_module_version": "^0.13.2",
      "model_name": "LeafletCircleModel",
      "state": {
       "_model_module_version": "^0.13.2",
       "_view_module_version": "^0.13.2",
       "fill_color": "green",
       "fill_opacity": 1,
       "location": [
        -24.7024,
        -60.5941
       ],
       "options": [
        "class_name",
        "color",
        "dash_array",
        "fill",
        "fill_color",
        "fill_opacity",
        "line_cap",
        "line_join",
        "opacity",
        "pointer_events",
        "radius",
        "stroke",
        "weight"
       ],
       "radius": 30000,
       "stroke": false
      }
     },
     "f4ec472f5919465898df83a57d8543fa": {
      "model_module": "jupyter-leaflet",
      "model_module_version": "^0.13.2",
      "model_name": "LeafletMapModel",
      "state": {
       "_model_module_version": "^0.13.2",
       "_view_module_version": "^0.13.2",
       "bottom": 5246,
       "center": [
        -38.47939467327644,
        -64.02832031250001
       ],
       "controls": [
        "IPY_MODEL_e81f3d867a9c4ac58292a8b9523ac3e5",
        "IPY_MODEL_a5d3939840e14d9a8e2206f186497a53"
       ],
       "default_style": "IPY_MODEL_526116e3711240ed88c97403ea433d8c",
       "dragging_style": "IPY_MODEL_13426075d83f468e84ba66cbf2b275a4",
       "east": -37.26562500000001,
       "fullscreen": false,
       "interpolation": "bilinear",
       "layers": [
        "IPY_MODEL_9a1c140bcd304cdca7806b45e7c2e6bd",
        "IPY_MODEL_fa82f94a3d884c1ba1f2f3fede9c7de1",
        "IPY_MODEL_c46f5ea4249c4a38bf57322c8f075d19",
        "IPY_MODEL_932f1e3bd9e34ceda69f21ea8fa4418e",
        "IPY_MODEL_e7ecc23d9f4c4b27a7ad191d77e46fa1",
        "IPY_MODEL_b3221812e7684ccba1f76703562c635b",
        "IPY_MODEL_2be045d6fbe24da58f290bfe2f02e3c6",
        "IPY_MODEL_0e2f52085bb448fd8939996eae84d8b7",
        "IPY_MODEL_b34a5a85dc744b7eac3acb1ca628f637",
        "IPY_MODEL_ff5eebc194b04be084b770019c2d98d3",
        "IPY_MODEL_5507656d07fa45f6a57992fdbe224354",
        "IPY_MODEL_507dbb795ab147ab88d62391e06c1aeb",
        "IPY_MODEL_64f8953fe46a4dfeab4bd1fddea10d0b",
        "IPY_MODEL_842417880d514bcfb2dd850345103289",
        "IPY_MODEL_2dfd633a6b404765b2caae8d420f0136",
        "IPY_MODEL_ce862e782a5d40c09a2b2dc9c580be66",
        "IPY_MODEL_0cd34ff974a84d2da14f10c48eb69ef2",
        "IPY_MODEL_f40547cb71f8486d8e2549b3490d641c",
        "IPY_MODEL_4786a9c383a54a708c236e0ee7c35023",
        "IPY_MODEL_d6fdce821bf54d758aef7f214350c0a4",
        "IPY_MODEL_0db197dce56e42bba49ad1ce0356f8b4",
        "IPY_MODEL_d22e816d52eb4f6fa63f2543402a287b",
        "IPY_MODEL_e672bb5c835d42c2a68de1ffd4f5ac8a",
        "IPY_MODEL_88d25aea40ed4ade8369428c20900eb9",
        "IPY_MODEL_044914f1cc1147738880bc0c91c4f5b1",
        "IPY_MODEL_b38df43895a84001a4da98b8b6c63f73",
        "IPY_MODEL_bef00e668da94e0f86667eb53b2cbbeb",
        "IPY_MODEL_9030f82cd37c4ea99d6ecf889947a624",
        "IPY_MODEL_8123e587d7e5427a9a6801602d220106",
        "IPY_MODEL_6c00303eb3584094823853db757e7382",
        "IPY_MODEL_826a8446e0614d949c7a7dadb8a4ab45",
        "IPY_MODEL_6fa5f284ce1b48f19ae422d537e4d662",
        "IPY_MODEL_2d56d43833ae4f56b27d26cd4711f1ba",
        "IPY_MODEL_8bfcf15eb4544db2a9e046ecd7551384",
        "IPY_MODEL_5814337782784b849780625fa7a3c0af",
        "IPY_MODEL_e57131a5a16f4c8f92a71e3b4e8ba89e",
        "IPY_MODEL_3c6c28ad4100458fb54113ac82825333",
        "IPY_MODEL_ce4b978985c24921bac857764950a9e1",
        "IPY_MODEL_deded1da451944aa9a96e93d5d790dfe",
        "IPY_MODEL_c59548f745524deca1a479f65efb2274",
        "IPY_MODEL_d9a58cbf98b149ab91c22c8d862e04fb",
        "IPY_MODEL_8a8facdce6fa4efe9014f83389270c53",
        "IPY_MODEL_4f9ddff06f254cb3b380a4c1e5ccf0a4",
        "IPY_MODEL_bb241b44c5f644bbb86e0c91d8b4bb06",
        "IPY_MODEL_56bc86409cbd4b67ad61359338c03b5a",
        "IPY_MODEL_62ad27f8985344b69f8eecbf3eb9534a",
        "IPY_MODEL_d4954959e70e4021bd1ea4a1ac763c3b",
        "IPY_MODEL_d63bfcd3cd0d4f1183c234054bf8a1cf",
        "IPY_MODEL_282a293dac3e4368a2e327e5f64e79d6",
        "IPY_MODEL_ea3e5338152245d19db33ec9bd18231e",
        "IPY_MODEL_2a79b7dbfeb94d44afe76b06c7aa8f59",
        "IPY_MODEL_e3ca39ae302144ef9152cb46aa506c18",
        "IPY_MODEL_313950c69d4d4dc68f66161639ed0a37",
        "IPY_MODEL_fc943a4ce1804cf18150cd123662fe30",
        "IPY_MODEL_09290f8ff08f4408a7b422eeefeb922d",
        "IPY_MODEL_deb7d415e6814507be617a67d6b3cf9b",
        "IPY_MODEL_5cbd21d192e948e9aec8332cd055286e",
        "IPY_MODEL_4c6b3a6d258e4a55b2f83adfc5a79c24",
        "IPY_MODEL_56dc7088a6494ef0b824b48cf8755186",
        "IPY_MODEL_239224803643402780baeeb9947c339d",
        "IPY_MODEL_fc204335b5dd4a82bc6faf8767033fd3",
        "IPY_MODEL_08304d51b1c54063b0adaedf3cfe9f72",
        "IPY_MODEL_cc2be56784674f6084f18380703ec4ab",
        "IPY_MODEL_bc2c8dd14d8d453ab2e6fd53ffa44306",
        "IPY_MODEL_54ba3fbef94b46228cb266c7f34833bc",
        "IPY_MODEL_61a8095f86934987a3ed693f2271c5c0",
        "IPY_MODEL_6a7ddbe53101442992dce2b0c99ac7f9",
        "IPY_MODEL_e406e17e97f44083b1149bc2fceb076c",
        "IPY_MODEL_a18dcf02d44f4e9f852432ec0f92c249",
        "IPY_MODEL_853b51eaba744b23a1c8a7d98cd18c35",
        "IPY_MODEL_65cd6790d16344f5815f535452c43313",
        "IPY_MODEL_1df439cd23c44b3bb1e3d041c6faf655",
        "IPY_MODEL_3bac2063f0b24c22972d61d44ae1f44e",
        "IPY_MODEL_62299e84e22f45c18aef3aa4107a5a5d",
        "IPY_MODEL_5515436779cf46b7ab3dea88667acd8c",
        "IPY_MODEL_693b9b7a47084c4d9c6a78ad3aad1570",
        "IPY_MODEL_4083851862164008acd695de62bf6212",
        "IPY_MODEL_05951e8b70c44bec970c6ba8c1780384",
        "IPY_MODEL_1730ef9940fa4931bd0e322f238e2b30",
        "IPY_MODEL_8689173c789f4fe1b0669da700522483",
        "IPY_MODEL_26f16b861d1f4dbf8930b74f511cf708",
        "IPY_MODEL_9c05b4b3e718413b9f82867a3b5a9625",
        "IPY_MODEL_e43a4cf59ec2402bba4e259ae80203ef",
        "IPY_MODEL_93db3b89806d4864987b6e587883c342",
        "IPY_MODEL_8fc0dfb458e9408aa4ae6d3c4833a1d6",
        "IPY_MODEL_247c1fecd08245b2a8e43c7c64640791",
        "IPY_MODEL_d267174674f24af9be66dee8a7224fd9",
        "IPY_MODEL_c7772d0b0ec141b89fba4bfa578eda90",
        "IPY_MODEL_58d742a7c9634acba5aeed2165c22858",
        "IPY_MODEL_dd83fd923b7c4dbcb555dc8ce7ccd8c3",
        "IPY_MODEL_872a0ae291b349e689116fae7cfb737d",
        "IPY_MODEL_6f474cc8cd414bf298b7cc41e3d1f6bf",
        "IPY_MODEL_4b647c83d80e42a5b7de3f2a2beb67b7",
        "IPY_MODEL_14c2cba7dfc0421d8f1f9ee025246095",
        "IPY_MODEL_d240f363d08d45bcb8ce9eebc67cfb64",
        "IPY_MODEL_9c0cf2314b4b4c1e971506094bd2724c",
        "IPY_MODEL_2282f4c007db4fee98906ac1fd2b5dcb",
        "IPY_MODEL_b3236190bbff4ec796506697a0511b79",
        "IPY_MODEL_8b4b6d98831e409a94d90642df4e40ac",
        "IPY_MODEL_42c5368eb0724491a75908d27d9a2e89",
        "IPY_MODEL_48f90f1e73e545c99a17749748e5681b",
        "IPY_MODEL_7c1c1d1a54cb4e93864738bf9cf9337c",
        "IPY_MODEL_b25a7869aa434198b305277de5fa6094",
        "IPY_MODEL_ef6438d2c8954f55ab03a3c00d64108c",
        "IPY_MODEL_9ced5c40555c4d58976571930a22bd40",
        "IPY_MODEL_9e635f4b6df44a9290fd326da5798b89",
        "IPY_MODEL_9c7deba725354f368798c7fcc7d48b6f",
        "IPY_MODEL_e6d0f9c3776e4596b835fc6f82dda0d4",
        "IPY_MODEL_db1660ee1a7a48a986b2dcd601caf10a",
        "IPY_MODEL_762febb7e1b941bb838f48d0c5e5e5ec",
        "IPY_MODEL_cf1943adb25747e5b49dccc6c0a76bcb",
        "IPY_MODEL_2c4a3bfe64b245389efdb547fe178a1e",
        "IPY_MODEL_790a66b0cc654833a6a50ca835b1c3e9",
        "IPY_MODEL_fadb3be28c3d457bbcff2b2cd6b8bf5d",
        "IPY_MODEL_bb3874968d8d43d38aed501a4bc7fdc1",
        "IPY_MODEL_5240ab0e58f449ecaa42f55cb2834310",
        "IPY_MODEL_b57af9a73e0540d9b42d4c50d921aa1d",
        "IPY_MODEL_8ff2175071b14b45973c93ce4fcc4583",
        "IPY_MODEL_c52bee297952417cb59ab60327de340b",
        "IPY_MODEL_4f73d63eb71f4efa9caced2b3d01462a",
        "IPY_MODEL_7a5641922ae347eba3851ad848794a9d",
        "IPY_MODEL_d431f1e22440491bb72e0cab1522edce",
        "IPY_MODEL_87240096aa6649c781adf6de4f278436",
        "IPY_MODEL_361064b412fd43de986d2922cdb2832d",
        "IPY_MODEL_d6c6235ec1c44c2eaa509242a33cb857",
        "IPY_MODEL_a468fa74ce8148a69b86367fcddd3004",
        "IPY_MODEL_f12251c85e834919b6dfc81148bc05ec",
        "IPY_MODEL_4a539375d50d4ec68cbeccce576806dc",
        "IPY_MODEL_ebe2e3d5b2914887a1633721859408b4",
        "IPY_MODEL_c3a05e3200c145d890c7780c897aa639",
        "IPY_MODEL_9ac1a606d95549e1bda7ec6ec49b82a0",
        "IPY_MODEL_b8dcba777c6f48d493d0736872a742c5",
        "IPY_MODEL_bb80c205773540ad83bbe4bad75e6499",
        "IPY_MODEL_5acf5281778f4fcda8f11a4c24ac85c9",
        "IPY_MODEL_7927fb4d98e74914806423cfb9ea7305",
        "IPY_MODEL_04a16f87e50640cdae9e00b75944b650",
        "IPY_MODEL_b7bca17f0ef34b3781f27840837b495f",
        "IPY_MODEL_c6458b74981647d3816c065d4b5c3723",
        "IPY_MODEL_a5354433efd74deb91ab30fd9aba1f6c",
        "IPY_MODEL_e8d57adf78054e32b0591042bee7b243",
        "IPY_MODEL_205a20a9cee24141b3d98cc21456b273",
        "IPY_MODEL_7ac7c414febe48c7bfa35f5ba1056850",
        "IPY_MODEL_8efddc616cf04b5c9c1bbf2325d6c54a",
        "IPY_MODEL_6ca153acd2f245ddacd5f87ffe4d7923",
        "IPY_MODEL_6d72d3d1cea34dd0b6bb90c701cae054",
        "IPY_MODEL_c424bd6eeada4f90a692601d1d47f602",
        "IPY_MODEL_e0f4182e024e40ca9ff094a5882cff46",
        "IPY_MODEL_af7634081c0642bcadb56f6c0a7040b8",
        "IPY_MODEL_de0b03320d6644b2a6627e75ab04befd",
        "IPY_MODEL_c44cf23d7f1a45379bb110e0813cb60a",
        "IPY_MODEL_879d659e2fcd40d7a2ec92012c6ab5aa",
        "IPY_MODEL_ddd4c135ec244b57a383147df110b9a5",
        "IPY_MODEL_85fcbd386d534c19b6800df9f3db6685",
        "IPY_MODEL_ab2c256cf28241dd90e863fe74175d61",
        "IPY_MODEL_8c717907c77e4f1aa4e31f843e02603e",
        "IPY_MODEL_a924fd5d6ee242d6bf8dc68c2b45eda6",
        "IPY_MODEL_4370617fac4b450f99d93222b6a62280",
        "IPY_MODEL_5220db177f9b4b9096d6c8ec6f93d482",
        "IPY_MODEL_72a438356d9d4865ac665006e9ae407e",
        "IPY_MODEL_d1215585921b409599cde047b8bac5e2",
        "IPY_MODEL_e8a37e597a5a419fbb8dd92a7844429d",
        "IPY_MODEL_24fa3f8cf0a046ed96b5d0c25c8d0dd1",
        "IPY_MODEL_3fb465f1dcd54988b98ed8da340e685f",
        "IPY_MODEL_5e259dfa8ce74d4885d052ce5bf40aa9",
        "IPY_MODEL_e8f92148b6294e129b80a17652d3122d",
        "IPY_MODEL_7743902f861f438092d79519696ed854",
        "IPY_MODEL_0a4eee21c0d948a2ba1ef9afbccee1af",
        "IPY_MODEL_ef79b6dcf20b435982d855a995520302",
        "IPY_MODEL_f5c9b79b1f1e4ddc8e9327157de55917",
        "IPY_MODEL_670871216178411d9a107274b86e775e",
        "IPY_MODEL_74ed7c7d761e44c58bfcbe74e1717e10",
        "IPY_MODEL_3cebe39a5d704ef5a2c044a04bc91d54",
        "IPY_MODEL_bfab87080a8f4109aa111677c56429a5",
        "IPY_MODEL_0813e48ee6594c898cffd25c7d478462",
        "IPY_MODEL_adb27aea69f848b2b71efafb116fafce",
        "IPY_MODEL_836341f02a574d0bafd9ca0a763e1ce8",
        "IPY_MODEL_6c96656322c74a9c9bb67184bfbaf1cc",
        "IPY_MODEL_382c7dd50598468eb8478d2af7b8fe38",
        "IPY_MODEL_546f19899d0f406ea0c3da5b2aaa3fec",
        "IPY_MODEL_0acbb9442ca1410a88bc51f3cc945cf1",
        "IPY_MODEL_8a87c47ea2be4ddaa15112ea0cb9d4d6",
        "IPY_MODEL_d5d699cf1b6e4cd788cc5313929b68a3",
        "IPY_MODEL_d7a75fb61abf4a818e1979eca57a0787",
        "IPY_MODEL_007c314056124838b846da6a36b79421",
        "IPY_MODEL_38b7a73d663e4715b297e4f030437aeb",
        "IPY_MODEL_bd2a0cb46e394017b3ca37411f4c0136",
        "IPY_MODEL_2c45c4e3074e4f72bbb8bd4c639cfe31",
        "IPY_MODEL_368795f8885b42d5909af6cde087f0bd",
        "IPY_MODEL_5b91d55a29d94ddc9b4af89720d1ce9a",
        "IPY_MODEL_0d97a31379ab421aa4ea244977561d13",
        "IPY_MODEL_6545d945b666462b9e0ea5952ea3cf2d",
        "IPY_MODEL_1c87ac5b1ed2423599146f4ad1c6dd1e",
        "IPY_MODEL_d22dbc74b68d4fa283437f50285de34f",
        "IPY_MODEL_609657a46fb24a9c810bca177055fb82",
        "IPY_MODEL_e740e1b1ccf14356b8a44500b0db1e3b",
        "IPY_MODEL_ae8e27280f6f42fd8bf09ed318fb6e91",
        "IPY_MODEL_5d5b0bd4b1254afcbdc709731d77e0d2",
        "IPY_MODEL_295f9e5115b14e5ca4594278bbfe6ad2",
        "IPY_MODEL_ba2e438b3bcc4ee4a6e98258c1ccd750",
        "IPY_MODEL_e3942cc4c8774b3199cb1399f7128525",
        "IPY_MODEL_9574de4463454976a4a8b01ec31df5d4",
        "IPY_MODEL_85d77f5149bb43968fcfe04c396ab02a",
        "IPY_MODEL_b2240b51af324dafa1efc2a8506cc6e7",
        "IPY_MODEL_a65e5a44d6eb4561b52c1febd67d4144",
        "IPY_MODEL_6477250a4a4e45bdb1d4c722ba77e6a5",
        "IPY_MODEL_506df2fc8b9b48dd9e6d7c3f74972e92",
        "IPY_MODEL_0e23bdf1ed1d47049716b04bdd98a15d",
        "IPY_MODEL_39d072de7dd84f7ca1e9c834dc019c80",
        "IPY_MODEL_e33df184506345edb873887a15353b41",
        "IPY_MODEL_de928f9e1cb549ba9667cefd59cbf3b4",
        "IPY_MODEL_1c046f65b77d4432a11089a333f598d9",
        "IPY_MODEL_2bc1301ec67f49f4af1d2cf67fffacdf",
        "IPY_MODEL_da4b2cfa7489408ba3dfbbe69d42961c",
        "IPY_MODEL_761f1b03bc0a4f3980aa1b6171b59ee8",
        "IPY_MODEL_f68c2ef645c043b39bf2ef9b56263852",
        "IPY_MODEL_7eca766905d04c9b98e4f189f50b237b",
        "IPY_MODEL_2af227c158f94f61aeffce9ab068044e",
        "IPY_MODEL_ea95ea75695049a588e7dcfb13ea0ab3",
        "IPY_MODEL_1f92c407208e4c20b193cb601d193f0e",
        "IPY_MODEL_24860fa1d2ec44b7ab0238b89ce2ed5f",
        "IPY_MODEL_d2cf7238b1744c9c9e6a06e5987962ba",
        "IPY_MODEL_2f622b462d2a46c3b1c2f38c02ab4f21",
        "IPY_MODEL_4805087177a6455ca4565b0d9a44e135",
        "IPY_MODEL_0067553ccf6a4756b763b957321c4ca1",
        "IPY_MODEL_0b7f8400d014405eb847fb75c6cdb819",
        "IPY_MODEL_c9ee9f6ed8dc40e3b369475efab76d61",
        "IPY_MODEL_c09f5fb9599a4255ace6c475734c10f6",
        "IPY_MODEL_2a79d98541d54f2889d9ffab38bd9697",
        "IPY_MODEL_95fd68dd696c43afbfbe029126bdedb6",
        "IPY_MODEL_2f54664c284b4e5481751022f375b9bf",
        "IPY_MODEL_cda9acf1ca3e493fb8d5b983204c1316",
        "IPY_MODEL_7690c0620976494b93466252be6858b0",
        "IPY_MODEL_9f7024b4cf3344988a946f89d6b28b9c"
       ],
       "layout": "IPY_MODEL_104005fc355346cd83eaac943c0cef39",
       "left": 2031,
       "modisdate": "yesterday",
       "north": -31.278550858946517,
       "options": [
        "bounce_at_zoom_limits",
        "box_zoom",
        "center",
        "close_popup_on_click",
        "double_click_zoom",
        "dragging",
        "fullscreen",
        "inertia",
        "inertia_deceleration",
        "inertia_max_speed",
        "interpolation",
        "keyboard",
        "keyboard_pan_offset",
        "keyboard_zoom_offset",
        "max_zoom",
        "min_zoom",
        "scroll_wheel_zoom",
        "tap",
        "tap_tolerance",
        "touch_zoom",
        "world_copy_jump",
        "zoom",
        "zoom_animation_threshold",
        "zoom_delta",
        "zoom_snap",
        "zoom_start"
       ],
       "right": 3248,
       "south": -45.02695045318545,
       "style": "IPY_MODEL_526116e3711240ed88c97403ea433d8c",
       "top": 4846,
       "west": -90.74707031250001,
       "window_url": "http://localhost:8889/lab",
       "zoom": 5
      }
     },
     "f5c9b79b1f1e4ddc8e9327157de55917": {
      "model_module": "jupyter-leaflet",
      "model_module_version": "^0.13.2",
      "model_name": "LeafletCircleModel",
      "state": {
       "_model_module_version": "^0.13.2",
       "_view_module_version": "^0.13.2",
       "fill_color": "green",
       "fill_opacity": 1,
       "location": [
        -40.7627,
        -62.2693
       ],
       "options": [
        "class_name",
        "color",
        "dash_array",
        "fill",
        "fill_color",
        "fill_opacity",
        "line_cap",
        "line_join",
        "opacity",
        "pointer_events",
        "radius",
        "stroke",
        "weight"
       ],
       "radius": 30000,
       "stroke": false
      }
     },
     "f68c2ef645c043b39bf2ef9b56263852": {
      "model_module": "jupyter-leaflet",
      "model_module_version": "^0.13.2",
      "model_name": "LeafletCircleModel",
      "state": {
       "_model_module_version": "^0.13.2",
       "_view_module_version": "^0.13.2",
       "fill_color": "green",
       "fill_opacity": 1,
       "location": [
        -90,
        0
       ],
       "options": [
        "class_name",
        "color",
        "dash_array",
        "fill",
        "fill_color",
        "fill_opacity",
        "line_cap",
        "line_join",
        "opacity",
        "pointer_events",
        "radius",
        "stroke",
        "weight"
       ],
       "radius": 30000,
       "stroke": false
      }
     },
     "fa82f94a3d884c1ba1f2f3fede9c7de1": {
      "model_module": "jupyter-leaflet",
      "model_module_version": "^0.13.2",
      "model_name": "LeafletCircleModel",
      "state": {
       "_model_module_version": "^0.13.2",
       "_view_module_version": "^0.13.2",
       "fill_color": "green",
       "fill_opacity": 1,
       "location": [
        -27.05,
        -65.42
       ],
       "options": [
        "class_name",
        "color",
        "dash_array",
        "fill",
        "fill_color",
        "fill_opacity",
        "line_cap",
        "line_join",
        "opacity",
        "pointer_events",
        "radius",
        "stroke",
        "weight"
       ],
       "radius": 30000,
       "stroke": false
      }
     },
     "fadb3be28c3d457bbcff2b2cd6b8bf5d": {
      "model_module": "jupyter-leaflet",
      "model_module_version": "^0.13.2",
      "model_name": "LeafletCircleModel",
      "state": {
       "_model_module_version": "^0.13.2",
       "_view_module_version": "^0.13.2",
       "fill_color": "green",
       "fill_opacity": 1,
       "location": [
        -38.952,
        -68.1367
       ],
       "options": [
        "class_name",
        "color",
        "dash_array",
        "fill",
        "fill_color",
        "fill_opacity",
        "line_cap",
        "line_join",
        "opacity",
        "pointer_events",
        "radius",
        "stroke",
        "weight"
       ],
       "radius": 30000,
       "stroke": false
      }
     },
     "fc204335b5dd4a82bc6faf8767033fd3": {
      "model_module": "jupyter-leaflet",
      "model_module_version": "^0.13.2",
      "model_name": "LeafletCircleModel",
      "state": {
       "_model_module_version": "^0.13.2",
       "_view_module_version": "^0.13.2",
       "fill_color": "green",
       "fill_opacity": 1,
       "location": [
        -31.3022,
        -58.0015
       ],
       "options": [
        "class_name",
        "color",
        "dash_array",
        "fill",
        "fill_color",
        "fill_opacity",
        "line_cap",
        "line_join",
        "opacity",
        "pointer_events",
        "radius",
        "stroke",
        "weight"
       ],
       "radius": 30000,
       "stroke": false
      }
     },
     "fc943a4ce1804cf18150cd123662fe30": {
      "model_module": "jupyter-leaflet",
      "model_module_version": "^0.13.2",
      "model_name": "LeafletCircleModel",
      "state": {
       "_model_module_version": "^0.13.2",
       "_view_module_version": "^0.13.2",
       "fill_color": "orange",
       "fill_opacity": 1,
       "location": [
        -33.93,
        -60.55
       ],
       "options": [
        "class_name",
        "color",
        "dash_array",
        "fill",
        "fill_color",
        "fill_opacity",
        "line_cap",
        "line_join",
        "opacity",
        "pointer_events",
        "radius",
        "stroke",
        "weight"
       ],
       "radius": 30000,
       "stroke": false
      }
     },
     "ff5eebc194b04be084b770019c2d98d3": {
      "model_module": "jupyter-leaflet",
      "model_module_version": "^0.13.2",
      "model_name": "LeafletCircleModel",
      "state": {
       "_model_module_version": "^0.13.2",
       "_view_module_version": "^0.13.2",
       "fill_color": "green",
       "fill_opacity": 1,
       "location": [
        -31.18,
        -61.55
       ],
       "options": [
        "class_name",
        "color",
        "dash_array",
        "fill",
        "fill_color",
        "fill_opacity",
        "line_cap",
        "line_join",
        "opacity",
        "pointer_events",
        "radius",
        "stroke",
        "weight"
       ],
       "radius": 30000,
       "stroke": false
      }
     }
    },
    "version_major": 2,
    "version_minor": 0
   }
  }
 },
 "nbformat": 4,
 "nbformat_minor": 4
}
